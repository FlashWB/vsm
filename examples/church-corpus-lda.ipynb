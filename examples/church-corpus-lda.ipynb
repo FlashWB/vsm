{
 "metadata": {
  "name": "",
  "signature": "sha256:5efc584efc27c6e4cb5723ba53ea54ab2046c56f65d6be1312c084f9ccdb6012"
 },
 "nbformat": 3,
 "nbformat_minor": 0,
 "worksheets": [
  {
   "cells": [
    {
     "cell_type": "code",
     "collapsed": false,
     "input": [
      "from vsm import *\n",
      "from vsm.ext.corpusbuilders import toy_corpus\n",
      "\n",
      "\n",
      "plain_corpus = \"\"\"\n",
      "His theology challenged the Pope of the Roman Catholic Church by\n",
      "teaching that the Bible is the only source of divinely revealed\n",
      "knowledge.\n",
      "\n",
      "Augustine is held in the Catholic Church to be the model teacher.\n",
      "\n",
      "Augustine was recognized as a Doctor of the Church by Pope Boniface\n",
      "VIII.\n",
      "\n",
      "Roman Catholic theology stated that faith alone cannot justify man.\n",
      "\n",
      "In the Catholic Church the Pope is regarded as the successor of Saint\n",
      "Peter.\n",
      "\n",
      "Alonzo Church was an American mathematician and logician who made\n",
      "major contributions to mathematical logic and the foundations of\n",
      "theoretical computer science.\n",
      "\n",
      "The lambda calculus was introduced by mathematician Alonzo Church as\n",
      "an investigation into the foundations of mathematics.\n",
      "\n",
      "The Church Turing thesis states that a function is algorithmically\n",
      "computable if and only if it is computable by a Turing machine.\n",
      "\n",
      "Mathematical logic has close connections to the foundations of\n",
      "mathematics, theoretical computer science.\n",
      "\n",
      "A Turing machine can be adapted to simulate the logic of any computer\n",
      "algorithm.\n",
      "\"\"\"\n",
      "\n",
      "metadata = ['Ecclesiastical ' + str(i) for i in xrange(1, 6)]\n",
      "\n",
      "metadata += ['Logic ' + str(i) for i in xrange(1, 6)]\n",
      "\n",
      "c = toy_corpus(plain_corpus, nltk_stop=True, metadata=metadata)\n",
      "\n",
      "m = LDAGibbs(c, context_type='document', K=2)\n",
      "\n",
      "m.train(itr=200)\n",
      "\n",
      "v = LdaCgsViewer(c, m)"
     ],
     "language": "python",
     "metadata": {},
     "outputs": [
      {
       "output_type": "stream",
       "stream": "stdout",
       "text": [
        "Removing stop words\n",
        "Rebuilding corpus\n",
        "Recomputing token breaks: document\n",
        "\r",
        "Iteration 0"
       ]
      },
      {
       "output_type": "stream",
       "stream": "stdout",
       "text": [
        "\r",
        "Iteration 1"
       ]
      },
      {
       "output_type": "stream",
       "stream": "stdout",
       "text": [
        "\r",
        "Iteration 2"
       ]
      },
      {
       "output_type": "stream",
       "stream": "stdout",
       "text": [
        "\r",
        "Iteration 3"
       ]
      },
      {
       "output_type": "stream",
       "stream": "stdout",
       "text": [
        "\r",
        "Iteration 4"
       ]
      },
      {
       "output_type": "stream",
       "stream": "stdout",
       "text": [
        "\r",
        "Iteration 5"
       ]
      },
      {
       "output_type": "stream",
       "stream": "stdout",
       "text": [
        "\r",
        "Iteration 6"
       ]
      },
      {
       "output_type": "stream",
       "stream": "stdout",
       "text": [
        "\r",
        "Iteration 7"
       ]
      },
      {
       "output_type": "stream",
       "stream": "stdout",
       "text": [
        "\r",
        "Iteration 8"
       ]
      },
      {
       "output_type": "stream",
       "stream": "stdout",
       "text": [
        "\r",
        "Iteration 9"
       ]
      },
      {
       "output_type": "stream",
       "stream": "stdout",
       "text": [
        "\r",
        "Iteration 10"
       ]
      },
      {
       "output_type": "stream",
       "stream": "stdout",
       "text": [
        "\r",
        "Iteration 11"
       ]
      },
      {
       "output_type": "stream",
       "stream": "stdout",
       "text": [
        "\r",
        "Iteration 12"
       ]
      },
      {
       "output_type": "stream",
       "stream": "stdout",
       "text": [
        "\r",
        "Iteration 13"
       ]
      },
      {
       "output_type": "stream",
       "stream": "stdout",
       "text": [
        "\r",
        "Iteration 14"
       ]
      },
      {
       "output_type": "stream",
       "stream": "stdout",
       "text": [
        "\r",
        "Iteration 15"
       ]
      },
      {
       "output_type": "stream",
       "stream": "stdout",
       "text": [
        "\r",
        "Iteration 16"
       ]
      },
      {
       "output_type": "stream",
       "stream": "stdout",
       "text": [
        "\r",
        "Iteration 17"
       ]
      },
      {
       "output_type": "stream",
       "stream": "stdout",
       "text": [
        "\r",
        "Iteration 18"
       ]
      },
      {
       "output_type": "stream",
       "stream": "stdout",
       "text": [
        "\r",
        "Iteration 19"
       ]
      },
      {
       "output_type": "stream",
       "stream": "stdout",
       "text": [
        "\r",
        "Iteration 20"
       ]
      },
      {
       "output_type": "stream",
       "stream": "stdout",
       "text": [
        "\r",
        "Iteration 21"
       ]
      },
      {
       "output_type": "stream",
       "stream": "stdout",
       "text": [
        "\r",
        "Iteration 22"
       ]
      },
      {
       "output_type": "stream",
       "stream": "stdout",
       "text": [
        "\r",
        "Iteration 23"
       ]
      },
      {
       "output_type": "stream",
       "stream": "stdout",
       "text": [
        "\r",
        "Iteration 24"
       ]
      },
      {
       "output_type": "stream",
       "stream": "stdout",
       "text": [
        "\r",
        "Iteration 25"
       ]
      },
      {
       "output_type": "stream",
       "stream": "stdout",
       "text": [
        "\r",
        "Iteration 26"
       ]
      },
      {
       "output_type": "stream",
       "stream": "stdout",
       "text": [
        "\r",
        "Iteration 27"
       ]
      },
      {
       "output_type": "stream",
       "stream": "stdout",
       "text": [
        "\r",
        "Iteration 28"
       ]
      },
      {
       "output_type": "stream",
       "stream": "stdout",
       "text": [
        "\r",
        "Iteration 29"
       ]
      },
      {
       "output_type": "stream",
       "stream": "stdout",
       "text": [
        "\r",
        "Iteration 30"
       ]
      },
      {
       "output_type": "stream",
       "stream": "stdout",
       "text": [
        "\r",
        "Iteration 31"
       ]
      },
      {
       "output_type": "stream",
       "stream": "stdout",
       "text": [
        "\r",
        "Iteration 32"
       ]
      },
      {
       "output_type": "stream",
       "stream": "stdout",
       "text": [
        "\r",
        "Iteration 33"
       ]
      },
      {
       "output_type": "stream",
       "stream": "stdout",
       "text": [
        "\r",
        "Iteration 34"
       ]
      },
      {
       "output_type": "stream",
       "stream": "stdout",
       "text": [
        "\r",
        "Iteration 35"
       ]
      },
      {
       "output_type": "stream",
       "stream": "stdout",
       "text": [
        "\r",
        "Iteration 36"
       ]
      },
      {
       "output_type": "stream",
       "stream": "stdout",
       "text": [
        "\r",
        "Iteration 37"
       ]
      },
      {
       "output_type": "stream",
       "stream": "stdout",
       "text": [
        "\r",
        "Iteration 38"
       ]
      },
      {
       "output_type": "stream",
       "stream": "stdout",
       "text": [
        "\r",
        "Iteration 39"
       ]
      },
      {
       "output_type": "stream",
       "stream": "stdout",
       "text": [
        "\r",
        "Iteration 40"
       ]
      },
      {
       "output_type": "stream",
       "stream": "stdout",
       "text": [
        "\r",
        "Iteration 41"
       ]
      },
      {
       "output_type": "stream",
       "stream": "stdout",
       "text": [
        "\r",
        "Iteration 42"
       ]
      },
      {
       "output_type": "stream",
       "stream": "stdout",
       "text": [
        "\r",
        "Iteration 43"
       ]
      },
      {
       "output_type": "stream",
       "stream": "stdout",
       "text": [
        "\r",
        "Iteration 44"
       ]
      },
      {
       "output_type": "stream",
       "stream": "stdout",
       "text": [
        "\r",
        "Iteration 45"
       ]
      },
      {
       "output_type": "stream",
       "stream": "stdout",
       "text": [
        "\r",
        "Iteration 46"
       ]
      },
      {
       "output_type": "stream",
       "stream": "stdout",
       "text": [
        "\r",
        "Iteration 47"
       ]
      },
      {
       "output_type": "stream",
       "stream": "stdout",
       "text": [
        "\r",
        "Iteration 48"
       ]
      },
      {
       "output_type": "stream",
       "stream": "stdout",
       "text": [
        "\r",
        "Iteration 49"
       ]
      },
      {
       "output_type": "stream",
       "stream": "stdout",
       "text": [
        "\r",
        "Iteration 50"
       ]
      },
      {
       "output_type": "stream",
       "stream": "stdout",
       "text": [
        "\r",
        "Iteration 51"
       ]
      },
      {
       "output_type": "stream",
       "stream": "stdout",
       "text": [
        "\r",
        "Iteration 52"
       ]
      },
      {
       "output_type": "stream",
       "stream": "stdout",
       "text": [
        "\r",
        "Iteration 53"
       ]
      },
      {
       "output_type": "stream",
       "stream": "stdout",
       "text": [
        "\r",
        "Iteration 54"
       ]
      },
      {
       "output_type": "stream",
       "stream": "stdout",
       "text": [
        "\r",
        "Iteration 55"
       ]
      },
      {
       "output_type": "stream",
       "stream": "stdout",
       "text": [
        "\r",
        "Iteration 56"
       ]
      },
      {
       "output_type": "stream",
       "stream": "stdout",
       "text": [
        "\r",
        "Iteration 57"
       ]
      },
      {
       "output_type": "stream",
       "stream": "stdout",
       "text": [
        "\r",
        "Iteration 58"
       ]
      },
      {
       "output_type": "stream",
       "stream": "stdout",
       "text": [
        "\r",
        "Iteration 59"
       ]
      },
      {
       "output_type": "stream",
       "stream": "stdout",
       "text": [
        "\r",
        "Iteration 60"
       ]
      },
      {
       "output_type": "stream",
       "stream": "stdout",
       "text": [
        "\r",
        "Iteration 61"
       ]
      },
      {
       "output_type": "stream",
       "stream": "stdout",
       "text": [
        "\r",
        "Iteration 62"
       ]
      },
      {
       "output_type": "stream",
       "stream": "stdout",
       "text": [
        "\r",
        "Iteration 63"
       ]
      },
      {
       "output_type": "stream",
       "stream": "stdout",
       "text": [
        "\r",
        "Iteration 64"
       ]
      },
      {
       "output_type": "stream",
       "stream": "stdout",
       "text": [
        "\r",
        "Iteration 65"
       ]
      },
      {
       "output_type": "stream",
       "stream": "stdout",
       "text": [
        "\r",
        "Iteration 66"
       ]
      },
      {
       "output_type": "stream",
       "stream": "stdout",
       "text": [
        "\r",
        "Iteration 67"
       ]
      },
      {
       "output_type": "stream",
       "stream": "stdout",
       "text": [
        "\r",
        "Iteration 68"
       ]
      },
      {
       "output_type": "stream",
       "stream": "stdout",
       "text": [
        "\r",
        "Iteration 69"
       ]
      },
      {
       "output_type": "stream",
       "stream": "stdout",
       "text": [
        "\r",
        "Iteration 70"
       ]
      },
      {
       "output_type": "stream",
       "stream": "stdout",
       "text": [
        "\r",
        "Iteration 71"
       ]
      },
      {
       "output_type": "stream",
       "stream": "stdout",
       "text": [
        "\r",
        "Iteration 72"
       ]
      },
      {
       "output_type": "stream",
       "stream": "stdout",
       "text": [
        "\r",
        "Iteration 73"
       ]
      },
      {
       "output_type": "stream",
       "stream": "stdout",
       "text": [
        "\r",
        "Iteration 74"
       ]
      },
      {
       "output_type": "stream",
       "stream": "stdout",
       "text": [
        "\r",
        "Iteration 75"
       ]
      },
      {
       "output_type": "stream",
       "stream": "stdout",
       "text": [
        "\r",
        "Iteration 76"
       ]
      },
      {
       "output_type": "stream",
       "stream": "stdout",
       "text": [
        "\r",
        "Iteration 77"
       ]
      },
      {
       "output_type": "stream",
       "stream": "stdout",
       "text": [
        "\r",
        "Iteration 78"
       ]
      },
      {
       "output_type": "stream",
       "stream": "stdout",
       "text": [
        "\r",
        "Iteration 79"
       ]
      },
      {
       "output_type": "stream",
       "stream": "stdout",
       "text": [
        "\r",
        "Iteration 80"
       ]
      },
      {
       "output_type": "stream",
       "stream": "stdout",
       "text": [
        "\r",
        "Iteration 81"
       ]
      },
      {
       "output_type": "stream",
       "stream": "stdout",
       "text": [
        "\r",
        "Iteration 82"
       ]
      },
      {
       "output_type": "stream",
       "stream": "stdout",
       "text": [
        "\r",
        "Iteration 83"
       ]
      },
      {
       "output_type": "stream",
       "stream": "stdout",
       "text": [
        "\r",
        "Iteration 84"
       ]
      },
      {
       "output_type": "stream",
       "stream": "stdout",
       "text": [
        "\r",
        "Iteration 85"
       ]
      },
      {
       "output_type": "stream",
       "stream": "stdout",
       "text": [
        "\r",
        "Iteration 86"
       ]
      },
      {
       "output_type": "stream",
       "stream": "stdout",
       "text": [
        "\r",
        "Iteration 87"
       ]
      },
      {
       "output_type": "stream",
       "stream": "stdout",
       "text": [
        "\r",
        "Iteration 88"
       ]
      },
      {
       "output_type": "stream",
       "stream": "stdout",
       "text": [
        "\r",
        "Iteration 89"
       ]
      },
      {
       "output_type": "stream",
       "stream": "stdout",
       "text": [
        "\r",
        "Iteration 90"
       ]
      },
      {
       "output_type": "stream",
       "stream": "stdout",
       "text": [
        "\r",
        "Iteration 91"
       ]
      },
      {
       "output_type": "stream",
       "stream": "stdout",
       "text": [
        "\r",
        "Iteration 92"
       ]
      },
      {
       "output_type": "stream",
       "stream": "stdout",
       "text": [
        "\r",
        "Iteration 93"
       ]
      },
      {
       "output_type": "stream",
       "stream": "stdout",
       "text": [
        "\r",
        "Iteration 94"
       ]
      },
      {
       "output_type": "stream",
       "stream": "stdout",
       "text": [
        "\r",
        "Iteration 95"
       ]
      },
      {
       "output_type": "stream",
       "stream": "stdout",
       "text": [
        "\r",
        "Iteration 96"
       ]
      },
      {
       "output_type": "stream",
       "stream": "stdout",
       "text": [
        "\r",
        "Iteration 97"
       ]
      },
      {
       "output_type": "stream",
       "stream": "stdout",
       "text": [
        "\r",
        "Iteration 98"
       ]
      },
      {
       "output_type": "stream",
       "stream": "stdout",
       "text": [
        "\r",
        "Iteration 99"
       ]
      },
      {
       "output_type": "stream",
       "stream": "stdout",
       "text": [
        "\r",
        "Iteration 100"
       ]
      },
      {
       "output_type": "stream",
       "stream": "stdout",
       "text": [
        "\r",
        "Iteration 101"
       ]
      },
      {
       "output_type": "stream",
       "stream": "stdout",
       "text": [
        "\r",
        "Iteration 102"
       ]
      },
      {
       "output_type": "stream",
       "stream": "stdout",
       "text": [
        "\r",
        "Iteration 103"
       ]
      },
      {
       "output_type": "stream",
       "stream": "stdout",
       "text": [
        "\r",
        "Iteration 104"
       ]
      },
      {
       "output_type": "stream",
       "stream": "stdout",
       "text": [
        "\r",
        "Iteration 105"
       ]
      },
      {
       "output_type": "stream",
       "stream": "stdout",
       "text": [
        "\r",
        "Iteration 106"
       ]
      },
      {
       "output_type": "stream",
       "stream": "stdout",
       "text": [
        "\r",
        "Iteration 107"
       ]
      },
      {
       "output_type": "stream",
       "stream": "stdout",
       "text": [
        "\r",
        "Iteration 108"
       ]
      },
      {
       "output_type": "stream",
       "stream": "stdout",
       "text": [
        "\r",
        "Iteration 109"
       ]
      },
      {
       "output_type": "stream",
       "stream": "stdout",
       "text": [
        "\r",
        "Iteration 110"
       ]
      },
      {
       "output_type": "stream",
       "stream": "stdout",
       "text": [
        "\r",
        "Iteration 111"
       ]
      },
      {
       "output_type": "stream",
       "stream": "stdout",
       "text": [
        "\r",
        "Iteration 112"
       ]
      },
      {
       "output_type": "stream",
       "stream": "stdout",
       "text": [
        "\r",
        "Iteration 113"
       ]
      },
      {
       "output_type": "stream",
       "stream": "stdout",
       "text": [
        "\r",
        "Iteration 114"
       ]
      },
      {
       "output_type": "stream",
       "stream": "stdout",
       "text": [
        "\r",
        "Iteration 115"
       ]
      },
      {
       "output_type": "stream",
       "stream": "stdout",
       "text": [
        "\r",
        "Iteration 116"
       ]
      },
      {
       "output_type": "stream",
       "stream": "stdout",
       "text": [
        "\r",
        "Iteration 117"
       ]
      },
      {
       "output_type": "stream",
       "stream": "stdout",
       "text": [
        "\r",
        "Iteration 118"
       ]
      },
      {
       "output_type": "stream",
       "stream": "stdout",
       "text": [
        "\r",
        "Iteration 119"
       ]
      },
      {
       "output_type": "stream",
       "stream": "stdout",
       "text": [
        "\r",
        "Iteration 120"
       ]
      },
      {
       "output_type": "stream",
       "stream": "stdout",
       "text": [
        "\r",
        "Iteration 121"
       ]
      },
      {
       "output_type": "stream",
       "stream": "stdout",
       "text": [
        "\r",
        "Iteration 122"
       ]
      },
      {
       "output_type": "stream",
       "stream": "stdout",
       "text": [
        "\r",
        "Iteration 123"
       ]
      },
      {
       "output_type": "stream",
       "stream": "stdout",
       "text": [
        "\r",
        "Iteration 124"
       ]
      },
      {
       "output_type": "stream",
       "stream": "stdout",
       "text": [
        "\r",
        "Iteration 125"
       ]
      },
      {
       "output_type": "stream",
       "stream": "stdout",
       "text": [
        "\r",
        "Iteration 126"
       ]
      },
      {
       "output_type": "stream",
       "stream": "stdout",
       "text": [
        "\r",
        "Iteration 127"
       ]
      },
      {
       "output_type": "stream",
       "stream": "stdout",
       "text": [
        "\r",
        "Iteration 128"
       ]
      },
      {
       "output_type": "stream",
       "stream": "stdout",
       "text": [
        "\r",
        "Iteration 129"
       ]
      },
      {
       "output_type": "stream",
       "stream": "stdout",
       "text": [
        "\r",
        "Iteration 130"
       ]
      },
      {
       "output_type": "stream",
       "stream": "stdout",
       "text": [
        "\r",
        "Iteration 131"
       ]
      },
      {
       "output_type": "stream",
       "stream": "stdout",
       "text": [
        "\r",
        "Iteration 132"
       ]
      },
      {
       "output_type": "stream",
       "stream": "stdout",
       "text": [
        "\r",
        "Iteration 133"
       ]
      },
      {
       "output_type": "stream",
       "stream": "stdout",
       "text": [
        "\r",
        "Iteration 134"
       ]
      },
      {
       "output_type": "stream",
       "stream": "stdout",
       "text": [
        "\r",
        "Iteration 135"
       ]
      },
      {
       "output_type": "stream",
       "stream": "stdout",
       "text": [
        "\r",
        "Iteration 136"
       ]
      },
      {
       "output_type": "stream",
       "stream": "stdout",
       "text": [
        "\r",
        "Iteration 137"
       ]
      },
      {
       "output_type": "stream",
       "stream": "stdout",
       "text": [
        "\r",
        "Iteration 138"
       ]
      },
      {
       "output_type": "stream",
       "stream": "stdout",
       "text": [
        "\r",
        "Iteration 139"
       ]
      },
      {
       "output_type": "stream",
       "stream": "stdout",
       "text": [
        "\r",
        "Iteration 140"
       ]
      },
      {
       "output_type": "stream",
       "stream": "stdout",
       "text": [
        "\r",
        "Iteration 141"
       ]
      },
      {
       "output_type": "stream",
       "stream": "stdout",
       "text": [
        "\r",
        "Iteration 142"
       ]
      },
      {
       "output_type": "stream",
       "stream": "stdout",
       "text": [
        "\r",
        "Iteration 143"
       ]
      },
      {
       "output_type": "stream",
       "stream": "stdout",
       "text": [
        "\r",
        "Iteration 144"
       ]
      },
      {
       "output_type": "stream",
       "stream": "stdout",
       "text": [
        "\r",
        "Iteration 145"
       ]
      },
      {
       "output_type": "stream",
       "stream": "stdout",
       "text": [
        "\r",
        "Iteration 146"
       ]
      },
      {
       "output_type": "stream",
       "stream": "stdout",
       "text": [
        "\r",
        "Iteration 147"
       ]
      },
      {
       "output_type": "stream",
       "stream": "stdout",
       "text": [
        "\r",
        "Iteration 148"
       ]
      },
      {
       "output_type": "stream",
       "stream": "stdout",
       "text": [
        "\r",
        "Iteration 149"
       ]
      },
      {
       "output_type": "stream",
       "stream": "stdout",
       "text": [
        "\r",
        "Iteration 150"
       ]
      },
      {
       "output_type": "stream",
       "stream": "stdout",
       "text": [
        "\r",
        "Iteration 151"
       ]
      },
      {
       "output_type": "stream",
       "stream": "stdout",
       "text": [
        "\r",
        "Iteration 152"
       ]
      },
      {
       "output_type": "stream",
       "stream": "stdout",
       "text": [
        "\r",
        "Iteration 153"
       ]
      },
      {
       "output_type": "stream",
       "stream": "stdout",
       "text": [
        "\r",
        "Iteration 154"
       ]
      },
      {
       "output_type": "stream",
       "stream": "stdout",
       "text": [
        "\r",
        "Iteration 155"
       ]
      },
      {
       "output_type": "stream",
       "stream": "stdout",
       "text": [
        "\r",
        "Iteration 156"
       ]
      },
      {
       "output_type": "stream",
       "stream": "stdout",
       "text": [
        "\r",
        "Iteration 157"
       ]
      },
      {
       "output_type": "stream",
       "stream": "stdout",
       "text": [
        "\r",
        "Iteration 158"
       ]
      },
      {
       "output_type": "stream",
       "stream": "stdout",
       "text": [
        "\r",
        "Iteration 159"
       ]
      },
      {
       "output_type": "stream",
       "stream": "stdout",
       "text": [
        "\r",
        "Iteration 160"
       ]
      },
      {
       "output_type": "stream",
       "stream": "stdout",
       "text": [
        "\r",
        "Iteration 161"
       ]
      },
      {
       "output_type": "stream",
       "stream": "stdout",
       "text": [
        "\r",
        "Iteration 162"
       ]
      },
      {
       "output_type": "stream",
       "stream": "stdout",
       "text": [
        "\r",
        "Iteration 163"
       ]
      },
      {
       "output_type": "stream",
       "stream": "stdout",
       "text": [
        "\r",
        "Iteration 164"
       ]
      },
      {
       "output_type": "stream",
       "stream": "stdout",
       "text": [
        "\r",
        "Iteration 165"
       ]
      },
      {
       "output_type": "stream",
       "stream": "stdout",
       "text": [
        "\r",
        "Iteration 166"
       ]
      },
      {
       "output_type": "stream",
       "stream": "stdout",
       "text": [
        "\r",
        "Iteration 167"
       ]
      },
      {
       "output_type": "stream",
       "stream": "stdout",
       "text": [
        "\r",
        "Iteration 168"
       ]
      },
      {
       "output_type": "stream",
       "stream": "stdout",
       "text": [
        "\r",
        "Iteration 169"
       ]
      },
      {
       "output_type": "stream",
       "stream": "stdout",
       "text": [
        "\r",
        "Iteration 170"
       ]
      },
      {
       "output_type": "stream",
       "stream": "stdout",
       "text": [
        "\r",
        "Iteration 171"
       ]
      },
      {
       "output_type": "stream",
       "stream": "stdout",
       "text": [
        "\r",
        "Iteration 172"
       ]
      },
      {
       "output_type": "stream",
       "stream": "stdout",
       "text": [
        "\r",
        "Iteration 173"
       ]
      },
      {
       "output_type": "stream",
       "stream": "stdout",
       "text": [
        "\r",
        "Iteration 174"
       ]
      },
      {
       "output_type": "stream",
       "stream": "stdout",
       "text": [
        "\r",
        "Iteration 175"
       ]
      },
      {
       "output_type": "stream",
       "stream": "stdout",
       "text": [
        "\r",
        "Iteration 176"
       ]
      },
      {
       "output_type": "stream",
       "stream": "stdout",
       "text": [
        "\r",
        "Iteration 177"
       ]
      },
      {
       "output_type": "stream",
       "stream": "stdout",
       "text": [
        "\r",
        "Iteration 178"
       ]
      },
      {
       "output_type": "stream",
       "stream": "stdout",
       "text": [
        "\r",
        "Iteration 179"
       ]
      },
      {
       "output_type": "stream",
       "stream": "stdout",
       "text": [
        "\r",
        "Iteration 180"
       ]
      },
      {
       "output_type": "stream",
       "stream": "stdout",
       "text": [
        "\r",
        "Iteration 181"
       ]
      },
      {
       "output_type": "stream",
       "stream": "stdout",
       "text": [
        "\r",
        "Iteration 182"
       ]
      },
      {
       "output_type": "stream",
       "stream": "stdout",
       "text": [
        "\r",
        "Iteration 183"
       ]
      },
      {
       "output_type": "stream",
       "stream": "stdout",
       "text": [
        "\r",
        "Iteration 184"
       ]
      },
      {
       "output_type": "stream",
       "stream": "stdout",
       "text": [
        "\r",
        "Iteration 185"
       ]
      },
      {
       "output_type": "stream",
       "stream": "stdout",
       "text": [
        "\r",
        "Iteration 186"
       ]
      },
      {
       "output_type": "stream",
       "stream": "stdout",
       "text": [
        "\r",
        "Iteration 187"
       ]
      },
      {
       "output_type": "stream",
       "stream": "stdout",
       "text": [
        "\r",
        "Iteration 188"
       ]
      },
      {
       "output_type": "stream",
       "stream": "stdout",
       "text": [
        "\r",
        "Iteration 189"
       ]
      },
      {
       "output_type": "stream",
       "stream": "stdout",
       "text": [
        "\r",
        "Iteration 190"
       ]
      },
      {
       "output_type": "stream",
       "stream": "stdout",
       "text": [
        "\r",
        "Iteration 191"
       ]
      },
      {
       "output_type": "stream",
       "stream": "stdout",
       "text": [
        "\r",
        "Iteration 192"
       ]
      },
      {
       "output_type": "stream",
       "stream": "stdout",
       "text": [
        "\r",
        "Iteration 193"
       ]
      },
      {
       "output_type": "stream",
       "stream": "stdout",
       "text": [
        "\r",
        "Iteration 194"
       ]
      },
      {
       "output_type": "stream",
       "stream": "stdout",
       "text": [
        "\r",
        "Iteration 195"
       ]
      },
      {
       "output_type": "stream",
       "stream": "stdout",
       "text": [
        "\r",
        "Iteration 196"
       ]
      },
      {
       "output_type": "stream",
       "stream": "stdout",
       "text": [
        "\r",
        "Iteration 197"
       ]
      },
      {
       "output_type": "stream",
       "stream": "stdout",
       "text": [
        "\r",
        "Iteration 198"
       ]
      },
      {
       "output_type": "stream",
       "stream": "stdout",
       "text": [
        "\r",
        "Iteration 199"
       ]
      },
      {
       "output_type": "stream",
       "stream": "stdout",
       "text": [
        "\n"
       ]
      }
     ],
     "prompt_number": 1
    },
    {
     "cell_type": "code",
     "collapsed": false,
     "input": [
      "v.topics(compact_view=False)"
     ],
     "language": "python",
     "metadata": {},
     "outputs": [
      {
       "html": [
        "<table><tr><th style=\"text-align: center; background: #A9D0F5;            fontsize: 14px;\" colspan=\"6\"> Topics Sorted by Index </th></tr><tr><th style=\"text-align: center; background: #CEE3F6;\"                 colspan=\"2\">Topic 0</th><th style=\"text-align: center; background: #CEE3F6;\"                 colspan=\"2\">Topic 1</th></tr><tr><th style=\"text-align: center; background: #EFF2FB;\">                        Word</th><th style=\"text-align: center; background: #EFF2FB;\">                        Prob</th><th style=\"text-align: center; background: #EFF2FB;\">                        Word</th><th style=\"text-align: center; background: #EFF2FB;\">                        Prob</th></tr><tr><td>catholic</td><td>0.10129</td><td>logic</td><td>0.05950</td></tr><tr><td>church</td><td>0.10129</td><td>turing</td><td>0.05950</td></tr><tr><td>pope</td><td>0.07603</td><td>foundations</td><td>0.05950</td></tr><tr><td>theology</td><td>0.05077</td><td>church</td><td>0.05950</td></tr><tr><td>augustine</td><td>0.05077</td><td>computer</td><td>0.05950</td></tr><tr><td>roman</td><td>0.05077</td><td>computable</td><td>0.03973</td></tr><tr><td>viii</td><td>0.02551</td><td>mathematical</td><td>0.03973</td></tr><tr><td>regarded</td><td>0.02551</td><td>mathematician</td><td>0.03973</td></tr><tr><td>held</td><td>0.02551</td><td>mathematics</td><td>0.03973</td></tr><tr><td>challenged</td><td>0.02551</td><td>science</td><td>0.03973</td></tr></table>"
       ],
       "metadata": {},
       "output_type": "pyout",
       "prompt_number": 2,
       "text": [
        "[LabeledColumn([('catholic', 0.10128820409194236), ('church', 0.10128820409194236),\n",
        "        ('pope', 0.0760293003283657), ('theology', 0.05077039656478906),\n",
        "        ('augustine', 0.05077039656478906), ('roman', 0.05077039656478906),\n",
        "        ('viii', 0.025511492801212416), ('regarded', 0.025511492801212416),\n",
        "        ('held', 0.025511492801212416),\n",
        "        ('challenged', 0.025511492801212416),\n",
        "        ('boniface', 0.025511492801212416), ('bible', 0.025511492801212416),\n",
        "        ('faith', 0.025511492801212416), ('model', 0.025511492801212416),\n",
        "        ('peter', 0.025511492801212416),\n",
        "        ('recognized', 0.025511492801212416),\n",
        "        ('revealed', 0.025511492801212416),\n",
        "        ('knowledge', 0.025511492801212416),\n",
        "        ('saint', 0.025511492801212416), ('doctor', 0.025511492801212416),\n",
        "        ('source', 0.025511492801212416), ('stated', 0.025511492801212416),\n",
        "        ('alone', 0.025511492801212416),\n",
        "        ('successor', 0.025511492801212416),\n",
        "        ('teacher', 0.025511492801212416),\n",
        "        ('teaching', 0.025511492801212416),\n",
        "        ('divinely', 0.025511492801212416),\n",
        "        ('justify', 0.025511492801212416),\n",
        "        ('introduced', 0.00025258903763576674),\n",
        "        ('investigation', 0.00025258903763576674),\n",
        "        ('contributions', 0.00025258903763576674),\n",
        "        ('mathematics', 0.00025258903763576674),\n",
        "        ('lambda', 0.00025258903763576674),\n",
        "        ('logician', 0.00025258903763576674),\n",
        "        ('calculus', 0.00025258903763576674),\n",
        "        ('made', 0.00025258903763576674), ('major', 0.00025258903763576674),\n",
        "        ('man', 0.00025258903763576674),\n",
        "        ('american', 0.00025258903763576674),\n",
        "        ('computable', 0.0002525890376357665),\n",
        "        ('algorithmically', 0.0002525890376357665),\n",
        "        ('algorithm', 0.0002525890376357665),\n",
        "        ('close', 0.0002525890376357665), ('logic', 0.0002525890376357665),\n",
        "        ('computer', 0.0002525890376357665),\n",
        "        ('connections', 0.0002525890376357665),\n",
        "        ('function', 0.0002525890376357665),\n",
        "        ('turing', 0.0002525890376357665),\n",
        "        ('machine', 0.0002525890376357665),\n",
        "        ('mathematical', 0.0002525890376357665),\n",
        "        ('science', 0.0002525890376357665),\n",
        "        ('simulate', 0.0002525890376357665),\n",
        "        ('states', 0.0002525890376357665),\n",
        "        ('theoretical', 0.0002525890376357665),\n",
        "        ('thesis', 0.0002525890376357665),\n",
        "        ('adapted', 0.0002525890376357665),\n",
        "        ('foundations', 0.0002525890376357611),\n",
        "        ('mathematician', 0.0002525890376357611),\n",
        "        ('alonzo', 0.0002525890376357611)], \n",
        "       dtype=[('word', 'S15'), ('value', '<f8')]),\n",
        " LabeledColumn([('logic', 0.05949792449100616), ('turing', 0.05949792449100616),\n",
        "        ('foundations', 0.05949792449100616),\n",
        "        ('church', 0.05949792449100616), ('computer', 0.05949792449100616),\n",
        "        ('computable', 0.03973117216841275),\n",
        "        ('mathematical', 0.03973117216841275),\n",
        "        ('mathematician', 0.03973117216841275),\n",
        "        ('mathematics', 0.03973117216841275),\n",
        "        ('science', 0.03973117216841275), ('machine', 0.03973117216841275),\n",
        "        ('alonzo', 0.03973117216841275),\n",
        "        ('theoretical', 0.03973117216841275),\n",
        "        ('close', 0.019964419845819346), ('calculus', 0.019964419845819346),\n",
        "        ('made', 0.019964419845819346),\n",
        "        ('contributions', 0.019964419845819346),\n",
        "        ('american', 0.019964419845819346),\n",
        "        ('function', 0.019964419845819346),\n",
        "        ('introduced', 0.019964419845819346),\n",
        "        ('investigation', 0.019964419845819346),\n",
        "        ('lambda', 0.019964419845819346),\n",
        "        ('algorithmically', 0.019964419845819346),\n",
        "        ('algorithm', 0.019964419845819346),\n",
        "        ('logician', 0.019964419845819346),\n",
        "        ('connections', 0.019964419845819346),\n",
        "        ('adapted', 0.019964419845819346), ('major', 0.019964419845819346),\n",
        "        ('man', 0.019964419845819346), ('thesis', 0.019964419845819346),\n",
        "        ('states', 0.019964419845819346),\n",
        "        ('simulate', 0.019964419845819346), ('viii', 0.0001976675232259343),\n",
        "        ('bible', 0.0001976675232259343),\n",
        "        ('successor', 0.0001976675232259343),\n",
        "        ('teacher', 0.0001976675232259343),\n",
        "        ('challenged', 0.0001976675232259343),\n",
        "        ('peter', 0.0001976675232259343),\n",
        "        ('teaching', 0.0001976675232259343),\n",
        "        ('source', 0.0001976675232259343), ('saint', 0.0001976675232259343),\n",
        "        ('roman', 0.0001976675232259343), ('doctor', 0.0001976675232259343),\n",
        "        ('model', 0.0001976675232259343),\n",
        "        ('revealed', 0.0001976675232259343),\n",
        "        ('regarded', 0.0001976675232259343),\n",
        "        ('held', 0.0001976675232259343),\n",
        "        ('recognized', 0.0001976675232259343),\n",
        "        ('boniface', 0.0001976675232259343),\n",
        "        ('theology', 0.0001976675232259341),\n",
        "        ('alone', 0.0001976675232259341),\n",
        "        ('justify', 0.0001976675232259341),\n",
        "        ('catholic', 0.0001976675232259341),\n",
        "        ('knowledge', 0.0001976675232259341),\n",
        "        ('divinely', 0.0001976675232259341),\n",
        "        ('faith', 0.0001976675232259341), ('stated', 0.0001976675232259341),\n",
        "        ('augustine', 0.0001976675232259299),\n",
        "        ('pope', 0.0001976675232259299)], \n",
        "       dtype=[('word', 'S15'), ('value', '<f8')])]"
       ]
      }
     ],
     "prompt_number": 2
    },
    {
     "cell_type": "code",
     "collapsed": false,
     "input": [
      "v.doc_topics(dict(document_label='Logic 1'))"
     ],
     "language": "python",
     "metadata": {},
     "outputs": [
      {
       "html": [
        "<table style=\"margin: 0\"><tr><th style=\"text-align: center; background: #CEE3F6\" colspan                    =\"2\">Document: Logic 1</th></tr><tr><th style=\"text-align: center; background: #EFF2FB; \">Topic                          </th><th style=\"text-align: center; background: #EFF2FB; \">Prob                          </th></tr><tr><td>1         </td><td>0.99929   </td></tr><tr><td>0         </td><td>0.00071   </td></tr></table>"
       ],
       "metadata": {},
       "output_type": "pyout",
       "prompt_number": 3,
       "text": [
        "LabeledColumn([(1, 0.9992867332382311), (0, 0.0007132667617688864)], \n",
        "      dtype=[('i', '<i8'), ('value', '<f8')])"
       ]
      }
     ],
     "prompt_number": 3
    },
    {
     "cell_type": "code",
     "collapsed": false,
     "input": [
      "v.dist_top_top([0,1], weights=[.6, .4])"
     ],
     "language": "python",
     "metadata": {},
     "outputs": [
      {
       "html": [
        "<table style=\"margin: 0\"><tr><th style=\"text-align: center; background: #CEE3F6\" colspan            =\"11\">Sorted by Topic Distance</th></tr><tr><th style=\"text-align: center; background: #EFF2FB;\"                     >Topic</th><th style=\"text-align: center; background: #EFF2FB;\"                     >Words</th></tr><tr><td style=\"padding-left:0.75em;\">0</td><td> catholic, church, pope, theology, augustine, roman, viii, regarded, held, challenged       </td></tr><tr><td style=\"padding-left:0.75em;\">1</td><td> logic, turing, foundations, church, computer, computable, mathematical, mathematician, mathematics, science          </td></tr></table>"
       ],
       "metadata": {},
       "output_type": "pyout",
       "prompt_number": 4,
       "text": [
        "CompactTable([[('catholic', 0.10128820409194236), ('church', 0.10128820409194236),\n",
        "        ('pope', 0.0760293003283657), ('theology', 0.05077039656478906),\n",
        "        ('augustine', 0.05077039656478906), ('roman', 0.05077039656478906),\n",
        "        ('viii', 0.025511492801212416), ('regarded', 0.025511492801212416),\n",
        "        ('held', 0.025511492801212416),\n",
        "        ('challenged', 0.025511492801212416),\n",
        "        ('boniface', 0.025511492801212416),\n",
        "        ('bible', 0.025511492801212416), ('faith', 0.025511492801212416),\n",
        "        ('model', 0.025511492801212416), ('peter', 0.025511492801212416),\n",
        "        ('recognized', 0.025511492801212416),\n",
        "        ('revealed', 0.025511492801212416),\n",
        "        ('knowledge', 0.025511492801212416),\n",
        "        ('saint', 0.025511492801212416), ('doctor', 0.025511492801212416),\n",
        "        ('source', 0.025511492801212416), ('stated', 0.025511492801212416),\n",
        "        ('alone', 0.025511492801212416),\n",
        "        ('successor', 0.025511492801212416),\n",
        "        ('teacher', 0.025511492801212416),\n",
        "        ('teaching', 0.025511492801212416),\n",
        "        ('divinely', 0.025511492801212416),\n",
        "        ('justify', 0.025511492801212416),\n",
        "        ('introduced', 0.00025258903763576674),\n",
        "        ('investigation', 0.00025258903763576674),\n",
        "        ('contributions', 0.00025258903763576674),\n",
        "        ('mathematics', 0.00025258903763576674),\n",
        "        ('lambda', 0.00025258903763576674),\n",
        "        ('logician', 0.00025258903763576674),\n",
        "        ('calculus', 0.00025258903763576674),\n",
        "        ('made', 0.00025258903763576674),\n",
        "        ('major', 0.00025258903763576674), ('man', 0.00025258903763576674),\n",
        "        ('american', 0.00025258903763576674),\n",
        "        ('computable', 0.0002525890376357665),\n",
        "        ('algorithmically', 0.0002525890376357665),\n",
        "        ('algorithm', 0.0002525890376357665),\n",
        "        ('close', 0.0002525890376357665), ('logic', 0.0002525890376357665),\n",
        "        ('computer', 0.0002525890376357665),\n",
        "        ('connections', 0.0002525890376357665),\n",
        "        ('function', 0.0002525890376357665),\n",
        "        ('turing', 0.0002525890376357665),\n",
        "        ('machine', 0.0002525890376357665),\n",
        "        ('mathematical', 0.0002525890376357665),\n",
        "        ('science', 0.0002525890376357665),\n",
        "        ('simulate', 0.0002525890376357665),\n",
        "        ('states', 0.0002525890376357665),\n",
        "        ('theoretical', 0.0002525890376357665),\n",
        "        ('thesis', 0.0002525890376357665),\n",
        "        ('adapted', 0.0002525890376357665),\n",
        "        ('foundations', 0.0002525890376357611),\n",
        "        ('mathematician', 0.0002525890376357611),\n",
        "        ('alonzo', 0.0002525890376357611)],\n",
        "       [('logic', 0.05949792449100616), ('turing', 0.05949792449100616),\n",
        "        ('foundations', 0.05949792449100616),\n",
        "        ('church', 0.05949792449100616), ('computer', 0.05949792449100616),\n",
        "        ('computable', 0.03973117216841275),\n",
        "        ('mathematical', 0.03973117216841275),\n",
        "        ('mathematician', 0.03973117216841275),\n",
        "        ('mathematics', 0.03973117216841275),\n",
        "        ('science', 0.03973117216841275), ('machine', 0.03973117216841275),\n",
        "        ('alonzo', 0.03973117216841275),\n",
        "        ('theoretical', 0.03973117216841275),\n",
        "        ('close', 0.019964419845819346),\n",
        "        ('calculus', 0.019964419845819346), ('made', 0.019964419845819346),\n",
        "        ('contributions', 0.019964419845819346),\n",
        "        ('american', 0.019964419845819346),\n",
        "        ('function', 0.019964419845819346),\n",
        "        ('introduced', 0.019964419845819346),\n",
        "        ('investigation', 0.019964419845819346),\n",
        "        ('lambda', 0.019964419845819346),\n",
        "        ('algorithmically', 0.019964419845819346),\n",
        "        ('algorithm', 0.019964419845819346),\n",
        "        ('logician', 0.019964419845819346),\n",
        "        ('connections', 0.019964419845819346),\n",
        "        ('adapted', 0.019964419845819346), ('major', 0.019964419845819346),\n",
        "        ('man', 0.019964419845819346), ('thesis', 0.019964419845819346),\n",
        "        ('states', 0.019964419845819346),\n",
        "        ('simulate', 0.019964419845819346),\n",
        "        ('viii', 0.0001976675232259343), ('bible', 0.0001976675232259343),\n",
        "        ('successor', 0.0001976675232259343),\n",
        "        ('teacher', 0.0001976675232259343),\n",
        "        ('challenged', 0.0001976675232259343),\n",
        "        ('peter', 0.0001976675232259343),\n",
        "        ('teaching', 0.0001976675232259343),\n",
        "        ('source', 0.0001976675232259343),\n",
        "        ('saint', 0.0001976675232259343), ('roman', 0.0001976675232259343),\n",
        "        ('doctor', 0.0001976675232259343),\n",
        "        ('model', 0.0001976675232259343),\n",
        "        ('revealed', 0.0001976675232259343),\n",
        "        ('regarded', 0.0001976675232259343),\n",
        "        ('held', 0.0001976675232259343),\n",
        "        ('recognized', 0.0001976675232259343),\n",
        "        ('boniface', 0.0001976675232259343),\n",
        "        ('theology', 0.0001976675232259341),\n",
        "        ('alone', 0.0001976675232259341),\n",
        "        ('justify', 0.0001976675232259341),\n",
        "        ('catholic', 0.0001976675232259341),\n",
        "        ('knowledge', 0.0001976675232259341),\n",
        "        ('divinely', 0.0001976675232259341),\n",
        "        ('faith', 0.0001976675232259341),\n",
        "        ('stated', 0.0001976675232259341),\n",
        "        ('augustine', 0.0001976675232259299),\n",
        "        ('pope', 0.0001976675232259299)]], \n",
        "      dtype=[('word', 'S15'), ('value', '<f8')])"
       ]
      }
     ],
     "prompt_number": 4
    },
    {
     "cell_type": "code",
     "collapsed": false,
     "input": [
      "v.dist_doc_doc(dict(document_label='Ecclesiastical 3'))"
     ],
     "language": "python",
     "metadata": {},
     "outputs": [
      {
       "html": [
        "<table style=\"margin: 0\"><tr><th style=\"text-align: center; background: #CEE3F6\" colspan                    =\"2\">Documents: </th></tr><tr><th style=\"text-align: center; background: #EFF2FB; \">Document                          </th><th style=\"text-align: center; background: #EFF2FB; \">Distance                          </th></tr><tr><td>Ecclesiastical 3     </td><td>0.00000   </td></tr><tr><td>Ecclesiastical 5     </td><td>0.00000   </td></tr><tr><td>Ecclesiastical 2     </td><td>0.00256   </td></tr><tr><td>Ecclesiastical 1     </td><td>0.00754   </td></tr><tr><td>Ecclesiastical 4     </td><td>0.24704   </td></tr><tr><td>Logic 5              </td><td>0.99221   </td></tr><tr><td>Logic 4              </td><td>0.99297   </td></tr><tr><td>Logic 2              </td><td>0.99297   </td></tr><tr><td>Logic 3              </td><td>0.99325   </td></tr><tr><td>Logic 1              </td><td>0.99398   </td></tr></table>"
       ],
       "metadata": {},
       "output_type": "pyout",
       "prompt_number": 5,
       "text": [
        "LabeledColumn([('Ecclesiastical 3', 0.0), ('Ecclesiastical 5', 0.0),\n",
        "       ('Ecclesiastical 2', 0.002561532434347629),\n",
        "       ('Ecclesiastical 1', 0.007539933660187256),\n",
        "       ('Ecclesiastical 4', 0.24704068739319746),\n",
        "       ('Logic 5', 0.992208252445885), ('Logic 4', 0.992974054340914),\n",
        "       ('Logic 2', 0.9929740543409141), ('Logic 3', 0.9932494872489326),\n",
        "       ('Logic 1', 0.9939798430010864)], \n",
        "      dtype=[('doc', 'S16'), ('value', '<f8')])"
       ]
      }
     ],
     "prompt_number": 5
    },
    {
     "cell_type": "code",
     "collapsed": false,
     "input": [
      "v.dist_top_doc([0,1])"
     ],
     "language": "python",
     "metadata": {},
     "outputs": [
      {
       "html": [
        "<table style=\"margin: 0\"><tr><th style=\"text-align: center; background: #CEE3F6\" colspan                    =\"2\">Topics: 0, 1</th></tr><tr><th style=\"text-align: center; background: #EFF2FB; \">Document                          </th><th style=\"text-align: center; background: #EFF2FB; \">Distance                          </th></tr><tr><td>Ecclesiastical 4     </td><td>0.35139   </td></tr><tr><td>Ecclesiastical 2     </td><td>0.55111   </td></tr><tr><td>Logic 5              </td><td>0.55195   </td></tr><tr><td>Ecclesiastical 3     </td><td>0.55195   </td></tr><tr><td>Ecclesiastical 5     </td><td>0.55195   </td></tr><tr><td>Logic 2              </td><td>0.55310   </td></tr><tr><td>Logic 4              </td><td>0.55310   </td></tr><tr><td>Logic 3              </td><td>0.55351   </td></tr><tr><td>Ecclesiastical 1     </td><td>0.55415   </td></tr><tr><td>Logic 1              </td><td>0.55462   </td></tr></table>"
       ],
       "metadata": {},
       "output_type": "pyout",
       "prompt_number": 6,
       "text": [
        "LabeledColumn([('Ecclesiastical 4', 0.35139346023362933),\n",
        "       ('Ecclesiastical 2', 0.5511129750477453),\n",
        "       ('Logic 5', 0.5519453530845313),\n",
        "       ('Ecclesiastical 3', 0.5519453530845315),\n",
        "       ('Ecclesiastical 5', 0.5519453530845315),\n",
        "       ('Logic 2', 0.5530953459056704), ('Logic 4', 0.5530953459056704),\n",
        "       ('Logic 3', 0.5535107346714778),\n",
        "       ('Ecclesiastical 1', 0.5541488721986697),\n",
        "       ('Logic 1', 0.5546174996468003)], \n",
        "      dtype=[('doc', 'S16'), ('value', '<f8')])"
       ]
      }
     ],
     "prompt_number": 6
    },
    {
     "cell_type": "code",
     "collapsed": false,
     "input": [
      "v.dist_word_top('church')"
     ],
     "language": "python",
     "metadata": {},
     "outputs": [
      {
       "html": [
        "<table style=\"margin: 0\"><tr><th style=\"text-align: center; background: #CEE3F6\" colspan            =\"11\">Sorted by Topic Distance</th></tr><tr><th style=\"text-align: center; background: #EFF2FB;\"                     >Topic</th><th style=\"text-align: center; background: #EFF2FB;\"                     >Words</th></tr><tr><td style=\"padding-left:0.75em;\">0</td><td> catholic, church, pope, theology, augustine, roman, viii, regarded, held, challenged       </td></tr><tr><td style=\"padding-left:0.75em;\">1</td><td> logic, turing, foundations, church, computer, computable, mathematical, mathematician, mathematics, science          </td></tr></table>"
       ],
       "metadata": {},
       "output_type": "pyout",
       "prompt_number": 7,
       "text": [
        "CompactTable([[('catholic', 0.10128820409194236), ('church', 0.10128820409194236),\n",
        "        ('pope', 0.0760293003283657), ('theology', 0.05077039656478906),\n",
        "        ('augustine', 0.05077039656478906), ('roman', 0.05077039656478906),\n",
        "        ('viii', 0.025511492801212416), ('regarded', 0.025511492801212416),\n",
        "        ('held', 0.025511492801212416),\n",
        "        ('challenged', 0.025511492801212416),\n",
        "        ('boniface', 0.025511492801212416),\n",
        "        ('bible', 0.025511492801212416), ('faith', 0.025511492801212416),\n",
        "        ('model', 0.025511492801212416), ('peter', 0.025511492801212416),\n",
        "        ('recognized', 0.025511492801212416),\n",
        "        ('revealed', 0.025511492801212416),\n",
        "        ('knowledge', 0.025511492801212416),\n",
        "        ('saint', 0.025511492801212416), ('doctor', 0.025511492801212416),\n",
        "        ('source', 0.025511492801212416), ('stated', 0.025511492801212416),\n",
        "        ('alone', 0.025511492801212416),\n",
        "        ('successor', 0.025511492801212416),\n",
        "        ('teacher', 0.025511492801212416),\n",
        "        ('teaching', 0.025511492801212416),\n",
        "        ('divinely', 0.025511492801212416),\n",
        "        ('justify', 0.025511492801212416),\n",
        "        ('introduced', 0.00025258903763576674),\n",
        "        ('investigation', 0.00025258903763576674),\n",
        "        ('contributions', 0.00025258903763576674),\n",
        "        ('mathematics', 0.00025258903763576674),\n",
        "        ('lambda', 0.00025258903763576674),\n",
        "        ('logician', 0.00025258903763576674),\n",
        "        ('calculus', 0.00025258903763576674),\n",
        "        ('made', 0.00025258903763576674),\n",
        "        ('major', 0.00025258903763576674), ('man', 0.00025258903763576674),\n",
        "        ('american', 0.00025258903763576674),\n",
        "        ('computable', 0.0002525890376357665),\n",
        "        ('algorithmically', 0.0002525890376357665),\n",
        "        ('algorithm', 0.0002525890376357665),\n",
        "        ('close', 0.0002525890376357665), ('logic', 0.0002525890376357665),\n",
        "        ('computer', 0.0002525890376357665),\n",
        "        ('connections', 0.0002525890376357665),\n",
        "        ('function', 0.0002525890376357665),\n",
        "        ('turing', 0.0002525890376357665),\n",
        "        ('machine', 0.0002525890376357665),\n",
        "        ('mathematical', 0.0002525890376357665),\n",
        "        ('science', 0.0002525890376357665),\n",
        "        ('simulate', 0.0002525890376357665),\n",
        "        ('states', 0.0002525890376357665),\n",
        "        ('theoretical', 0.0002525890376357665),\n",
        "        ('thesis', 0.0002525890376357665),\n",
        "        ('adapted', 0.0002525890376357665),\n",
        "        ('foundations', 0.0002525890376357611),\n",
        "        ('mathematician', 0.0002525890376357611),\n",
        "        ('alonzo', 0.0002525890376357611)],\n",
        "       [('logic', 0.05949792449100616), ('turing', 0.05949792449100616),\n",
        "        ('foundations', 0.05949792449100616),\n",
        "        ('church', 0.05949792449100616), ('computer', 0.05949792449100616),\n",
        "        ('computable', 0.03973117216841275),\n",
        "        ('mathematical', 0.03973117216841275),\n",
        "        ('mathematician', 0.03973117216841275),\n",
        "        ('mathematics', 0.03973117216841275),\n",
        "        ('science', 0.03973117216841275), ('machine', 0.03973117216841275),\n",
        "        ('alonzo', 0.03973117216841275),\n",
        "        ('theoretical', 0.03973117216841275),\n",
        "        ('close', 0.019964419845819346),\n",
        "        ('calculus', 0.019964419845819346), ('made', 0.019964419845819346),\n",
        "        ('contributions', 0.019964419845819346),\n",
        "        ('american', 0.019964419845819346),\n",
        "        ('function', 0.019964419845819346),\n",
        "        ('introduced', 0.019964419845819346),\n",
        "        ('investigation', 0.019964419845819346),\n",
        "        ('lambda', 0.019964419845819346),\n",
        "        ('algorithmically', 0.019964419845819346),\n",
        "        ('algorithm', 0.019964419845819346),\n",
        "        ('logician', 0.019964419845819346),\n",
        "        ('connections', 0.019964419845819346),\n",
        "        ('adapted', 0.019964419845819346), ('major', 0.019964419845819346),\n",
        "        ('man', 0.019964419845819346), ('thesis', 0.019964419845819346),\n",
        "        ('states', 0.019964419845819346),\n",
        "        ('simulate', 0.019964419845819346),\n",
        "        ('viii', 0.0001976675232259343), ('bible', 0.0001976675232259343),\n",
        "        ('successor', 0.0001976675232259343),\n",
        "        ('teacher', 0.0001976675232259343),\n",
        "        ('challenged', 0.0001976675232259343),\n",
        "        ('peter', 0.0001976675232259343),\n",
        "        ('teaching', 0.0001976675232259343),\n",
        "        ('source', 0.0001976675232259343),\n",
        "        ('saint', 0.0001976675232259343), ('roman', 0.0001976675232259343),\n",
        "        ('doctor', 0.0001976675232259343),\n",
        "        ('model', 0.0001976675232259343),\n",
        "        ('revealed', 0.0001976675232259343),\n",
        "        ('regarded', 0.0001976675232259343),\n",
        "        ('held', 0.0001976675232259343),\n",
        "        ('recognized', 0.0001976675232259343),\n",
        "        ('boniface', 0.0001976675232259343),\n",
        "        ('theology', 0.0001976675232259341),\n",
        "        ('alone', 0.0001976675232259341),\n",
        "        ('justify', 0.0001976675232259341),\n",
        "        ('catholic', 0.0001976675232259341),\n",
        "        ('knowledge', 0.0001976675232259341),\n",
        "        ('divinely', 0.0001976675232259341),\n",
        "        ('faith', 0.0001976675232259341),\n",
        "        ('stated', 0.0001976675232259341),\n",
        "        ('augustine', 0.0001976675232259299),\n",
        "        ('pope', 0.0001976675232259299)]], \n",
        "      dtype=[('word', 'S15'), ('value', '<f8')])"
       ]
      }
     ],
     "prompt_number": 7
    },
    {
     "cell_type": "code",
     "collapsed": false,
     "input": [
      "v.dist_word_top('logic')"
     ],
     "language": "python",
     "metadata": {},
     "outputs": [
      {
       "html": [
        "<table style=\"margin: 0\"><tr><th style=\"text-align: center; background: #CEE3F6\" colspan            =\"11\">Sorted by Topic Distance</th></tr><tr><th style=\"text-align: center; background: #EFF2FB;\"                     >Topic</th><th style=\"text-align: center; background: #EFF2FB;\"                     >Words</th></tr><tr><td style=\"padding-left:0.75em;\">1</td><td> logic, turing, foundations, church, computer, computable, mathematical, mathematician, mathematics, science          </td></tr></table>"
       ],
       "metadata": {},
       "output_type": "pyout",
       "prompt_number": 8,
       "text": [
        "CompactTable([[('logic', 0.05949792449100616), ('turing', 0.05949792449100616),\n",
        "        ('foundations', 0.05949792449100616),\n",
        "        ('church', 0.05949792449100616), ('computer', 0.05949792449100616),\n",
        "        ('computable', 0.03973117216841275),\n",
        "        ('mathematical', 0.03973117216841275),\n",
        "        ('mathematician', 0.03973117216841275),\n",
        "        ('mathematics', 0.03973117216841275),\n",
        "        ('science', 0.03973117216841275), ('machine', 0.03973117216841275),\n",
        "        ('alonzo', 0.03973117216841275),\n",
        "        ('theoretical', 0.03973117216841275),\n",
        "        ('close', 0.019964419845819346),\n",
        "        ('calculus', 0.019964419845819346), ('made', 0.019964419845819346),\n",
        "        ('contributions', 0.019964419845819346),\n",
        "        ('american', 0.019964419845819346),\n",
        "        ('function', 0.019964419845819346),\n",
        "        ('introduced', 0.019964419845819346),\n",
        "        ('investigation', 0.019964419845819346),\n",
        "        ('lambda', 0.019964419845819346),\n",
        "        ('algorithmically', 0.019964419845819346),\n",
        "        ('algorithm', 0.019964419845819346),\n",
        "        ('logician', 0.019964419845819346),\n",
        "        ('connections', 0.019964419845819346),\n",
        "        ('adapted', 0.019964419845819346), ('major', 0.019964419845819346),\n",
        "        ('man', 0.019964419845819346), ('thesis', 0.019964419845819346),\n",
        "        ('states', 0.019964419845819346),\n",
        "        ('simulate', 0.019964419845819346),\n",
        "        ('viii', 0.0001976675232259343), ('bible', 0.0001976675232259343),\n",
        "        ('successor', 0.0001976675232259343),\n",
        "        ('teacher', 0.0001976675232259343),\n",
        "        ('challenged', 0.0001976675232259343),\n",
        "        ('peter', 0.0001976675232259343),\n",
        "        ('teaching', 0.0001976675232259343),\n",
        "        ('source', 0.0001976675232259343),\n",
        "        ('saint', 0.0001976675232259343), ('roman', 0.0001976675232259343),\n",
        "        ('doctor', 0.0001976675232259343),\n",
        "        ('model', 0.0001976675232259343),\n",
        "        ('revealed', 0.0001976675232259343),\n",
        "        ('regarded', 0.0001976675232259343),\n",
        "        ('held', 0.0001976675232259343),\n",
        "        ('recognized', 0.0001976675232259343),\n",
        "        ('boniface', 0.0001976675232259343),\n",
        "        ('theology', 0.0001976675232259341),\n",
        "        ('alone', 0.0001976675232259341),\n",
        "        ('justify', 0.0001976675232259341),\n",
        "        ('catholic', 0.0001976675232259341),\n",
        "        ('knowledge', 0.0001976675232259341),\n",
        "        ('divinely', 0.0001976675232259341),\n",
        "        ('faith', 0.0001976675232259341),\n",
        "        ('stated', 0.0001976675232259341),\n",
        "        ('augustine', 0.0001976675232259299),\n",
        "        ('pope', 0.0001976675232259299)]], \n",
        "      dtype=[('word', 'S15'), ('value', '<f8')])"
       ]
      }
     ],
     "prompt_number": 8
    },
    {
     "cell_type": "code",
     "collapsed": false,
     "input": [
      "v.dismat_top()"
     ],
     "language": "python",
     "metadata": {},
     "outputs": [
      {
       "metadata": {},
       "output_type": "pyout",
       "prompt_number": 9,
       "text": [
        "IndexedSymmArray([[ 0.        ,  0.93176736],\n",
        "       [ 0.93176736,  0.        ]])"
       ]
      }
     ],
     "prompt_number": 9
    },
    {
     "cell_type": "code",
     "collapsed": false,
     "input": [
      "v.dismat_top().labels"
     ],
     "language": "python",
     "metadata": {},
     "outputs": [
      {
       "metadata": {},
       "output_type": "pyout",
       "prompt_number": 10,
       "text": [
        "['0', '1']"
       ]
      }
     ],
     "prompt_number": 10
    },
    {
     "cell_type": "code",
     "collapsed": false,
     "input": [
      "np.around(v.dismat_doc(), decimals=1)"
     ],
     "language": "python",
     "metadata": {},
     "outputs": [
      {
       "metadata": {},
       "output_type": "pyout",
       "prompt_number": 11,
       "text": [
        "array([[ 0. ,  0. ,  0. ,  0.3,  0. ,  1. ,  1. ,  1. ,  1. ,  1. ],\n",
        "       [ 0. ,  0. ,  0. ,  0.2,  0. ,  1. ,  1. ,  1. ,  1. ,  1. ],\n",
        "       [ 0. ,  0. ,  0. ,  0.2,  0. ,  1. ,  1. ,  1. ,  1. ,  1. ],\n",
        "       [ 0.3,  0.2,  0.2,  0. ,  0.2,  0.8,  0.8,  0.8,  0.8,  0.8],\n",
        "       [ 0. ,  0. ,  0. ,  0.2,  0. ,  1. ,  1. ,  1. ,  1. ,  1. ],\n",
        "       [ 1. ,  1. ,  1. ,  0.8,  1. ,  0. ,  0. ,  0. ,  0. ,  0. ],\n",
        "       [ 1. ,  1. ,  1. ,  0.8,  1. ,  0. ,  0. ,  0. ,  0. ,  0. ],\n",
        "       [ 1. ,  1. ,  1. ,  0.8,  1. ,  0. ,  0. ,  0. ,  0. ,  0. ],\n",
        "       [ 1. ,  1. ,  1. ,  0.8,  1. ,  0. ,  0. ,  0. ,  0. ,  0. ],\n",
        "       [ 1. ,  1. ,  1. ,  0.8,  1. ,  0. ,  0. ,  0. ,  0. ,  0. ]])"
       ]
      }
     ],
     "prompt_number": 11
    },
    {
     "cell_type": "code",
     "collapsed": false,
     "input": [
      "v.dismat_doc().labels"
     ],
     "language": "python",
     "metadata": {},
     "outputs": [
      {
       "metadata": {},
       "output_type": "pyout",
       "prompt_number": 12,
       "text": [
        "array(['0', '1', '2', '3', '4', '5', '6', '7', '8', '9'], \n",
        "      dtype='|S1')"
       ]
      }
     ],
     "prompt_number": 12
    },
    {
     "cell_type": "code",
     "collapsed": false,
     "input": [
      "%matplotlib inline"
     ],
     "language": "python",
     "metadata": {},
     "outputs": [],
     "prompt_number": 13
    },
    {
     "cell_type": "code",
     "collapsed": false,
     "input": [
      "p1 = v.logp_plot()"
     ],
     "language": "python",
     "metadata": {},
     "outputs": [
      {
       "metadata": {},
       "output_type": "display_data",
       "png": "[encoded data removed]",
       "text": [
        "<matplotlib.figure.Figure at 0x7f1d894eb9d0>"
       ]
      }
     ],
     "prompt_number": 14
    },
    {
     "cell_type": "code",
     "collapsed": false,
     "input": [
      "p2 = v.topic_hist()"
     ],
     "language": "python",
     "metadata": {},
     "outputs": [
      {
       "metadata": {},
       "output_type": "display_data",
       "png": "[encoded data removed]",
       "text": [
        "<matplotlib.figure.Figure at 0x7f1d874fb2d0>"
       ]
      }
     ],
     "prompt_number": 15
    }
   ],
   "metadata": {}
  }
 ]
}