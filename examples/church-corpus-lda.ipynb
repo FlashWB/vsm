



<!DOCTYPE html>
<html lang="en" class="">
  <head prefix="og: http://ogp.me/ns# fb: http://ogp.me/ns/fb# object: http://ogp.me/ns/object# article: http://ogp.me/ns/article# profile: http://ogp.me/ns/profile#">
    <meta charset='utf-8'>
    <meta http-equiv="X-UA-Compatible" content="IE=edge">
    <meta http-equiv="Content-Language" content="en">
    
    
    <title>vsm/church-corpus-lda.ipynb at master · inpho/vsm · GitHub</title>
    <link rel="search" type="application/opensearchdescription+xml" href="/opensearch.xml" title="GitHub">
    <link rel="fluid-icon" href="https://github.com/fluidicon.png" title="GitHub">
    <link rel="apple-touch-icon" sizes="57x57" href="/apple-touch-icon-114.png">
    <link rel="apple-touch-icon" sizes="114x114" href="/apple-touch-icon-114.png">
    <link rel="apple-touch-icon" sizes="72x72" href="/apple-touch-icon-144.png">
    <link rel="apple-touch-icon" sizes="144x144" href="/apple-touch-icon-144.png">
    <meta property="fb:app_id" content="1401488693436528">

      <meta content="@github" name="twitter:site" /><meta content="summary" name="twitter:card" /><meta content="inpho/vsm" name="twitter:title" /><meta content="vsm - Vector Space Model Framework developed for InPhO" name="twitter:description" /><meta content="https://avatars1.githubusercontent.com/u/678982?v=2&amp;s=400" name="twitter:image:src" />
<meta content="GitHub" property="og:site_name" /><meta content="object" property="og:type" /><meta content="https://avatars1.githubusercontent.com/u/678982?v=2&amp;s=400" property="og:image" /><meta content="inpho/vsm" property="og:title" /><meta content="https://github.com/inpho/vsm" property="og:url" /><meta content="vsm - Vector Space Model Framework developed for InPhO" property="og:description" />

      <meta name="browser-stats-url" content="/_stats">
    <link rel="assets" href="https://assets-cdn.github.com/">
    <link rel="conduit-xhr" href="https://ghconduit.com:25035">
    
    <meta name="pjax-timeout" content="1000">

    <meta name="msapplication-TileImage" content="/windows-tile.png">
    <meta name="msapplication-TileColor" content="#ffffff">
    <meta name="selected-link" value="repo_source" data-pjax-transient>
      <meta name="google-analytics" content="UA-3769691-2">

    <meta content="collector.githubapp.com" name="octolytics-host" /><meta content="collector-cdn.github.com" name="octolytics-script-host" /><meta content="github" name="octolytics-app-id" /><meta content="68027AF9:08EC:3B0DD2D:544E50BB" name="octolytics-dimension-request_id" />
    
    <meta content="Rails, view, blob#show" name="analytics-event" />

    
    
    <link rel="icon" type="image/x-icon" href="https://assets-cdn.github.com/favicon.ico">


    <meta content="authenticity_token" name="csrf-param" />
<meta content="9sFy8VwLOrop2/Ph2g0ZGJMipa/LpAS+UipOcldjuQvSQp+mqc+s8oxOX52JItRxNJEKlZqc6P4/p/Gz4S3FhA==" name="csrf-token" />

    <link href="https://assets-cdn.github.com/assets/github-fd24da028f7f2d737c9a6d97bdd8aa7a5d7ec419c4cc4e89b169d30c58bed96b.css" media="all" rel="stylesheet" type="text/css" />
    <link href="https://assets-cdn.github.com/assets/github2-e601e4dc2eec6decc441b9f7e15eec77891539a1a5e2d8af7af600d1d061a150.css" media="all" rel="stylesheet" type="text/css" />
    
    


    <meta http-equiv="x-pjax-version" content="e375408a179f2ef68cd4fb7efa2d26f7">

      
  <meta name="description" content="vsm - Vector Space Model Framework developed for InPhO">
  <meta name="go-import" content="github.com/inpho/vsm git https://github.com/inpho/vsm.git">

  <meta content="678982" name="octolytics-dimension-user_id" /><meta content="inpho" name="octolytics-dimension-user_login" /><meta content="5553394" name="octolytics-dimension-repository_id" /><meta content="inpho/vsm" name="octolytics-dimension-repository_nwo" /><meta content="true" name="octolytics-dimension-repository_public" /><meta content="false" name="octolytics-dimension-repository_is_fork" /><meta content="5553394" name="octolytics-dimension-repository_network_root_id" /><meta content="inpho/vsm" name="octolytics-dimension-repository_network_root_nwo" />
  <link href="https://github.com/inpho/vsm/commits/master.atom" rel="alternate" title="Recent Commits to vsm:master" type="application/atom+xml">

  </head>


  <body class="logged_out  env-production linux vis-public page-blob">
    <a href="#start-of-content" tabindex="1" class="accessibility-aid js-skip-to-content">Skip to content</a>
    <div class="wrapper">
      
      
      
      


      
      <div class="header header-logged-out" role="banner">
  <div class="container clearfix">

    <a class="header-logo-wordmark" href="https://github.com/" ga-data-click="(Logged out) Header, go to homepage, icon:logo-wordmark">
      <span class="mega-octicon octicon-logo-github"></span>
    </a>

    <div class="header-actions" role="navigation">
        <a class="button primary" href="/join" data-ga-click="(Logged out) Header, clicked Sign up, text:sign-up">Sign up</a>
      <a class="button signin" href="/login?return_to=%2Finpho%2Fvsm%2Fblob%2Fmaster%2Fexamples%2Fchurch-corpus-lda.ipynb" data-ga-click="(Logged out) Header, clicked Sign in, text:sign-in">Sign in</a>
    </div>

    <div class="site-search repo-scope js-site-search" role="search">
      <form accept-charset="UTF-8" action="/inpho/vsm/search" class="js-site-search-form" data-global-search-url="/search" data-repo-search-url="/inpho/vsm/search" method="get"><div style="margin:0;padding:0;display:inline"><input name="utf8" type="hidden" value="&#x2713;" /></div>
  <input type="text"
    class="js-site-search-field is-clearable"
    data-hotkey="s"
    name="q"
    placeholder="Search"
    data-global-scope-placeholder="Search GitHub"
    data-repo-scope-placeholder="Search"
    tabindex="1"
    autocapitalize="off">
  <div class="scope-badge">This repository</div>
</form>
    </div>

      <ul class="header-nav left" role="navigation">
          <li class="header-nav-item">
            <a class="header-nav-link" href="/explore" data-ga-click="(Logged out) Header, go to explore, text:explore">Explore</a>
          </li>
          <li class="header-nav-item">
            <a class="header-nav-link" href="/features" data-ga-click="(Logged out) Header, go to features, text:features">Features</a>
          </li>
          <li class="header-nav-item">
            <a class="header-nav-link" href="https://enterprise.github.com/" data-ga-click="(Logged out) Header, go to enterprise, text:enterprise">Enterprise</a>
          </li>
          <li class="header-nav-item">
            <a class="header-nav-link" href="/blog" data-ga-click="(Logged out) Header, go to blog, text:blog">Blog</a>
          </li>
      </ul>

  </div>
</div>



      <div id="start-of-content" class="accessibility-aid"></div>
          <div class="site" itemscope itemtype="http://schema.org/WebPage">
    <div id="js-flash-container">
      
    </div>
    <div class="pagehead repohead instapaper_ignore readability-menu">
      <div class="container">
        
<ul class="pagehead-actions">


  <li>
      <a href="/login?return_to=%2Finpho%2Fvsm"
    class="minibutton with-count star-button tooltipped tooltipped-n"
    aria-label="You must be signed in to star a repository" rel="nofollow">
    <span class="octicon octicon-star"></span>
    Star
  </a>

    <a class="social-count js-social-count" href="/inpho/vsm/stargazers">
      8
    </a>

  </li>

    <li>
      <a href="/login?return_to=%2Finpho%2Fvsm"
        class="minibutton with-count js-toggler-target fork-button tooltipped tooltipped-n"
        aria-label="You must be signed in to fork a repository" rel="nofollow">
        <span class="octicon octicon-repo-forked"></span>
        Fork
      </a>
      <a href="/inpho/vsm/network" class="social-count">
        4
      </a>
    </li>
</ul>

        <h1 itemscope itemtype="http://data-vocabulary.org/Breadcrumb" class="entry-title public">
          <span class="mega-octicon octicon-repo"></span>
          <span class="author"><a href="/inpho" class="url fn" itemprop="url" rel="author"><span itemprop="title">inpho</span></a></span><!--
       --><span class="path-divider">/</span><!--
       --><strong><a href="/inpho/vsm" class="js-current-repository js-repo-home-link" data-pjax-container-selector="#js-repo-pjax-container">vsm</a></strong>

          <span class="page-context-loader">
            <img alt="" height="16" src="https://assets-cdn.github.com/images/spinners/octocat-spinner-32.gif" width="16" />
          </span>

        </h1>
      </div><!-- /.container -->
    </div><!-- /.repohead -->

    <div class="container">
      <div class="repository-with-sidebar repo-container new-discussion-timeline  ">
        <div class="repository-sidebar clearfix">
            
<div class="sunken-menu vertical-right repo-nav js-repo-nav js-sidenav-container-pjax js-octicon-loaders" role="navigation" data-issue-count-url="/inpho/vsm/issues/counts" data-pjax-container-selector="#js-repo-pjax-container">
  <div class="sunken-menu-contents">
    <ul class="sunken-menu-group">
      <li class="tooltipped tooltipped-w" aria-label="Code">
        <a href="/inpho/vsm" aria-label="Code" class="selected js-selected-navigation-item sunken-menu-item" data-hotkey="g c" data-pjax="true" data-selected-links="repo_source repo_downloads repo_commits repo_releases repo_tags repo_branches /inpho/vsm">
          <span class="octicon octicon-code"></span> <span class="full-word">Code</span>
          <img alt="" class="mini-loader" height="16" src="https://assets-cdn.github.com/images/spinners/octocat-spinner-32.gif" width="16" />
</a>      </li>

        <li class="tooltipped tooltipped-w" aria-label="Issues">
          <a href="/inpho/vsm/issues" aria-label="Issues" class="js-selected-navigation-item sunken-menu-item js-disable-pjax" data-hotkey="g i" data-selected-links="repo_issues repo_labels repo_milestones /inpho/vsm/issues">
            <span class="octicon octicon-issue-opened"></span> <span class="full-word">Issues</span>
            <span class="js-issue-replace-counter"></span>
            <img alt="" class="mini-loader" height="16" src="https://assets-cdn.github.com/images/spinners/octocat-spinner-32.gif" width="16" />
</a>        </li>

      <li class="tooltipped tooltipped-w" aria-label="Pull Requests">
        <a href="/inpho/vsm/pulls" aria-label="Pull Requests" class="js-selected-navigation-item sunken-menu-item js-disable-pjax" data-hotkey="g p" data-selected-links="repo_pulls /inpho/vsm/pulls">
            <span class="octicon octicon-git-pull-request"></span> <span class="full-word">Pull Requests</span>
            <span class="js-pull-replace-counter"></span>
            <img alt="" class="mini-loader" height="16" src="https://assets-cdn.github.com/images/spinners/octocat-spinner-32.gif" width="16" />
</a>      </li>


        <li class="tooltipped tooltipped-w" aria-label="Wiki">
          <a href="/inpho/vsm/wiki" aria-label="Wiki" class="js-selected-navigation-item sunken-menu-item js-disable-pjax" data-hotkey="g w" data-selected-links="repo_wiki /inpho/vsm/wiki">
            <span class="octicon octicon-book"></span> <span class="full-word">Wiki</span>
            <img alt="" class="mini-loader" height="16" src="https://assets-cdn.github.com/images/spinners/octocat-spinner-32.gif" width="16" />
</a>        </li>
    </ul>
    <div class="sunken-menu-separator"></div>
    <ul class="sunken-menu-group">

      <li class="tooltipped tooltipped-w" aria-label="Pulse">
        <a href="/inpho/vsm/pulse/weekly" aria-label="Pulse" class="js-selected-navigation-item sunken-menu-item" data-pjax="true" data-selected-links="pulse /inpho/vsm/pulse/weekly">
          <span class="octicon octicon-pulse"></span> <span class="full-word">Pulse</span>
          <img alt="" class="mini-loader" height="16" src="https://assets-cdn.github.com/images/spinners/octocat-spinner-32.gif" width="16" />
</a>      </li>

      <li class="tooltipped tooltipped-w" aria-label="Graphs">
        <a href="/inpho/vsm/graphs" aria-label="Graphs" class="js-selected-navigation-item sunken-menu-item" data-pjax="true" data-selected-links="repo_graphs repo_contributors /inpho/vsm/graphs">
          <span class="octicon octicon-graph"></span> <span class="full-word">Graphs</span>
          <img alt="" class="mini-loader" height="16" src="https://assets-cdn.github.com/images/spinners/octocat-spinner-32.gif" width="16" />
</a>      </li>
    </ul>


  </div>
</div>

              <div class="only-with-full-nav">
                
  
<div class="clone-url open"
  data-protocol-type="http"
  data-url="/users/set_protocol?protocol_selector=http&amp;protocol_type=clone">
  <h3><span class="text-emphasized">HTTPS</span> clone URL</h3>
  <div class="input-group">
    <input type="text" class="input-mini input-monospace js-url-field"
           value="https://github.com/inpho/vsm.git" readonly="readonly">
    <span class="input-group-button">
      <button aria-label="Copy to clipboard" class="js-zeroclipboard minibutton zeroclipboard-button" data-clipboard-text="https://github.com/inpho/vsm.git" data-copied-hint="Copied!" type="button"><span class="octicon octicon-clippy"></span></button>
    </span>
  </div>
</div>

  
<div class="clone-url "
  data-protocol-type="subversion"
  data-url="/users/set_protocol?protocol_selector=subversion&amp;protocol_type=clone">
  <h3><span class="text-emphasized">Subversion</span> checkout URL</h3>
  <div class="input-group">
    <input type="text" class="input-mini input-monospace js-url-field"
           value="https://github.com/inpho/vsm" readonly="readonly">
    <span class="input-group-button">
      <button aria-label="Copy to clipboard" class="js-zeroclipboard minibutton zeroclipboard-button" data-clipboard-text="https://github.com/inpho/vsm" data-copied-hint="Copied!" type="button"><span class="octicon octicon-clippy"></span></button>
    </span>
  </div>
</div>


<p class="clone-options">You can clone with
      <a href="#" class="js-clone-selector" data-protocol="http">HTTPS</a>
      or <a href="#" class="js-clone-selector" data-protocol="subversion">Subversion</a>.
  <a href="https://help.github.com/articles/which-remote-url-should-i-use" class="help tooltipped tooltipped-n" aria-label="Get help on which URL is right for you.">
    <span class="octicon octicon-question"></span>
  </a>
</p>



                <a href="/inpho/vsm/archive/master.zip"
                   class="minibutton sidebar-button"
                   aria-label="Download the contents of inpho/vsm as a zip file"
                   title="Download the contents of inpho/vsm as a zip file"
                   rel="nofollow">
                  <span class="octicon octicon-cloud-download"></span>
                  Download ZIP
                </a>
              </div>
        </div><!-- /.repository-sidebar -->

        <div id="js-repo-pjax-container" class="repository-content context-loader-container" data-pjax-container>
          

<a href="/inpho/vsm/blob/53ad40d4e26fa0912927749f2aab1002e75565ba/examples/church-corpus-lda.ipynb" class="hidden js-permalink-shortcut" data-hotkey="y">Permalink</a>

<!-- blob contrib key: blob_contributors:v21:192e8584a6f5622ddb7b67d6882dd722 -->

<div class="file-navigation">
  
<div class="select-menu js-menu-container js-select-menu left">
  <span class="minibutton select-menu-button js-menu-target css-truncate" data-hotkey="w"
    data-master-branch="master"
    data-ref="master"
    title="master"
    role="button" aria-label="Switch branches or tags" tabindex="0" aria-haspopup="true">
    <span class="octicon octicon-git-branch"></span>
    <i>branch:</i>
    <span class="js-select-button css-truncate-target">master</span>
  </span>

  <div class="select-menu-modal-holder js-menu-content js-navigation-container" data-pjax aria-hidden="true">

    <div class="select-menu-modal">
      <div class="select-menu-header">
        <span class="select-menu-title">Switch branches/tags</span>
        <span class="octicon octicon-x js-menu-close" role="button" aria-label="Close"></span>
      </div> <!-- /.select-menu-header -->

      <div class="select-menu-filters">
        <div class="select-menu-text-filter">
          <input type="text" aria-label="Filter branches/tags" id="context-commitish-filter-field" class="js-filterable-field js-navigation-enable" placeholder="Filter branches/tags">
        </div>
        <div class="select-menu-tabs">
          <ul>
            <li class="select-menu-tab">
              <a href="#" data-tab-filter="branches" class="js-select-menu-tab">Branches</a>
            </li>
            <li class="select-menu-tab">
              <a href="#" data-tab-filter="tags" class="js-select-menu-tab">Tags</a>
            </li>
          </ul>
        </div><!-- /.select-menu-tabs -->
      </div><!-- /.select-menu-filters -->

      <div class="select-menu-list select-menu-tab-bucket js-select-menu-tab-bucket" data-tab-filter="branches">

        <div data-filterable-for="context-commitish-filter-field" data-filterable-type="substring">


            <div class="select-menu-item js-navigation-item ">
              <span class="select-menu-item-icon octicon octicon-check"></span>
              <a href="/inpho/vsm/blob/change_label/examples/church-corpus-lda.ipynb"
                 data-name="change_label"
                 data-skip-pjax="true"
                 rel="nofollow"
                 class="js-navigation-open select-menu-item-text css-truncate-target"
                 title="change_label">change_label</a>
            </div> <!-- /.select-menu-item -->
            <div class="select-menu-item js-navigation-item ">
              <span class="select-menu-item-icon octicon octicon-check"></span>
              <a href="/inpho/vsm/blob/develop/examples/church-corpus-lda.ipynb"
                 data-name="develop"
                 data-skip-pjax="true"
                 rel="nofollow"
                 class="js-navigation-open select-menu-item-text css-truncate-target"
                 title="develop">develop</a>
            </div> <!-- /.select-menu-item -->
            <div class="select-menu-item js-navigation-item ">
              <span class="select-menu-item-icon octicon octicon-check"></span>
              <a href="/inpho/vsm/blob/general-refactoring/examples/church-corpus-lda.ipynb"
                 data-name="general-refactoring"
                 data-skip-pjax="true"
                 rel="nofollow"
                 class="js-navigation-open select-menu-item-text css-truncate-target"
                 title="general-refactoring">general-refactoring</a>
            </div> <!-- /.select-menu-item -->
            <div class="select-menu-item js-navigation-item ">
              <span class="select-menu-item-icon octicon octicon-check"></span>
              <a href="/inpho/vsm/blob/gh-pages/examples/church-corpus-lda.ipynb"
                 data-name="gh-pages"
                 data-skip-pjax="true"
                 rel="nofollow"
                 class="js-navigation-open select-menu-item-text css-truncate-target"
                 title="gh-pages">gh-pages</a>
            </div> <!-- /.select-menu-item -->
            <div class="select-menu-item js-navigation-item ">
              <span class="select-menu-item-icon octicon octicon-check"></span>
              <a href="/inpho/vsm/blob/htrc/examples/church-corpus-lda.ipynb"
                 data-name="htrc"
                 data-skip-pjax="true"
                 rel="nofollow"
                 class="js-navigation-open select-menu-item-text css-truncate-target"
                 title="htrc">htrc</a>
            </div> <!-- /.select-menu-item -->
            <div class="select-menu-item js-navigation-item ">
              <span class="select-menu-item-icon octicon octicon-check"></span>
              <a href="/inpho/vsm/blob/lda_refactor/examples/church-corpus-lda.ipynb"
                 data-name="lda_refactor"
                 data-skip-pjax="true"
                 rel="nofollow"
                 class="js-navigation-open select-menu-item-text css-truncate-target"
                 title="lda_refactor">lda_refactor</a>
            </div> <!-- /.select-menu-item -->
            <div class="select-menu-item js-navigation-item selected">
              <span class="select-menu-item-icon octicon octicon-check"></span>
              <a href="/inpho/vsm/blob/master/examples/church-corpus-lda.ipynb"
                 data-name="master"
                 data-skip-pjax="true"
                 rel="nofollow"
                 class="js-navigation-open select-menu-item-text css-truncate-target"
                 title="master">master</a>
            </div> <!-- /.select-menu-item -->
            <div class="select-menu-item js-navigation-item ">
              <span class="select-menu-item-icon octicon octicon-check"></span>
              <a href="/inpho/vsm/blob/random-seeds/examples/church-corpus-lda.ipynb"
                 data-name="random-seeds"
                 data-skip-pjax="true"
                 rel="nofollow"
                 class="js-navigation-open select-menu-item-text css-truncate-target"
                 title="random-seeds">random-seeds</a>
            </div> <!-- /.select-menu-item -->
            <div class="select-menu-item js-navigation-item ">
              <span class="select-menu-item-icon octicon octicon-check"></span>
              <a href="/inpho/vsm/blob/tests/examples/church-corpus-lda.ipynb"
                 data-name="tests"
                 data-skip-pjax="true"
                 rel="nofollow"
                 class="js-navigation-open select-menu-item-text css-truncate-target"
                 title="tests">tests</a>
            </div> <!-- /.select-menu-item -->
            <div class="select-menu-item js-navigation-item ">
              <span class="select-menu-item-icon octicon octicon-check"></span>
              <a href="/inpho/vsm/blob/travis/examples/church-corpus-lda.ipynb"
                 data-name="travis"
                 data-skip-pjax="true"
                 rel="nofollow"
                 class="js-navigation-open select-menu-item-text css-truncate-target"
                 title="travis">travis</a>
            </div> <!-- /.select-menu-item -->
        </div>

          <div class="select-menu-no-results">Nothing to show</div>
      </div> <!-- /.select-menu-list -->

      <div class="select-menu-list select-menu-tab-bucket js-select-menu-tab-bucket" data-tab-filter="tags">
        <div data-filterable-for="context-commitish-filter-field" data-filterable-type="substring">


            <div class="select-menu-item js-navigation-item ">
              <span class="select-menu-item-icon octicon octicon-check"></span>
              <a href="/inpho/vsm/tree/v0.2-alpha/examples/church-corpus-lda.ipynb"
                 data-name="v0.2-alpha"
                 data-skip-pjax="true"
                 rel="nofollow"
                 class="js-navigation-open select-menu-item-text css-truncate-target"
                 title="v0.2-alpha">v0.2-alpha</a>
            </div> <!-- /.select-menu-item -->
            <div class="select-menu-item js-navigation-item ">
              <span class="select-menu-item-icon octicon octicon-check"></span>
              <a href="/inpho/vsm/tree/v0.1-develop/examples/church-corpus-lda.ipynb"
                 data-name="v0.1-develop"
                 data-skip-pjax="true"
                 rel="nofollow"
                 class="js-navigation-open select-menu-item-text css-truncate-target"
                 title="v0.1-develop">v0.1-develop</a>
            </div> <!-- /.select-menu-item -->
        </div>

        <div class="select-menu-no-results">Nothing to show</div>
      </div> <!-- /.select-menu-list -->

    </div> <!-- /.select-menu-modal -->
  </div> <!-- /.select-menu-modal-holder -->
</div> <!-- /.select-menu -->

  <div class="button-group right">
    <a href="/inpho/vsm/find/master"
          class="js-show-file-finder minibutton empty-icon tooltipped tooltipped-s"
          data-pjax
          data-hotkey="t"
          aria-label="Quickly jump between files">
      <span class="octicon octicon-list-unordered"></span>
    </a>
    <button class="js-zeroclipboard minibutton zeroclipboard-button"
          data-clipboard-text="examples/church-corpus-lda.ipynb"
          aria-label="Copy to clipboard"
          data-copied-hint="Copied!">
      <span class="octicon octicon-clippy"></span>
    </button>
  </div>

  <div class="breadcrumb">
    <span class='repo-root js-repo-root'><span itemscope="" itemtype="http://data-vocabulary.org/Breadcrumb"><a href="/inpho/vsm" class="" data-branch="master" data-direction="back" data-pjax="true" itemscope="url"><span itemprop="title">vsm</span></a></span></span><span class="separator"> / </span><span itemscope="" itemtype="http://data-vocabulary.org/Breadcrumb"><a href="/inpho/vsm/tree/master/examples" class="" data-branch="master" data-direction="back" data-pjax="true" itemscope="url"><span itemprop="title">examples</span></a></span><span class="separator"> / </span><strong class="final-path">church-corpus-lda.ipynb</strong>
  </div>
</div>


  <div class="commit file-history-tease">
    <div class="file-history-tease-header">
        <img alt="Robert Rose" class="avatar" data-user="699623" height="24" src="https://avatars3.githubusercontent.com/u/699623?v=2&amp;s=48" width="24" />
        <span class="author"><a href="/rrose1" rel="contributor">rrose1</a></span>
        <time datetime="2014-10-21T01:02:58Z" is="relative-time">Oct 20, 2014</time>
        <div class="commit-title">
            <a href="/inpho/vsm/commit/8abef60071e4c3e24f15822a93586571cb78967d" class="message" data-pjax="true" title="Debugged examples.">Debugged examples.</a>
        </div>
    </div>

    <div class="participation">
      <p class="quickstat">
        <a href="#blob_contributors_box" rel="facebox">
          <strong>1</strong>
           contributor
        </a>
      </p>
      
    </div>
    <div id="blob_contributors_box" style="display:none">
      <h2 class="facebox-header">Users who have contributed to this file</h2>
      <ul class="facebox-user-list">
          <li class="facebox-user-list-item">
            <img alt="Robert Rose" data-user="699623" height="24" src="https://avatars3.githubusercontent.com/u/699623?v=2&amp;s=48" width="24" />
            <a href="/rrose1">rrose1</a>
          </li>
      </ul>
    </div>
  </div>

<div class="file-box">
  <div class="file">
    <div class="meta clearfix">
      <div class="info file-name">
          <span>755 lines (755 sloc)</span>
          <span class="meta-divider"></span>
        <span>66.685 kb</span>
      </div>
      <div class="actions">
        <div class="button-group">
          <a href="/inpho/vsm/raw/master/examples/church-corpus-lda.ipynb" class="minibutton " id="raw-url">Raw</a>
            <a href="/inpho/vsm/blame/master/examples/church-corpus-lda.ipynb" class="minibutton js-update-url-with-hash">Blame</a>
          <a href="/inpho/vsm/commits/master/examples/church-corpus-lda.ipynb" class="minibutton " rel="nofollow">History</a>
        </div><!-- /.button-group -->


            <a class="octicon-button disabled tooltipped tooltipped-w" href="#"
               aria-label="You must be signed in to make or propose changes"><span class="octicon octicon-pencil"></span></a>

          <a class="octicon-button danger disabled tooltipped tooltipped-w" href="#"
             aria-label="You must be signed in to make or propose changes">
          <span class="octicon octicon-trashcan"></span>
        </a>
      </div><!-- /.actions -->
    </div>
    
  <div class="blob-wrapper data type-text">
      <table class="highlight tab-size-8 js-file-line-container">
      <tr>
        <td id="L1" class="blob-num js-line-number" data-line-number="1"></td>
        <td id="LC1" class="blob-code js-file-line">{</td>
      </tr>
      <tr>
        <td id="L2" class="blob-num js-line-number" data-line-number="2"></td>
        <td id="LC2" class="blob-code js-file-line"> &quot;metadata&quot;: {</td>
      </tr>
      <tr>
        <td id="L3" class="blob-num js-line-number" data-line-number="3"></td>
        <td id="LC3" class="blob-code js-file-line">  &quot;name&quot;: &quot;&quot;,</td>
      </tr>
      <tr>
        <td id="L4" class="blob-num js-line-number" data-line-number="4"></td>
        <td id="LC4" class="blob-code js-file-line">  &quot;signature&quot;: &quot;sha256:f205b549386c42b5f3a6c46e46fc23cc150019c0881c30a371fb09105fe87560&quot;</td>
      </tr>
      <tr>
        <td id="L5" class="blob-num js-line-number" data-line-number="5"></td>
        <td id="LC5" class="blob-code js-file-line"> },</td>
      </tr>
      <tr>
        <td id="L6" class="blob-num js-line-number" data-line-number="6"></td>
        <td id="LC6" class="blob-code js-file-line"> &quot;nbformat&quot;: 3,</td>
      </tr>
      <tr>
        <td id="L7" class="blob-num js-line-number" data-line-number="7"></td>
        <td id="LC7" class="blob-code js-file-line"> &quot;nbformat_minor&quot;: 0,</td>
      </tr>
      <tr>
        <td id="L8" class="blob-num js-line-number" data-line-number="8"></td>
        <td id="LC8" class="blob-code js-file-line"> &quot;worksheets&quot;: [</td>
      </tr>
      <tr>
        <td id="L9" class="blob-num js-line-number" data-line-number="9"></td>
        <td id="LC9" class="blob-code js-file-line">  {</td>
      </tr>
      <tr>
        <td id="L10" class="blob-num js-line-number" data-line-number="10"></td>
        <td id="LC10" class="blob-code js-file-line">   &quot;cells&quot;: [</td>
      </tr>
      <tr>
        <td id="L11" class="blob-num js-line-number" data-line-number="11"></td>
        <td id="LC11" class="blob-code js-file-line">    {</td>
      </tr>
      <tr>
        <td id="L12" class="blob-num js-line-number" data-line-number="12"></td>
        <td id="LC12" class="blob-code js-file-line">     &quot;cell_type&quot;: &quot;code&quot;,</td>
      </tr>
      <tr>
        <td id="L13" class="blob-num js-line-number" data-line-number="13"></td>
        <td id="LC13" class="blob-code js-file-line">     &quot;collapsed&quot;: false,</td>
      </tr>
      <tr>
        <td id="L14" class="blob-num js-line-number" data-line-number="14"></td>
        <td id="LC14" class="blob-code js-file-line">     &quot;input&quot;: [</td>
      </tr>
      <tr>
        <td id="L15" class="blob-num js-line-number" data-line-number="15"></td>
        <td id="LC15" class="blob-code js-file-line">      &quot;from vsm import *\n&quot;,</td>
      </tr>
      <tr>
        <td id="L16" class="blob-num js-line-number" data-line-number="16"></td>
        <td id="LC16" class="blob-code js-file-line">      &quot;from vsm.extensions.corpusbuilders import toy_corpus\n&quot;,</td>
      </tr>
      <tr>
        <td id="L17" class="blob-num js-line-number" data-line-number="17"></td>
        <td id="LC17" class="blob-code js-file-line">      &quot;\n&quot;,</td>
      </tr>
      <tr>
        <td id="L18" class="blob-num js-line-number" data-line-number="18"></td>
        <td id="LC18" class="blob-code js-file-line">      &quot;\n&quot;,</td>
      </tr>
      <tr>
        <td id="L19" class="blob-num js-line-number" data-line-number="19"></td>
        <td id="LC19" class="blob-code js-file-line">      &quot;plain_corpus = \&quot;\&quot;\&quot;\n&quot;,</td>
      </tr>
      <tr>
        <td id="L20" class="blob-num js-line-number" data-line-number="20"></td>
        <td id="LC20" class="blob-code js-file-line">      &quot;His theology challenged the Pope of the Roman Catholic Church by\n&quot;,</td>
      </tr>
      <tr>
        <td id="L21" class="blob-num js-line-number" data-line-number="21"></td>
        <td id="LC21" class="blob-code js-file-line">      &quot;teaching that the Bible is the only source of divinely revealed\n&quot;,</td>
      </tr>
      <tr>
        <td id="L22" class="blob-num js-line-number" data-line-number="22"></td>
        <td id="LC22" class="blob-code js-file-line">      &quot;knowledge.\n&quot;,</td>
      </tr>
      <tr>
        <td id="L23" class="blob-num js-line-number" data-line-number="23"></td>
        <td id="LC23" class="blob-code js-file-line">      &quot;\n&quot;,</td>
      </tr>
      <tr>
        <td id="L24" class="blob-num js-line-number" data-line-number="24"></td>
        <td id="LC24" class="blob-code js-file-line">      &quot;Augustine is held in the Catholic Church to be the model teacher.\n&quot;,</td>
      </tr>
      <tr>
        <td id="L25" class="blob-num js-line-number" data-line-number="25"></td>
        <td id="LC25" class="blob-code js-file-line">      &quot;\n&quot;,</td>
      </tr>
      <tr>
        <td id="L26" class="blob-num js-line-number" data-line-number="26"></td>
        <td id="LC26" class="blob-code js-file-line">      &quot;Augustine was recognized as a Doctor of the Church by Pope Boniface\n&quot;,</td>
      </tr>
      <tr>
        <td id="L27" class="blob-num js-line-number" data-line-number="27"></td>
        <td id="LC27" class="blob-code js-file-line">      &quot;VIII.\n&quot;,</td>
      </tr>
      <tr>
        <td id="L28" class="blob-num js-line-number" data-line-number="28"></td>
        <td id="LC28" class="blob-code js-file-line">      &quot;\n&quot;,</td>
      </tr>
      <tr>
        <td id="L29" class="blob-num js-line-number" data-line-number="29"></td>
        <td id="LC29" class="blob-code js-file-line">      &quot;Roman Catholic theology stated that faith alone cannot justify man.\n&quot;,</td>
      </tr>
      <tr>
        <td id="L30" class="blob-num js-line-number" data-line-number="30"></td>
        <td id="LC30" class="blob-code js-file-line">      &quot;\n&quot;,</td>
      </tr>
      <tr>
        <td id="L31" class="blob-num js-line-number" data-line-number="31"></td>
        <td id="LC31" class="blob-code js-file-line">      &quot;In the Catholic Church the Pope is regarded as the successor of Saint\n&quot;,</td>
      </tr>
      <tr>
        <td id="L32" class="blob-num js-line-number" data-line-number="32"></td>
        <td id="LC32" class="blob-code js-file-line">      &quot;Peter.\n&quot;,</td>
      </tr>
      <tr>
        <td id="L33" class="blob-num js-line-number" data-line-number="33"></td>
        <td id="LC33" class="blob-code js-file-line">      &quot;\n&quot;,</td>
      </tr>
      <tr>
        <td id="L34" class="blob-num js-line-number" data-line-number="34"></td>
        <td id="LC34" class="blob-code js-file-line">      &quot;Alonzo Church was an American mathematician and logician who made\n&quot;,</td>
      </tr>
      <tr>
        <td id="L35" class="blob-num js-line-number" data-line-number="35"></td>
        <td id="LC35" class="blob-code js-file-line">      &quot;major contributions to mathematical logic and the foundations of\n&quot;,</td>
      </tr>
      <tr>
        <td id="L36" class="blob-num js-line-number" data-line-number="36"></td>
        <td id="LC36" class="blob-code js-file-line">      &quot;theoretical computer science.\n&quot;,</td>
      </tr>
      <tr>
        <td id="L37" class="blob-num js-line-number" data-line-number="37"></td>
        <td id="LC37" class="blob-code js-file-line">      &quot;\n&quot;,</td>
      </tr>
      <tr>
        <td id="L38" class="blob-num js-line-number" data-line-number="38"></td>
        <td id="LC38" class="blob-code js-file-line">      &quot;The lambda calculus was introduced by mathematician Alonzo Church as\n&quot;,</td>
      </tr>
      <tr>
        <td id="L39" class="blob-num js-line-number" data-line-number="39"></td>
        <td id="LC39" class="blob-code js-file-line">      &quot;an investigation into the foundations of mathematics.\n&quot;,</td>
      </tr>
      <tr>
        <td id="L40" class="blob-num js-line-number" data-line-number="40"></td>
        <td id="LC40" class="blob-code js-file-line">      &quot;\n&quot;,</td>
      </tr>
      <tr>
        <td id="L41" class="blob-num js-line-number" data-line-number="41"></td>
        <td id="LC41" class="blob-code js-file-line">      &quot;The Church Turing thesis states that a function is algorithmically\n&quot;,</td>
      </tr>
      <tr>
        <td id="L42" class="blob-num js-line-number" data-line-number="42"></td>
        <td id="LC42" class="blob-code js-file-line">      &quot;computable if and only if it is computable by a Turing machine.\n&quot;,</td>
      </tr>
      <tr>
        <td id="L43" class="blob-num js-line-number" data-line-number="43"></td>
        <td id="LC43" class="blob-code js-file-line">      &quot;\n&quot;,</td>
      </tr>
      <tr>
        <td id="L44" class="blob-num js-line-number" data-line-number="44"></td>
        <td id="LC44" class="blob-code js-file-line">      &quot;Mathematical logic has close connections to the foundations of\n&quot;,</td>
      </tr>
      <tr>
        <td id="L45" class="blob-num js-line-number" data-line-number="45"></td>
        <td id="LC45" class="blob-code js-file-line">      &quot;mathematics, theoretical computer science.\n&quot;,</td>
      </tr>
      <tr>
        <td id="L46" class="blob-num js-line-number" data-line-number="46"></td>
        <td id="LC46" class="blob-code js-file-line">      &quot;\n&quot;,</td>
      </tr>
      <tr>
        <td id="L47" class="blob-num js-line-number" data-line-number="47"></td>
        <td id="LC47" class="blob-code js-file-line">      &quot;A Turing machine can be adapted to simulate the logic of any computer\n&quot;,</td>
      </tr>
      <tr>
        <td id="L48" class="blob-num js-line-number" data-line-number="48"></td>
        <td id="LC48" class="blob-code js-file-line">      &quot;algorithm.\n&quot;,</td>
      </tr>
      <tr>
        <td id="L49" class="blob-num js-line-number" data-line-number="49"></td>
        <td id="LC49" class="blob-code js-file-line">      &quot;\&quot;\&quot;\&quot;\n&quot;,</td>
      </tr>
      <tr>
        <td id="L50" class="blob-num js-line-number" data-line-number="50"></td>
        <td id="LC50" class="blob-code js-file-line">      &quot;\n&quot;,</td>
      </tr>
      <tr>
        <td id="L51" class="blob-num js-line-number" data-line-number="51"></td>
        <td id="LC51" class="blob-code js-file-line">      &quot;metadata = [&#39;Ecclesiastical &#39; + str(i) for i in xrange(1, 6)]\n&quot;,</td>
      </tr>
      <tr>
        <td id="L52" class="blob-num js-line-number" data-line-number="52"></td>
        <td id="LC52" class="blob-code js-file-line">      &quot;\n&quot;,</td>
      </tr>
      <tr>
        <td id="L53" class="blob-num js-line-number" data-line-number="53"></td>
        <td id="LC53" class="blob-code js-file-line">      &quot;metadata += [&#39;Logic &#39; + str(i) for i in xrange(1, 6)]\n&quot;,</td>
      </tr>
      <tr>
        <td id="L54" class="blob-num js-line-number" data-line-number="54"></td>
        <td id="LC54" class="blob-code js-file-line">      &quot;\n&quot;,</td>
      </tr>
      <tr>
        <td id="L55" class="blob-num js-line-number" data-line-number="55"></td>
        <td id="LC55" class="blob-code js-file-line">      &quot;c = toy_corpus(plain_corpus, nltk_stop=True, metadata=metadata)\n&quot;,</td>
      </tr>
      <tr>
        <td id="L56" class="blob-num js-line-number" data-line-number="56"></td>
        <td id="LC56" class="blob-code js-file-line">      &quot;\n&quot;,</td>
      </tr>
      <tr>
        <td id="L57" class="blob-num js-line-number" data-line-number="57"></td>
        <td id="LC57" class="blob-code js-file-line">      &quot;m = LDA(c, context_type=&#39;document&#39;, K=2)\n&quot;,</td>
      </tr>
      <tr>
        <td id="L58" class="blob-num js-line-number" data-line-number="58"></td>
        <td id="LC58" class="blob-code js-file-line">      &quot;\n&quot;,</td>
      </tr>
      <tr>
        <td id="L59" class="blob-num js-line-number" data-line-number="59"></td>
        <td id="LC59" class="blob-code js-file-line">      &quot;m.train(n_iterations=200)\n&quot;,</td>
      </tr>
      <tr>
        <td id="L60" class="blob-num js-line-number" data-line-number="60"></td>
        <td id="LC60" class="blob-code js-file-line">      &quot;\n&quot;,</td>
      </tr>
      <tr>
        <td id="L61" class="blob-num js-line-number" data-line-number="61"></td>
        <td id="LC61" class="blob-code js-file-line">      &quot;v = LdaCgsViewer(c, m)&quot;</td>
      </tr>
      <tr>
        <td id="L62" class="blob-num js-line-number" data-line-number="62"></td>
        <td id="LC62" class="blob-code js-file-line">     ],</td>
      </tr>
      <tr>
        <td id="L63" class="blob-num js-line-number" data-line-number="63"></td>
        <td id="LC63" class="blob-code js-file-line">     &quot;language&quot;: &quot;python&quot;,</td>
      </tr>
      <tr>
        <td id="L64" class="blob-num js-line-number" data-line-number="64"></td>
        <td id="LC64" class="blob-code js-file-line">     &quot;metadata&quot;: {},</td>
      </tr>
      <tr>
        <td id="L65" class="blob-num js-line-number" data-line-number="65"></td>
        <td id="LC65" class="blob-code js-file-line">     &quot;outputs&quot;: [</td>
      </tr>
      <tr>
        <td id="L66" class="blob-num js-line-number" data-line-number="66"></td>
        <td id="LC66" class="blob-code js-file-line">      {</td>
      </tr>
      <tr>
        <td id="L67" class="blob-num js-line-number" data-line-number="67"></td>
        <td id="LC67" class="blob-code js-file-line">       &quot;output_type&quot;: &quot;stream&quot;,</td>
      </tr>
      <tr>
        <td id="L68" class="blob-num js-line-number" data-line-number="68"></td>
        <td id="LC68" class="blob-code js-file-line">       &quot;stream&quot;: &quot;stdout&quot;,</td>
      </tr>
      <tr>
        <td id="L69" class="blob-num js-line-number" data-line-number="69"></td>
        <td id="LC69" class="blob-code js-file-line">       &quot;text&quot;: [</td>
      </tr>
      <tr>
        <td id="L70" class="blob-num js-line-number" data-line-number="70"></td>
        <td id="LC70" class="blob-code js-file-line">        &quot;Begin LDA training for 200 iterations\n&quot;,</td>
      </tr>
      <tr>
        <td id="L71" class="blob-num js-line-number" data-line-number="71"></td>
        <td id="LC71" class="blob-code js-file-line">        &quot;Iteration 199 complete: log_prob=-292.814182029, time=0.0&quot;</td>
      </tr>
      <tr>
        <td id="L72" class="blob-num js-line-number" data-line-number="72"></td>
        <td id="LC72" class="blob-code js-file-line">       ]</td>
      </tr>
      <tr>
        <td id="L73" class="blob-num js-line-number" data-line-number="73"></td>
        <td id="LC73" class="blob-code js-file-line">      },</td>
      </tr>
      <tr>
        <td id="L74" class="blob-num js-line-number" data-line-number="74"></td>
        <td id="LC74" class="blob-code js-file-line">      {</td>
      </tr>
      <tr>
        <td id="L75" class="blob-num js-line-number" data-line-number="75"></td>
        <td id="LC75" class="blob-code js-file-line">       &quot;output_type&quot;: &quot;stream&quot;,</td>
      </tr>
      <tr>
        <td id="L76" class="blob-num js-line-number" data-line-number="76"></td>
        <td id="LC76" class="blob-code js-file-line">       &quot;stream&quot;: &quot;stdout&quot;,</td>
      </tr>
      <tr>
        <td id="L77" class="blob-num js-line-number" data-line-number="77"></td>
        <td id="LC77" class="blob-code js-file-line">       &quot;text&quot;: [</td>
      </tr>
      <tr>
        <td id="L78" class="blob-num js-line-number" data-line-number="78"></td>
        <td id="LC78" class="blob-code js-file-line">        &quot;\n&quot;</td>
      </tr>
      <tr>
        <td id="L79" class="blob-num js-line-number" data-line-number="79"></td>
        <td id="LC79" class="blob-code js-file-line">       ]</td>
      </tr>
      <tr>
        <td id="L80" class="blob-num js-line-number" data-line-number="80"></td>
        <td id="LC80" class="blob-code js-file-line">      }</td>
      </tr>
      <tr>
        <td id="L81" class="blob-num js-line-number" data-line-number="81"></td>
        <td id="LC81" class="blob-code js-file-line">     ],</td>
      </tr>
      <tr>
        <td id="L82" class="blob-num js-line-number" data-line-number="82"></td>
        <td id="LC82" class="blob-code js-file-line">     &quot;prompt_number&quot;: 3</td>
      </tr>
      <tr>
        <td id="L83" class="blob-num js-line-number" data-line-number="83"></td>
        <td id="LC83" class="blob-code js-file-line">    },</td>
      </tr>
      <tr>
        <td id="L84" class="blob-num js-line-number" data-line-number="84"></td>
        <td id="LC84" class="blob-code js-file-line">    {</td>
      </tr>
      <tr>
        <td id="L85" class="blob-num js-line-number" data-line-number="85"></td>
        <td id="LC85" class="blob-code js-file-line">     &quot;cell_type&quot;: &quot;code&quot;,</td>
      </tr>
      <tr>
        <td id="L86" class="blob-num js-line-number" data-line-number="86"></td>
        <td id="LC86" class="blob-code js-file-line">     &quot;collapsed&quot;: false,</td>
      </tr>
      <tr>
        <td id="L87" class="blob-num js-line-number" data-line-number="87"></td>
        <td id="LC87" class="blob-code js-file-line">     &quot;input&quot;: [</td>
      </tr>
      <tr>
        <td id="L88" class="blob-num js-line-number" data-line-number="88"></td>
        <td id="LC88" class="blob-code js-file-line">      &quot;v.topics(compact_view=False)&quot;</td>
      </tr>
      <tr>
        <td id="L89" class="blob-num js-line-number" data-line-number="89"></td>
        <td id="LC89" class="blob-code js-file-line">     ],</td>
      </tr>
      <tr>
        <td id="L90" class="blob-num js-line-number" data-line-number="90"></td>
        <td id="LC90" class="blob-code js-file-line">     &quot;language&quot;: &quot;python&quot;,</td>
      </tr>
      <tr>
        <td id="L91" class="blob-num js-line-number" data-line-number="91"></td>
        <td id="LC91" class="blob-code js-file-line">     &quot;metadata&quot;: {},</td>
      </tr>
      <tr>
        <td id="L92" class="blob-num js-line-number" data-line-number="92"></td>
        <td id="LC92" class="blob-code js-file-line">     &quot;outputs&quot;: [</td>
      </tr>
      <tr>
        <td id="L93" class="blob-num js-line-number" data-line-number="93"></td>
        <td id="LC93" class="blob-code js-file-line">      {</td>
      </tr>
      <tr>
        <td id="L94" class="blob-num js-line-number" data-line-number="94"></td>
        <td id="LC94" class="blob-code js-file-line">       &quot;html&quot;: [</td>
      </tr>
      <tr>
        <td id="L95" class="blob-num js-line-number" data-line-number="95"></td>
        <td id="LC95" class="blob-code js-file-line">        &quot;&lt;table&gt;&lt;tr&gt;&lt;th style=\&quot;text-align: center; background: #A9D0F5;            fontsize: 14px;\&quot; colspan=\&quot;6\&quot;&gt; Topics Sorted by Index &lt;/th&gt;&lt;/tr&gt;&lt;tr&gt;&lt;th style=\&quot;text-align: center; background: #CEE3F6;\&quot;                 colspan=\&quot;2\&quot;&gt;Topic 0&lt;/th&gt;&lt;th style=\&quot;text-align: center; background: #CEE3F6;\&quot;                 colspan=\&quot;2\&quot;&gt;Topic 1&lt;/th&gt;&lt;/tr&gt;&lt;tr&gt;&lt;th style=\&quot;text-align: center; background: #EFF2FB;\&quot;&gt;                        Word&lt;/th&gt;&lt;th style=\&quot;text-align: center; background: #EFF2FB;\&quot;&gt;                        Prob&lt;/th&gt;&lt;th style=\&quot;text-align: center; background: #EFF2FB;\&quot;&gt;                        Word&lt;/th&gt;&lt;th style=\&quot;text-align: center; background: #EFF2FB;\&quot;&gt;                        Prob&lt;/th&gt;&lt;/tr&gt;&lt;tr&gt;&lt;td&gt;logic&lt;/td&gt;&lt;td&gt;0.06070&lt;/td&gt;&lt;td&gt;catholic&lt;/td&gt;&lt;td&gt;0.09879&lt;/td&gt;&lt;/tr&gt;&lt;tr&gt;&lt;td&gt;turing&lt;/td&gt;&lt;td&gt;0.06070&lt;/td&gt;&lt;td&gt;church&lt;/td&gt;&lt;td&gt;0.09879&lt;/td&gt;&lt;/tr&gt;&lt;tr&gt;&lt;td&gt;foundations&lt;/td&gt;&lt;td&gt;0.06070&lt;/td&gt;&lt;td&gt;pope&lt;/td&gt;&lt;td&gt;0.07416&lt;/td&gt;&lt;/tr&gt;&lt;tr&gt;&lt;td&gt;church&lt;/td&gt;&lt;td&gt;0.06070&lt;/td&gt;&lt;td&gt;theology&lt;/td&gt;&lt;td&gt;0.04952&lt;/td&gt;&lt;/tr&gt;&lt;tr&gt;&lt;td&gt;computer&lt;/td&gt;&lt;td&gt;0.06070&lt;/td&gt;&lt;td&gt;augustine&lt;/td&gt;&lt;td&gt;0.04952&lt;/td&gt;&lt;/tr&gt;&lt;tr&gt;&lt;td&gt;computable&lt;/td&gt;&lt;td&gt;0.04053&lt;/td&gt;&lt;td&gt;roman&lt;/td&gt;&lt;td&gt;0.04952&lt;/td&gt;&lt;/tr&gt;&lt;tr&gt;&lt;td&gt;mathematical&lt;/td&gt;&lt;td&gt;0.04053&lt;/td&gt;&lt;td&gt;model&lt;/td&gt;&lt;td&gt;0.02488&lt;/td&gt;&lt;/tr&gt;&lt;tr&gt;&lt;td&gt;mathematician&lt;/td&gt;&lt;td&gt;0.04053&lt;/td&gt;&lt;td&gt;man&lt;/td&gt;&lt;td&gt;0.02488&lt;/td&gt;&lt;/tr&gt;&lt;tr&gt;&lt;td&gt;mathematics&lt;/td&gt;&lt;td&gt;0.04053&lt;/td&gt;&lt;td&gt;bible&lt;/td&gt;&lt;td&gt;0.02488&lt;/td&gt;&lt;/tr&gt;&lt;tr&gt;&lt;td&gt;science&lt;/td&gt;&lt;td&gt;0.04053&lt;/td&gt;&lt;td&gt;boniface&lt;/td&gt;&lt;td&gt;0.02488&lt;/td&gt;&lt;/tr&gt;&lt;/table&gt;&quot;</td>
      </tr>
      <tr>
        <td id="L96" class="blob-num js-line-number" data-line-number="96"></td>
        <td id="LC96" class="blob-code js-file-line">       ],</td>
      </tr>
      <tr>
        <td id="L97" class="blob-num js-line-number" data-line-number="97"></td>
        <td id="LC97" class="blob-code js-file-line">       &quot;metadata&quot;: {},</td>
      </tr>
      <tr>
        <td id="L98" class="blob-num js-line-number" data-line-number="98"></td>
        <td id="LC98" class="blob-code js-file-line">       &quot;output_type&quot;: &quot;pyout&quot;,</td>
      </tr>
      <tr>
        <td id="L99" class="blob-num js-line-number" data-line-number="99"></td>
        <td id="LC99" class="blob-code js-file-line">       &quot;prompt_number&quot;: 4,</td>
      </tr>
      <tr>
        <td id="L100" class="blob-num js-line-number" data-line-number="100"></td>
        <td id="LC100" class="blob-code js-file-line">       &quot;text&quot;: [</td>
      </tr>
      <tr>
        <td id="L101" class="blob-num js-line-number" data-line-number="101"></td>
        <td id="LC101" class="blob-code js-file-line">        &quot;[LabeledColumn([(&#39;logic&#39;, 0.06069772131478124), (&#39;turing&#39;, 0.06069772131478124),\n&quot;,</td>
      </tr>
      <tr>
        <td id="L102" class="blob-num js-line-number" data-line-number="102"></td>
        <td id="LC102" class="blob-code js-file-line">        &quot;        (&#39;foundations&#39;, 0.06069772131478124),\n&quot;,</td>
      </tr>
      <tr>
        <td id="L103" class="blob-num js-line-number" data-line-number="103"></td>
        <td id="LC103" class="blob-code js-file-line">        &quot;        (&#39;church&#39;, 0.06069772131478124), (&#39;computer&#39;, 0.06069772131478124),\n&quot;,</td>
      </tr>
      <tr>
        <td id="L104" class="blob-num js-line-number" data-line-number="104"></td>
        <td id="LC104" class="blob-code js-file-line">        &quot;        (&#39;computable&#39;, 0.04053236539624926),\n&quot;,</td>
      </tr>
      <tr>
        <td id="L105" class="blob-num js-line-number" data-line-number="105"></td>
        <td id="LC105" class="blob-code js-file-line">        &quot;        (&#39;mathematical&#39;, 0.04053236539624926),\n&quot;,</td>
      </tr>
      <tr>
        <td id="L106" class="blob-num js-line-number" data-line-number="106"></td>
        <td id="LC106" class="blob-code js-file-line">        &quot;        (&#39;mathematician&#39;, 0.04053236539624926),\n&quot;,</td>
      </tr>
      <tr>
        <td id="L107" class="blob-num js-line-number" data-line-number="107"></td>
        <td id="LC107" class="blob-code js-file-line">        &quot;        (&#39;mathematics&#39;, 0.04053236539624926),\n&quot;,</td>
      </tr>
      <tr>
        <td id="L108" class="blob-num js-line-number" data-line-number="108"></td>
        <td id="LC108" class="blob-code js-file-line">        &quot;        (&#39;science&#39;, 0.04053236539624926), (&#39;machine&#39;, 0.04053236539624926),\n&quot;,</td>
      </tr>
      <tr>
        <td id="L109" class="blob-num js-line-number" data-line-number="109"></td>
        <td id="LC109" class="blob-code js-file-line">        &quot;        (&#39;alonzo&#39;, 0.04053236539624926),\n&quot;,</td>
      </tr>
      <tr>
        <td id="L110" class="blob-num js-line-number" data-line-number="110"></td>
        <td id="LC110" class="blob-code js-file-line">        &quot;        (&#39;theoretical&#39;, 0.04053236539624926),\n&quot;,</td>
      </tr>
      <tr>
        <td id="L111" class="blob-num js-line-number" data-line-number="111"></td>
        <td id="LC111" class="blob-code js-file-line">        &quot;        (&#39;close&#39;, 0.020367009477717295), (&#39;calculus&#39;, 0.020367009477717295),\n&quot;,</td>
      </tr>
      <tr>
        <td id="L112" class="blob-num js-line-number" data-line-number="112"></td>
        <td id="LC112" class="blob-code js-file-line">        &quot;        (&#39;made&#39;, 0.020367009477717295),\n&quot;,</td>
      </tr>
      <tr>
        <td id="L113" class="blob-num js-line-number" data-line-number="113"></td>
        <td id="LC113" class="blob-code js-file-line">        &quot;        (&#39;contributions&#39;, 0.020367009477717295),\n&quot;,</td>
      </tr>
      <tr>
        <td id="L114" class="blob-num js-line-number" data-line-number="114"></td>
        <td id="LC114" class="blob-code js-file-line">        &quot;        (&#39;american&#39;, 0.020367009477717295),\n&quot;,</td>
      </tr>
      <tr>
        <td id="L115" class="blob-num js-line-number" data-line-number="115"></td>
        <td id="LC115" class="blob-code js-file-line">        &quot;        (&#39;function&#39;, 0.020367009477717295),\n&quot;,</td>
      </tr>
      <tr>
        <td id="L116" class="blob-num js-line-number" data-line-number="116"></td>
        <td id="LC116" class="blob-code js-file-line">        &quot;        (&#39;introduced&#39;, 0.020367009477717295),\n&quot;,</td>
      </tr>
      <tr>
        <td id="L117" class="blob-num js-line-number" data-line-number="117"></td>
        <td id="LC117" class="blob-code js-file-line">        &quot;        (&#39;investigation&#39;, 0.020367009477717295),\n&quot;,</td>
      </tr>
      <tr>
        <td id="L118" class="blob-num js-line-number" data-line-number="118"></td>
        <td id="LC118" class="blob-code js-file-line">        &quot;        (&#39;lambda&#39;, 0.020367009477717295),\n&quot;,</td>
      </tr>
      <tr>
        <td id="L119" class="blob-num js-line-number" data-line-number="119"></td>
        <td id="LC119" class="blob-code js-file-line">        &quot;        (&#39;algorithmically&#39;, 0.020367009477717295),\n&quot;,</td>
      </tr>
      <tr>
        <td id="L120" class="blob-num js-line-number" data-line-number="120"></td>
        <td id="LC120" class="blob-code js-file-line">        &quot;        (&#39;algorithm&#39;, 0.020367009477717295),\n&quot;,</td>
      </tr>
      <tr>
        <td id="L121" class="blob-num js-line-number" data-line-number="121"></td>
        <td id="LC121" class="blob-code js-file-line">        &quot;        (&#39;logician&#39;, 0.020367009477717295),\n&quot;,</td>
      </tr>
      <tr>
        <td id="L122" class="blob-num js-line-number" data-line-number="122"></td>
        <td id="LC122" class="blob-code js-file-line">        &quot;        (&#39;connections&#39;, 0.020367009477717295),\n&quot;,</td>
      </tr>
      <tr>
        <td id="L123" class="blob-num js-line-number" data-line-number="123"></td>
        <td id="LC123" class="blob-code js-file-line">        &quot;        (&#39;adapted&#39;, 0.020367009477717295), (&#39;major&#39;, 0.020367009477717295),\n&quot;,</td>
      </tr>
      <tr>
        <td id="L124" class="blob-num js-line-number" data-line-number="124"></td>
        <td id="LC124" class="blob-code js-file-line">        &quot;        (&#39;states&#39;, 0.020367009477717295), (&#39;thesis&#39;, 0.020367009477717295),\n&quot;,</td>
      </tr>
      <tr>
        <td id="L125" class="blob-num js-line-number" data-line-number="125"></td>
        <td id="LC125" class="blob-code js-file-line">        &quot;        (&#39;simulate&#39;, 0.020367009477717295),\n&quot;,</td>
      </tr>
      <tr>
        <td id="L126" class="blob-num js-line-number" data-line-number="126"></td>
        <td id="LC126" class="blob-code js-file-line">        &quot;        (&#39;viii&#39;, 0.00020165355918531992),\n&quot;,</td>
      </tr>
      <tr>
        <td id="L127" class="blob-num js-line-number" data-line-number="127"></td>
        <td id="LC127" class="blob-code js-file-line">        &quot;        (&#39;catholic&#39;, 0.00020165355918531992),\n&quot;,</td>
      </tr>
      <tr>
        <td id="L128" class="blob-num js-line-number" data-line-number="128"></td>
        <td id="LC128" class="blob-code js-file-line">        &quot;        (&#39;successor&#39;, 0.00020165355918531992),\n&quot;,</td>
      </tr>
      <tr>
        <td id="L129" class="blob-num js-line-number" data-line-number="129"></td>
        <td id="LC129" class="blob-code js-file-line">        &quot;        (&#39;boniface&#39;, 0.00020165355918531992),\n&quot;,</td>
      </tr>
      <tr>
        <td id="L130" class="blob-num js-line-number" data-line-number="130"></td>
        <td id="LC130" class="blob-code js-file-line">        &quot;        (&#39;teacher&#39;, 0.00020165355918531992),\n&quot;,</td>
      </tr>
      <tr>
        <td id="L131" class="blob-num js-line-number" data-line-number="131"></td>
        <td id="LC131" class="blob-code js-file-line">        &quot;        (&#39;saint&#39;, 0.00020165355918531992),\n&quot;,</td>
      </tr>
      <tr>
        <td id="L132" class="blob-num js-line-number" data-line-number="132"></td>
        <td id="LC132" class="blob-code js-file-line">        &quot;        (&#39;doctor&#39;, 0.00020165355918531992),\n&quot;,</td>
      </tr>
      <tr>
        <td id="L133" class="blob-num js-line-number" data-line-number="133"></td>
        <td id="LC133" class="blob-code js-file-line">        &quot;        (&#39;model&#39;, 0.00020165355918531992),\n&quot;,</td>
      </tr>
      <tr>
        <td id="L134" class="blob-num js-line-number" data-line-number="134"></td>
        <td id="LC134" class="blob-code js-file-line">        &quot;        (&#39;regarded&#39;, 0.00020165355918531992),\n&quot;,</td>
      </tr>
      <tr>
        <td id="L135" class="blob-num js-line-number" data-line-number="135"></td>
        <td id="LC135" class="blob-code js-file-line">        &quot;        (&#39;held&#39;, 0.00020165355918531992),\n&quot;,</td>
      </tr>
      <tr>
        <td id="L136" class="blob-num js-line-number" data-line-number="136"></td>
        <td id="LC136" class="blob-code js-file-line">        &quot;        (&#39;recognized&#39;, 0.00020165355918531992),\n&quot;,</td>
      </tr>
      <tr>
        <td id="L137" class="blob-num js-line-number" data-line-number="137"></td>
        <td id="LC137" class="blob-code js-file-line">        &quot;        (&#39;pope&#39;, 0.00020165355918531992),\n&quot;,</td>
      </tr>
      <tr>
        <td id="L138" class="blob-num js-line-number" data-line-number="138"></td>
        <td id="LC138" class="blob-code js-file-line">        &quot;        (&#39;challenged&#39;, 0.00020165355918531992),\n&quot;,</td>
      </tr>
      <tr>
        <td id="L139" class="blob-num js-line-number" data-line-number="139"></td>
        <td id="LC139" class="blob-code js-file-line">        &quot;        (&#39;theology&#39;, 0.00020165355918531975),\n&quot;,</td>
      </tr>
      <tr>
        <td id="L140" class="blob-num js-line-number" data-line-number="140"></td>
        <td id="LC140" class="blob-code js-file-line">        &quot;        (&#39;alone&#39;, 0.00020165355918531975),\n&quot;,</td>
      </tr>
      <tr>
        <td id="L141" class="blob-num js-line-number" data-line-number="141"></td>
        <td id="LC141" class="blob-code js-file-line">        &quot;        (&#39;teaching&#39;, 0.00020165355918531975),\n&quot;,</td>
      </tr>
      <tr>
        <td id="L142" class="blob-num js-line-number" data-line-number="142"></td>
        <td id="LC142" class="blob-code js-file-line">        &quot;        (&#39;bible&#39;, 0.00020165355918531975),\n&quot;,</td>
      </tr>
      <tr>
        <td id="L143" class="blob-num js-line-number" data-line-number="143"></td>
        <td id="LC143" class="blob-code js-file-line">        &quot;        (&#39;knowledge&#39;, 0.00020165355918531975),\n&quot;,</td>
      </tr>
      <tr>
        <td id="L144" class="blob-num js-line-number" data-line-number="144"></td>
        <td id="LC144" class="blob-code js-file-line">        &quot;        (&#39;peter&#39;, 0.00020165355918531975),\n&quot;,</td>
      </tr>
      <tr>
        <td id="L145" class="blob-num js-line-number" data-line-number="145"></td>
        <td id="LC145" class="blob-code js-file-line">        &quot;        (&#39;justify&#39;, 0.00020165355918531975),\n&quot;,</td>
      </tr>
      <tr>
        <td id="L146" class="blob-num js-line-number" data-line-number="146"></td>
        <td id="LC146" class="blob-code js-file-line">        &quot;        (&#39;source&#39;, 0.00020165355918531975), (&#39;man&#39;, 0.00020165355918531975),\n&quot;,</td>
      </tr>
      <tr>
        <td id="L147" class="blob-num js-line-number" data-line-number="147"></td>
        <td id="LC147" class="blob-code js-file-line">        &quot;        (&#39;roman&#39;, 0.00020165355918531975),\n&quot;,</td>
      </tr>
      <tr>
        <td id="L148" class="blob-num js-line-number" data-line-number="148"></td>
        <td id="LC148" class="blob-code js-file-line">        &quot;        (&#39;divinely&#39;, 0.00020165355918531975),\n&quot;,</td>
      </tr>
      <tr>
        <td id="L149" class="blob-num js-line-number" data-line-number="149"></td>
        <td id="LC149" class="blob-code js-file-line">        &quot;        (&#39;faith&#39;, 0.00020165355918531975),\n&quot;,</td>
      </tr>
      <tr>
        <td id="L150" class="blob-num js-line-number" data-line-number="150"></td>
        <td id="LC150" class="blob-code js-file-line">        &quot;        (&#39;revealed&#39;, 0.00020165355918531975),\n&quot;,</td>
      </tr>
      <tr>
        <td id="L151" class="blob-num js-line-number" data-line-number="151"></td>
        <td id="LC151" class="blob-code js-file-line">        &quot;        (&#39;stated&#39;, 0.00020165355918531975),\n&quot;,</td>
      </tr>
      <tr>
        <td id="L152" class="blob-num js-line-number" data-line-number="152"></td>
        <td id="LC152" class="blob-code js-file-line">        &quot;        (&#39;augustine&#39;, 0.00020165355918531544)], \n&quot;,</td>
      </tr>
      <tr>
        <td id="L153" class="blob-num js-line-number" data-line-number="153"></td>
        <td id="LC153" class="blob-code js-file-line">        &quot;       dtype=[(&#39;word&#39;, &#39;|S15&#39;), (&#39;value&#39;, &#39;&lt;f8&#39;)]),\n&quot;,</td>
      </tr>
      <tr>
        <td id="L154" class="blob-num js-line-number" data-line-number="154"></td>
        <td id="LC154" class="blob-code js-file-line">        &quot; LabeledColumn([(&#39;catholic&#39;, 0.09879280610987926), (&#39;church&#39;, 0.09879280610987926),\n&quot;,</td>
      </tr>
      <tr>
        <td id="L155" class="blob-num js-line-number" data-line-number="155"></td>
        <td id="LC155" class="blob-code js-file-line">        &quot;        (&#39;pope&#39;, 0.0741561961074156), (&#39;theology&#39;, 0.04951958610495194),\n&quot;,</td>
      </tr>
      <tr>
        <td id="L156" class="blob-num js-line-number" data-line-number="156"></td>
        <td id="LC156" class="blob-code js-file-line">        &quot;        (&#39;augustine&#39;, 0.04951958610495194), (&#39;roman&#39;, 0.04951958610495194),\n&quot;,</td>
      </tr>
      <tr>
        <td id="L157" class="blob-num js-line-number" data-line-number="157"></td>
        <td id="LC157" class="blob-code js-file-line">        &quot;        (&#39;model&#39;, 0.02488297610248829), (&#39;man&#39;, 0.02488297610248829),\n&quot;,</td>
      </tr>
      <tr>
        <td id="L158" class="blob-num js-line-number" data-line-number="158"></td>
        <td id="LC158" class="blob-code js-file-line">        &quot;        (&#39;bible&#39;, 0.02488297610248829), (&#39;boniface&#39;, 0.02488297610248829),\n&quot;,</td>
      </tr>
      <tr>
        <td id="L159" class="blob-num js-line-number" data-line-number="159"></td>
        <td id="LC159" class="blob-code js-file-line">        &quot;        (&#39;viii&#39;, 0.02488297610248829), (&#39;challenged&#39;, 0.02488297610248829),\n&quot;,</td>
      </tr>
      <tr>
        <td id="L160" class="blob-num js-line-number" data-line-number="160"></td>
        <td id="LC160" class="blob-code js-file-line">        &quot;        (&#39;peter&#39;, 0.02488297610248829), (&#39;justify&#39;, 0.02488297610248829),\n&quot;,</td>
      </tr>
      <tr>
        <td id="L161" class="blob-num js-line-number" data-line-number="161"></td>
        <td id="LC161" class="blob-code js-file-line">        &quot;        (&#39;held&#39;, 0.02488297610248829), (&#39;faith&#39;, 0.02488297610248829),\n&quot;,</td>
      </tr>
      <tr>
        <td id="L162" class="blob-num js-line-number" data-line-number="162"></td>
        <td id="LC162" class="blob-code js-file-line">        &quot;        (&#39;doctor&#39;, 0.02488297610248829), (&#39;divinely&#39;, 0.02488297610248829),\n&quot;,</td>
      </tr>
      <tr>
        <td id="L163" class="blob-num js-line-number" data-line-number="163"></td>
        <td id="LC163" class="blob-code js-file-line">        &quot;        (&#39;knowledge&#39;, 0.02488297610248829), (&#39;alone&#39;, 0.02488297610248829),\n&quot;,</td>
      </tr>
      <tr>
        <td id="L164" class="blob-num js-line-number" data-line-number="164"></td>
        <td id="LC164" class="blob-code js-file-line">        &quot;        (&#39;recognized&#39;, 0.02488297610248829), (&#39;saint&#39;, 0.02488297610248829),\n&quot;,</td>
      </tr>
      <tr>
        <td id="L165" class="blob-num js-line-number" data-line-number="165"></td>
        <td id="LC165" class="blob-code js-file-line">        &quot;        (&#39;teaching&#39;, 0.02488297610248829), (&#39;teacher&#39;, 0.02488297610248829),\n&quot;,</td>
      </tr>
      <tr>
        <td id="L166" class="blob-num js-line-number" data-line-number="166"></td>
        <td id="LC166" class="blob-code js-file-line">        &quot;        (&#39;successor&#39;, 0.02488297610248829), (&#39;source&#39;, 0.02488297610248829),\n&quot;,</td>
      </tr>
      <tr>
        <td id="L167" class="blob-num js-line-number" data-line-number="167"></td>
        <td id="LC167" class="blob-code js-file-line">        &quot;        (&#39;stated&#39;, 0.02488297610248829), (&#39;revealed&#39;, 0.02488297610248829),\n&quot;,</td>
      </tr>
      <tr>
        <td id="L168" class="blob-num js-line-number" data-line-number="168"></td>
        <td id="LC168" class="blob-code js-file-line">        &quot;        (&#39;regarded&#39;, 0.02488297610248829),\n&quot;,</td>
      </tr>
      <tr>
        <td id="L169" class="blob-num js-line-number" data-line-number="169"></td>
        <td id="LC169" class="blob-code js-file-line">        &quot;        (&#39;algorithmically&#39;, 0.00024636610002463677),\n&quot;,</td>
      </tr>
      <tr>
        <td id="L170" class="blob-num js-line-number" data-line-number="170"></td>
        <td id="LC170" class="blob-code js-file-line">        &quot;        (&#39;calculus&#39;, 0.00024636610002463677),\n&quot;,</td>
      </tr>
      <tr>
        <td id="L171" class="blob-num js-line-number" data-line-number="171"></td>
        <td id="LC171" class="blob-code js-file-line">        &quot;        (&#39;simulate&#39;, 0.00024636610002463677),\n&quot;,</td>
      </tr>
      <tr>
        <td id="L172" class="blob-num js-line-number" data-line-number="172"></td>
        <td id="LC172" class="blob-code js-file-line">        &quot;        (&#39;states&#39;, 0.00024636610002463677),\n&quot;,</td>
      </tr>
      <tr>
        <td id="L173" class="blob-num js-line-number" data-line-number="173"></td>
        <td id="LC173" class="blob-code js-file-line">        &quot;        (&#39;introduced&#39;, 0.00024636610002463677),\n&quot;,</td>
      </tr>
      <tr>
        <td id="L174" class="blob-num js-line-number" data-line-number="174"></td>
        <td id="LC174" class="blob-code js-file-line">        &quot;        (&#39;function&#39;, 0.00024636610002463677),\n&quot;,</td>
      </tr>
      <tr>
        <td id="L175" class="blob-num js-line-number" data-line-number="175"></td>
        <td id="LC175" class="blob-code js-file-line">        &quot;        (&#39;thesis&#39;, 0.00024636610002463677),\n&quot;,</td>
      </tr>
      <tr>
        <td id="L176" class="blob-num js-line-number" data-line-number="176"></td>
        <td id="LC176" class="blob-code js-file-line">        &quot;        (&#39;connections&#39;, 0.00024636610002463656),\n&quot;,</td>
      </tr>
      <tr>
        <td id="L177" class="blob-num js-line-number" data-line-number="177"></td>
        <td id="LC177" class="blob-code js-file-line">        &quot;        (&#39;american&#39;, 0.00024636610002463656),\n&quot;,</td>
      </tr>
      <tr>
        <td id="L178" class="blob-num js-line-number" data-line-number="178"></td>
        <td id="LC178" class="blob-code js-file-line">        &quot;        (&#39;close&#39;, 0.00024636610002463656),\n&quot;,</td>
      </tr>
      <tr>
        <td id="L179" class="blob-num js-line-number" data-line-number="179"></td>
        <td id="LC179" class="blob-code js-file-line">        &quot;        (&#39;alonzo&#39;, 0.00024636610002463656),\n&quot;,</td>
      </tr>
      <tr>
        <td id="L180" class="blob-num js-line-number" data-line-number="180"></td>
        <td id="LC180" class="blob-code js-file-line">        &quot;        (&#39;algorithm&#39;, 0.00024636610002463656),\n&quot;,</td>
      </tr>
      <tr>
        <td id="L181" class="blob-num js-line-number" data-line-number="181"></td>
        <td id="LC181" class="blob-code js-file-line">        &quot;        (&#39;computer&#39;, 0.00024636610002463656),\n&quot;,</td>
      </tr>
      <tr>
        <td id="L182" class="blob-num js-line-number" data-line-number="182"></td>
        <td id="LC182" class="blob-code js-file-line">        &quot;        (&#39;logic&#39;, 0.00024636610002463656),\n&quot;,</td>
      </tr>
      <tr>
        <td id="L183" class="blob-num js-line-number" data-line-number="183"></td>
        <td id="LC183" class="blob-code js-file-line">        &quot;        (&#39;contributions&#39;, 0.00024636610002463656),\n&quot;,</td>
      </tr>
      <tr>
        <td id="L184" class="blob-num js-line-number" data-line-number="184"></td>
        <td id="LC184" class="blob-code js-file-line">        &quot;        (&#39;foundations&#39;, 0.00024636610002463656),\n&quot;,</td>
      </tr>
      <tr>
        <td id="L185" class="blob-num js-line-number" data-line-number="185"></td>
        <td id="LC185" class="blob-code js-file-line">        &quot;        (&#39;investigation&#39;, 0.00024636610002463656),\n&quot;,</td>
      </tr>
      <tr>
        <td id="L186" class="blob-num js-line-number" data-line-number="186"></td>
        <td id="LC186" class="blob-code js-file-line">        &quot;        (&#39;lambda&#39;, 0.00024636610002463656),\n&quot;,</td>
      </tr>
      <tr>
        <td id="L187" class="blob-num js-line-number" data-line-number="187"></td>
        <td id="LC187" class="blob-code js-file-line">        &quot;        (&#39;turing&#39;, 0.00024636610002463656),\n&quot;,</td>
      </tr>
      <tr>
        <td id="L188" class="blob-num js-line-number" data-line-number="188"></td>
        <td id="LC188" class="blob-code js-file-line">        &quot;        (&#39;logician&#39;, 0.00024636610002463656),\n&quot;,</td>
      </tr>
      <tr>
        <td id="L189" class="blob-num js-line-number" data-line-number="189"></td>
        <td id="LC189" class="blob-code js-file-line">        &quot;        (&#39;machine&#39;, 0.00024636610002463656),\n&quot;,</td>
      </tr>
      <tr>
        <td id="L190" class="blob-num js-line-number" data-line-number="190"></td>
        <td id="LC190" class="blob-code js-file-line">        &quot;        (&#39;made&#39;, 0.00024636610002463656), (&#39;major&#39;, 0.00024636610002463656),\n&quot;,</td>
      </tr>
      <tr>
        <td id="L191" class="blob-num js-line-number" data-line-number="191"></td>
        <td id="LC191" class="blob-code js-file-line">        &quot;        (&#39;mathematical&#39;, 0.00024636610002463656),\n&quot;,</td>
      </tr>
      <tr>
        <td id="L192" class="blob-num js-line-number" data-line-number="192"></td>
        <td id="LC192" class="blob-code js-file-line">        &quot;        (&#39;mathematician&#39;, 0.00024636610002463656),\n&quot;,</td>
      </tr>
      <tr>
        <td id="L193" class="blob-num js-line-number" data-line-number="193"></td>
        <td id="LC193" class="blob-code js-file-line">        &quot;        (&#39;mathematics&#39;, 0.00024636610002463656),\n&quot;,</td>
      </tr>
      <tr>
        <td id="L194" class="blob-num js-line-number" data-line-number="194"></td>
        <td id="LC194" class="blob-code js-file-line">        &quot;        (&#39;science&#39;, 0.00024636610002463656),\n&quot;,</td>
      </tr>
      <tr>
        <td id="L195" class="blob-num js-line-number" data-line-number="195"></td>
        <td id="LC195" class="blob-code js-file-line">        &quot;        (&#39;theoretical&#39;, 0.00024636610002463656),\n&quot;,</td>
      </tr>
      <tr>
        <td id="L196" class="blob-num js-line-number" data-line-number="196"></td>
        <td id="LC196" class="blob-code js-file-line">        &quot;        (&#39;adapted&#39;, 0.00024636610002463656),\n&quot;,</td>
      </tr>
      <tr>
        <td id="L197" class="blob-num js-line-number" data-line-number="197"></td>
        <td id="LC197" class="blob-code js-file-line">        &quot;        (&#39;computable&#39;, 0.0002463661000246313)], \n&quot;,</td>
      </tr>
      <tr>
        <td id="L198" class="blob-num js-line-number" data-line-number="198"></td>
        <td id="LC198" class="blob-code js-file-line">        &quot;       dtype=[(&#39;word&#39;, &#39;|S15&#39;), (&#39;value&#39;, &#39;&lt;f8&#39;)])]&quot;</td>
      </tr>
      <tr>
        <td id="L199" class="blob-num js-line-number" data-line-number="199"></td>
        <td id="LC199" class="blob-code js-file-line">       ]</td>
      </tr>
      <tr>
        <td id="L200" class="blob-num js-line-number" data-line-number="200"></td>
        <td id="LC200" class="blob-code js-file-line">      }</td>
      </tr>
      <tr>
        <td id="L201" class="blob-num js-line-number" data-line-number="201"></td>
        <td id="LC201" class="blob-code js-file-line">     ],</td>
      </tr>
      <tr>
        <td id="L202" class="blob-num js-line-number" data-line-number="202"></td>
        <td id="LC202" class="blob-code js-file-line">     &quot;prompt_number&quot;: 4</td>
      </tr>
      <tr>
        <td id="L203" class="blob-num js-line-number" data-line-number="203"></td>
        <td id="LC203" class="blob-code js-file-line">    },</td>
      </tr>
      <tr>
        <td id="L204" class="blob-num js-line-number" data-line-number="204"></td>
        <td id="LC204" class="blob-code js-file-line">    {</td>
      </tr>
      <tr>
        <td id="L205" class="blob-num js-line-number" data-line-number="205"></td>
        <td id="LC205" class="blob-code js-file-line">     &quot;cell_type&quot;: &quot;code&quot;,</td>
      </tr>
      <tr>
        <td id="L206" class="blob-num js-line-number" data-line-number="206"></td>
        <td id="LC206" class="blob-code js-file-line">     &quot;collapsed&quot;: false,</td>
      </tr>
      <tr>
        <td id="L207" class="blob-num js-line-number" data-line-number="207"></td>
        <td id="LC207" class="blob-code js-file-line">     &quot;input&quot;: [</td>
      </tr>
      <tr>
        <td id="L208" class="blob-num js-line-number" data-line-number="208"></td>
        <td id="LC208" class="blob-code js-file-line">      &quot;v.doc_topics(dict(document_label=&#39;Logic 1&#39;))&quot;</td>
      </tr>
      <tr>
        <td id="L209" class="blob-num js-line-number" data-line-number="209"></td>
        <td id="LC209" class="blob-code js-file-line">     ],</td>
      </tr>
      <tr>
        <td id="L210" class="blob-num js-line-number" data-line-number="210"></td>
        <td id="LC210" class="blob-code js-file-line">     &quot;language&quot;: &quot;python&quot;,</td>
      </tr>
      <tr>
        <td id="L211" class="blob-num js-line-number" data-line-number="211"></td>
        <td id="LC211" class="blob-code js-file-line">     &quot;metadata&quot;: {},</td>
      </tr>
      <tr>
        <td id="L212" class="blob-num js-line-number" data-line-number="212"></td>
        <td id="LC212" class="blob-code js-file-line">     &quot;outputs&quot;: [</td>
      </tr>
      <tr>
        <td id="L213" class="blob-num js-line-number" data-line-number="213"></td>
        <td id="LC213" class="blob-code js-file-line">      {</td>
      </tr>
      <tr>
        <td id="L214" class="blob-num js-line-number" data-line-number="214"></td>
        <td id="LC214" class="blob-code js-file-line">       &quot;html&quot;: [</td>
      </tr>
      <tr>
        <td id="L215" class="blob-num js-line-number" data-line-number="215"></td>
        <td id="LC215" class="blob-code js-file-line">        &quot;&lt;table style=\&quot;margin: 0\&quot;&gt;&lt;tr&gt;&lt;th style=\&quot;text-align: center; background: #CEE3F6\&quot; colspan                    =\&quot;2\&quot;&gt;Document: Logic 1&lt;/th&gt;&lt;/tr&gt;&lt;tr&gt;&lt;th style=\&quot;text-align: center; background: #EFF2FB; \&quot;&gt;Topic                          &lt;/th&gt;&lt;th style=\&quot;text-align: center; background: #EFF2FB; \&quot;&gt;Prob                          &lt;/th&gt;&lt;/tr&gt;&lt;tr&gt;&lt;td&gt;0         &lt;/td&gt;&lt;td&gt;0.99929   &lt;/td&gt;&lt;/tr&gt;&lt;tr&gt;&lt;td&gt;1         &lt;/td&gt;&lt;td&gt;0.00071   &lt;/td&gt;&lt;/tr&gt;&lt;/table&gt;&quot;</td>
      </tr>
      <tr>
        <td id="L216" class="blob-num js-line-number" data-line-number="216"></td>
        <td id="LC216" class="blob-code js-file-line">       ],</td>
      </tr>
      <tr>
        <td id="L217" class="blob-num js-line-number" data-line-number="217"></td>
        <td id="LC217" class="blob-code js-file-line">       &quot;metadata&quot;: {},</td>
      </tr>
      <tr>
        <td id="L218" class="blob-num js-line-number" data-line-number="218"></td>
        <td id="LC218" class="blob-code js-file-line">       &quot;output_type&quot;: &quot;pyout&quot;,</td>
      </tr>
      <tr>
        <td id="L219" class="blob-num js-line-number" data-line-number="219"></td>
        <td id="LC219" class="blob-code js-file-line">       &quot;prompt_number&quot;: 5,</td>
      </tr>
      <tr>
        <td id="L220" class="blob-num js-line-number" data-line-number="220"></td>
        <td id="LC220" class="blob-code js-file-line">       &quot;text&quot;: [</td>
      </tr>
      <tr>
        <td id="L221" class="blob-num js-line-number" data-line-number="221"></td>
        <td id="LC221" class="blob-code js-file-line">        &quot;LabeledColumn([(0, 0.9992867332382311), (1, 0.0007132667617689016)], \n&quot;,</td>
      </tr>
      <tr>
        <td id="L222" class="blob-num js-line-number" data-line-number="222"></td>
        <td id="LC222" class="blob-code js-file-line">        &quot;      dtype=[(&#39;i&#39;, &#39;&lt;i8&#39;), (&#39;value&#39;, &#39;&lt;f8&#39;)])&quot;</td>
      </tr>
      <tr>
        <td id="L223" class="blob-num js-line-number" data-line-number="223"></td>
        <td id="LC223" class="blob-code js-file-line">       ]</td>
      </tr>
      <tr>
        <td id="L224" class="blob-num js-line-number" data-line-number="224"></td>
        <td id="LC224" class="blob-code js-file-line">      }</td>
      </tr>
      <tr>
        <td id="L225" class="blob-num js-line-number" data-line-number="225"></td>
        <td id="LC225" class="blob-code js-file-line">     ],</td>
      </tr>
      <tr>
        <td id="L226" class="blob-num js-line-number" data-line-number="226"></td>
        <td id="LC226" class="blob-code js-file-line">     &quot;prompt_number&quot;: 5</td>
      </tr>
      <tr>
        <td id="L227" class="blob-num js-line-number" data-line-number="227"></td>
        <td id="LC227" class="blob-code js-file-line">    },</td>
      </tr>
      <tr>
        <td id="L228" class="blob-num js-line-number" data-line-number="228"></td>
        <td id="LC228" class="blob-code js-file-line">    {</td>
      </tr>
      <tr>
        <td id="L229" class="blob-num js-line-number" data-line-number="229"></td>
        <td id="LC229" class="blob-code js-file-line">     &quot;cell_type&quot;: &quot;code&quot;,</td>
      </tr>
      <tr>
        <td id="L230" class="blob-num js-line-number" data-line-number="230"></td>
        <td id="LC230" class="blob-code js-file-line">     &quot;collapsed&quot;: false,</td>
      </tr>
      <tr>
        <td id="L231" class="blob-num js-line-number" data-line-number="231"></td>
        <td id="LC231" class="blob-code js-file-line">     &quot;input&quot;: [</td>
      </tr>
      <tr>
        <td id="L232" class="blob-num js-line-number" data-line-number="232"></td>
        <td id="LC232" class="blob-code js-file-line">      &quot;v.dist_top_top([0,1], weights=[.6, .4])&quot;</td>
      </tr>
      <tr>
        <td id="L233" class="blob-num js-line-number" data-line-number="233"></td>
        <td id="LC233" class="blob-code js-file-line">     ],</td>
      </tr>
      <tr>
        <td id="L234" class="blob-num js-line-number" data-line-number="234"></td>
        <td id="LC234" class="blob-code js-file-line">     &quot;language&quot;: &quot;python&quot;,</td>
      </tr>
      <tr>
        <td id="L235" class="blob-num js-line-number" data-line-number="235"></td>
        <td id="LC235" class="blob-code js-file-line">     &quot;metadata&quot;: {},</td>
      </tr>
      <tr>
        <td id="L236" class="blob-num js-line-number" data-line-number="236"></td>
        <td id="LC236" class="blob-code js-file-line">     &quot;outputs&quot;: [</td>
      </tr>
      <tr>
        <td id="L237" class="blob-num js-line-number" data-line-number="237"></td>
        <td id="LC237" class="blob-code js-file-line">      {</td>
      </tr>
      <tr>
        <td id="L238" class="blob-num js-line-number" data-line-number="238"></td>
        <td id="LC238" class="blob-code js-file-line">       &quot;html&quot;: [</td>
      </tr>
      <tr>
        <td id="L239" class="blob-num js-line-number" data-line-number="239"></td>
        <td id="LC239" class="blob-code js-file-line">        &quot;&lt;table style=\&quot;margin: 0\&quot;&gt;&lt;tr&gt;&lt;th style=\&quot;text-align: center; background: #CEE3F6\&quot; colspan            =\&quot;11\&quot;&gt;Sorted by Topic Distance&lt;/th&gt;&lt;/tr&gt;&lt;tr&gt;&lt;th style=\&quot;text-align: center; background: #EFF2FB;\&quot;                     &gt;Topic&lt;/th&gt;&lt;th style=\&quot;text-align: center; background: #EFF2FB;\&quot;                     &gt;Words&lt;/th&gt;&lt;/tr&gt;&lt;tr&gt;&lt;td style=\&quot;padding-left:0.75em;\&quot;&gt;0&lt;/td&gt;&lt;td&gt; logic, turing, foundations, church, computer, computable, mathematical, mathematician, mathematics, science          &lt;/td&gt;&lt;/tr&gt;&lt;tr&gt;&lt;td style=\&quot;padding-left:0.75em;\&quot;&gt;1&lt;/td&gt;&lt;td&gt; catholic, church, pope, theology, augustine, roman, model, man, bible, boniface         &lt;/td&gt;&lt;/tr&gt;&lt;/table&gt;&quot;</td>
      </tr>
      <tr>
        <td id="L240" class="blob-num js-line-number" data-line-number="240"></td>
        <td id="LC240" class="blob-code js-file-line">       ],</td>
      </tr>
      <tr>
        <td id="L241" class="blob-num js-line-number" data-line-number="241"></td>
        <td id="LC241" class="blob-code js-file-line">       &quot;metadata&quot;: {},</td>
      </tr>
      <tr>
        <td id="L242" class="blob-num js-line-number" data-line-number="242"></td>
        <td id="LC242" class="blob-code js-file-line">       &quot;output_type&quot;: &quot;pyout&quot;,</td>
      </tr>
      <tr>
        <td id="L243" class="blob-num js-line-number" data-line-number="243"></td>
        <td id="LC243" class="blob-code js-file-line">       &quot;prompt_number&quot;: 6,</td>
      </tr>
      <tr>
        <td id="L244" class="blob-num js-line-number" data-line-number="244"></td>
        <td id="LC244" class="blob-code js-file-line">       &quot;text&quot;: [</td>
      </tr>
      <tr>
        <td id="L245" class="blob-num js-line-number" data-line-number="245"></td>
        <td id="LC245" class="blob-code js-file-line">        &quot;CompactTable([[(&#39;logic&#39;, 0.06069772131478124), (&#39;turing&#39;, 0.06069772131478124),\n&quot;,</td>
      </tr>
      <tr>
        <td id="L246" class="blob-num js-line-number" data-line-number="246"></td>
        <td id="LC246" class="blob-code js-file-line">        &quot;        (&#39;foundations&#39;, 0.06069772131478124),\n&quot;,</td>
      </tr>
      <tr>
        <td id="L247" class="blob-num js-line-number" data-line-number="247"></td>
        <td id="LC247" class="blob-code js-file-line">        &quot;        (&#39;church&#39;, 0.06069772131478124), (&#39;computer&#39;, 0.06069772131478124),\n&quot;,</td>
      </tr>
      <tr>
        <td id="L248" class="blob-num js-line-number" data-line-number="248"></td>
        <td id="LC248" class="blob-code js-file-line">        &quot;        (&#39;computable&#39;, 0.04053236539624926),\n&quot;,</td>
      </tr>
      <tr>
        <td id="L249" class="blob-num js-line-number" data-line-number="249"></td>
        <td id="LC249" class="blob-code js-file-line">        &quot;        (&#39;mathematical&#39;, 0.04053236539624926),\n&quot;,</td>
      </tr>
      <tr>
        <td id="L250" class="blob-num js-line-number" data-line-number="250"></td>
        <td id="LC250" class="blob-code js-file-line">        &quot;        (&#39;mathematician&#39;, 0.04053236539624926),\n&quot;,</td>
      </tr>
      <tr>
        <td id="L251" class="blob-num js-line-number" data-line-number="251"></td>
        <td id="LC251" class="blob-code js-file-line">        &quot;        (&#39;mathematics&#39;, 0.04053236539624926),\n&quot;,</td>
      </tr>
      <tr>
        <td id="L252" class="blob-num js-line-number" data-line-number="252"></td>
        <td id="LC252" class="blob-code js-file-line">        &quot;        (&#39;science&#39;, 0.04053236539624926), (&#39;machine&#39;, 0.04053236539624926),\n&quot;,</td>
      </tr>
      <tr>
        <td id="L253" class="blob-num js-line-number" data-line-number="253"></td>
        <td id="LC253" class="blob-code js-file-line">        &quot;        (&#39;alonzo&#39;, 0.04053236539624926),\n&quot;,</td>
      </tr>
      <tr>
        <td id="L254" class="blob-num js-line-number" data-line-number="254"></td>
        <td id="LC254" class="blob-code js-file-line">        &quot;        (&#39;theoretical&#39;, 0.04053236539624926),\n&quot;,</td>
      </tr>
      <tr>
        <td id="L255" class="blob-num js-line-number" data-line-number="255"></td>
        <td id="LC255" class="blob-code js-file-line">        &quot;        (&#39;close&#39;, 0.020367009477717295),\n&quot;,</td>
      </tr>
      <tr>
        <td id="L256" class="blob-num js-line-number" data-line-number="256"></td>
        <td id="LC256" class="blob-code js-file-line">        &quot;        (&#39;calculus&#39;, 0.020367009477717295), (&#39;made&#39;, 0.020367009477717295),\n&quot;,</td>
      </tr>
      <tr>
        <td id="L257" class="blob-num js-line-number" data-line-number="257"></td>
        <td id="LC257" class="blob-code js-file-line">        &quot;        (&#39;contributions&#39;, 0.020367009477717295),\n&quot;,</td>
      </tr>
      <tr>
        <td id="L258" class="blob-num js-line-number" data-line-number="258"></td>
        <td id="LC258" class="blob-code js-file-line">        &quot;        (&#39;american&#39;, 0.020367009477717295),\n&quot;,</td>
      </tr>
      <tr>
        <td id="L259" class="blob-num js-line-number" data-line-number="259"></td>
        <td id="LC259" class="blob-code js-file-line">        &quot;        (&#39;function&#39;, 0.020367009477717295),\n&quot;,</td>
      </tr>
      <tr>
        <td id="L260" class="blob-num js-line-number" data-line-number="260"></td>
        <td id="LC260" class="blob-code js-file-line">        &quot;        (&#39;introduced&#39;, 0.020367009477717295),\n&quot;,</td>
      </tr>
      <tr>
        <td id="L261" class="blob-num js-line-number" data-line-number="261"></td>
        <td id="LC261" class="blob-code js-file-line">        &quot;        (&#39;investigation&#39;, 0.020367009477717295),\n&quot;,</td>
      </tr>
      <tr>
        <td id="L262" class="blob-num js-line-number" data-line-number="262"></td>
        <td id="LC262" class="blob-code js-file-line">        &quot;        (&#39;lambda&#39;, 0.020367009477717295),\n&quot;,</td>
      </tr>
      <tr>
        <td id="L263" class="blob-num js-line-number" data-line-number="263"></td>
        <td id="LC263" class="blob-code js-file-line">        &quot;        (&#39;algorithmically&#39;, 0.020367009477717295),\n&quot;,</td>
      </tr>
      <tr>
        <td id="L264" class="blob-num js-line-number" data-line-number="264"></td>
        <td id="LC264" class="blob-code js-file-line">        &quot;        (&#39;algorithm&#39;, 0.020367009477717295),\n&quot;,</td>
      </tr>
      <tr>
        <td id="L265" class="blob-num js-line-number" data-line-number="265"></td>
        <td id="LC265" class="blob-code js-file-line">        &quot;        (&#39;logician&#39;, 0.020367009477717295),\n&quot;,</td>
      </tr>
      <tr>
        <td id="L266" class="blob-num js-line-number" data-line-number="266"></td>
        <td id="LC266" class="blob-code js-file-line">        &quot;        (&#39;connections&#39;, 0.020367009477717295),\n&quot;,</td>
      </tr>
      <tr>
        <td id="L267" class="blob-num js-line-number" data-line-number="267"></td>
        <td id="LC267" class="blob-code js-file-line">        &quot;        (&#39;adapted&#39;, 0.020367009477717295), (&#39;major&#39;, 0.020367009477717295),\n&quot;,</td>
      </tr>
      <tr>
        <td id="L268" class="blob-num js-line-number" data-line-number="268"></td>
        <td id="LC268" class="blob-code js-file-line">        &quot;        (&#39;states&#39;, 0.020367009477717295), (&#39;thesis&#39;, 0.020367009477717295),\n&quot;,</td>
      </tr>
      <tr>
        <td id="L269" class="blob-num js-line-number" data-line-number="269"></td>
        <td id="LC269" class="blob-code js-file-line">        &quot;        (&#39;simulate&#39;, 0.020367009477717295),\n&quot;,</td>
      </tr>
      <tr>
        <td id="L270" class="blob-num js-line-number" data-line-number="270"></td>
        <td id="LC270" class="blob-code js-file-line">        &quot;        (&#39;viii&#39;, 0.00020165355918531992),\n&quot;,</td>
      </tr>
      <tr>
        <td id="L271" class="blob-num js-line-number" data-line-number="271"></td>
        <td id="LC271" class="blob-code js-file-line">        &quot;        (&#39;catholic&#39;, 0.00020165355918531992),\n&quot;,</td>
      </tr>
      <tr>
        <td id="L272" class="blob-num js-line-number" data-line-number="272"></td>
        <td id="LC272" class="blob-code js-file-line">        &quot;        (&#39;successor&#39;, 0.00020165355918531992),\n&quot;,</td>
      </tr>
      <tr>
        <td id="L273" class="blob-num js-line-number" data-line-number="273"></td>
        <td id="LC273" class="blob-code js-file-line">        &quot;        (&#39;boniface&#39;, 0.00020165355918531992),\n&quot;,</td>
      </tr>
      <tr>
        <td id="L274" class="blob-num js-line-number" data-line-number="274"></td>
        <td id="LC274" class="blob-code js-file-line">        &quot;        (&#39;teacher&#39;, 0.00020165355918531992),\n&quot;,</td>
      </tr>
      <tr>
        <td id="L275" class="blob-num js-line-number" data-line-number="275"></td>
        <td id="LC275" class="blob-code js-file-line">        &quot;        (&#39;saint&#39;, 0.00020165355918531992),\n&quot;,</td>
      </tr>
      <tr>
        <td id="L276" class="blob-num js-line-number" data-line-number="276"></td>
        <td id="LC276" class="blob-code js-file-line">        &quot;        (&#39;doctor&#39;, 0.00020165355918531992),\n&quot;,</td>
      </tr>
      <tr>
        <td id="L277" class="blob-num js-line-number" data-line-number="277"></td>
        <td id="LC277" class="blob-code js-file-line">        &quot;        (&#39;model&#39;, 0.00020165355918531992),\n&quot;,</td>
      </tr>
      <tr>
        <td id="L278" class="blob-num js-line-number" data-line-number="278"></td>
        <td id="LC278" class="blob-code js-file-line">        &quot;        (&#39;regarded&#39;, 0.00020165355918531992),\n&quot;,</td>
      </tr>
      <tr>
        <td id="L279" class="blob-num js-line-number" data-line-number="279"></td>
        <td id="LC279" class="blob-code js-file-line">        &quot;        (&#39;held&#39;, 0.00020165355918531992),\n&quot;,</td>
      </tr>
      <tr>
        <td id="L280" class="blob-num js-line-number" data-line-number="280"></td>
        <td id="LC280" class="blob-code js-file-line">        &quot;        (&#39;recognized&#39;, 0.00020165355918531992),\n&quot;,</td>
      </tr>
      <tr>
        <td id="L281" class="blob-num js-line-number" data-line-number="281"></td>
        <td id="LC281" class="blob-code js-file-line">        &quot;        (&#39;pope&#39;, 0.00020165355918531992),\n&quot;,</td>
      </tr>
      <tr>
        <td id="L282" class="blob-num js-line-number" data-line-number="282"></td>
        <td id="LC282" class="blob-code js-file-line">        &quot;        (&#39;challenged&#39;, 0.00020165355918531992),\n&quot;,</td>
      </tr>
      <tr>
        <td id="L283" class="blob-num js-line-number" data-line-number="283"></td>
        <td id="LC283" class="blob-code js-file-line">        &quot;        (&#39;theology&#39;, 0.00020165355918531975),\n&quot;,</td>
      </tr>
      <tr>
        <td id="L284" class="blob-num js-line-number" data-line-number="284"></td>
        <td id="LC284" class="blob-code js-file-line">        &quot;        (&#39;alone&#39;, 0.00020165355918531975),\n&quot;,</td>
      </tr>
      <tr>
        <td id="L285" class="blob-num js-line-number" data-line-number="285"></td>
        <td id="LC285" class="blob-code js-file-line">        &quot;        (&#39;teaching&#39;, 0.00020165355918531975),\n&quot;,</td>
      </tr>
      <tr>
        <td id="L286" class="blob-num js-line-number" data-line-number="286"></td>
        <td id="LC286" class="blob-code js-file-line">        &quot;        (&#39;bible&#39;, 0.00020165355918531975),\n&quot;,</td>
      </tr>
      <tr>
        <td id="L287" class="blob-num js-line-number" data-line-number="287"></td>
        <td id="LC287" class="blob-code js-file-line">        &quot;        (&#39;knowledge&#39;, 0.00020165355918531975),\n&quot;,</td>
      </tr>
      <tr>
        <td id="L288" class="blob-num js-line-number" data-line-number="288"></td>
        <td id="LC288" class="blob-code js-file-line">        &quot;        (&#39;peter&#39;, 0.00020165355918531975),\n&quot;,</td>
      </tr>
      <tr>
        <td id="L289" class="blob-num js-line-number" data-line-number="289"></td>
        <td id="LC289" class="blob-code js-file-line">        &quot;        (&#39;justify&#39;, 0.00020165355918531975),\n&quot;,</td>
      </tr>
      <tr>
        <td id="L290" class="blob-num js-line-number" data-line-number="290"></td>
        <td id="LC290" class="blob-code js-file-line">        &quot;        (&#39;source&#39;, 0.00020165355918531975),\n&quot;,</td>
      </tr>
      <tr>
        <td id="L291" class="blob-num js-line-number" data-line-number="291"></td>
        <td id="LC291" class="blob-code js-file-line">        &quot;        (&#39;man&#39;, 0.00020165355918531975), (&#39;roman&#39;, 0.00020165355918531975),\n&quot;,</td>
      </tr>
      <tr>
        <td id="L292" class="blob-num js-line-number" data-line-number="292"></td>
        <td id="LC292" class="blob-code js-file-line">        &quot;        (&#39;divinely&#39;, 0.00020165355918531975),\n&quot;,</td>
      </tr>
      <tr>
        <td id="L293" class="blob-num js-line-number" data-line-number="293"></td>
        <td id="LC293" class="blob-code js-file-line">        &quot;        (&#39;faith&#39;, 0.00020165355918531975),\n&quot;,</td>
      </tr>
      <tr>
        <td id="L294" class="blob-num js-line-number" data-line-number="294"></td>
        <td id="LC294" class="blob-code js-file-line">        &quot;        (&#39;revealed&#39;, 0.00020165355918531975),\n&quot;,</td>
      </tr>
      <tr>
        <td id="L295" class="blob-num js-line-number" data-line-number="295"></td>
        <td id="LC295" class="blob-code js-file-line">        &quot;        (&#39;stated&#39;, 0.00020165355918531975),\n&quot;,</td>
      </tr>
      <tr>
        <td id="L296" class="blob-num js-line-number" data-line-number="296"></td>
        <td id="LC296" class="blob-code js-file-line">        &quot;        (&#39;augustine&#39;, 0.00020165355918531544)],\n&quot;,</td>
      </tr>
      <tr>
        <td id="L297" class="blob-num js-line-number" data-line-number="297"></td>
        <td id="LC297" class="blob-code js-file-line">        &quot;       [(&#39;catholic&#39;, 0.09879280610987926), (&#39;church&#39;, 0.09879280610987926),\n&quot;,</td>
      </tr>
      <tr>
        <td id="L298" class="blob-num js-line-number" data-line-number="298"></td>
        <td id="LC298" class="blob-code js-file-line">        &quot;        (&#39;pope&#39;, 0.0741561961074156), (&#39;theology&#39;, 0.04951958610495194),\n&quot;,</td>
      </tr>
      <tr>
        <td id="L299" class="blob-num js-line-number" data-line-number="299"></td>
        <td id="LC299" class="blob-code js-file-line">        &quot;        (&#39;augustine&#39;, 0.04951958610495194), (&#39;roman&#39;, 0.04951958610495194),\n&quot;,</td>
      </tr>
      <tr>
        <td id="L300" class="blob-num js-line-number" data-line-number="300"></td>
        <td id="LC300" class="blob-code js-file-line">        &quot;        (&#39;model&#39;, 0.02488297610248829), (&#39;man&#39;, 0.02488297610248829),\n&quot;,</td>
      </tr>
      <tr>
        <td id="L301" class="blob-num js-line-number" data-line-number="301"></td>
        <td id="LC301" class="blob-code js-file-line">        &quot;        (&#39;bible&#39;, 0.02488297610248829), (&#39;boniface&#39;, 0.02488297610248829),\n&quot;,</td>
      </tr>
      <tr>
        <td id="L302" class="blob-num js-line-number" data-line-number="302"></td>
        <td id="LC302" class="blob-code js-file-line">        &quot;        (&#39;viii&#39;, 0.02488297610248829), (&#39;challenged&#39;, 0.02488297610248829),\n&quot;,</td>
      </tr>
      <tr>
        <td id="L303" class="blob-num js-line-number" data-line-number="303"></td>
        <td id="LC303" class="blob-code js-file-line">        &quot;        (&#39;peter&#39;, 0.02488297610248829), (&#39;justify&#39;, 0.02488297610248829),\n&quot;,</td>
      </tr>
      <tr>
        <td id="L304" class="blob-num js-line-number" data-line-number="304"></td>
        <td id="LC304" class="blob-code js-file-line">        &quot;        (&#39;held&#39;, 0.02488297610248829), (&#39;faith&#39;, 0.02488297610248829),\n&quot;,</td>
      </tr>
      <tr>
        <td id="L305" class="blob-num js-line-number" data-line-number="305"></td>
        <td id="LC305" class="blob-code js-file-line">        &quot;        (&#39;doctor&#39;, 0.02488297610248829), (&#39;divinely&#39;, 0.02488297610248829),\n&quot;,</td>
      </tr>
      <tr>
        <td id="L306" class="blob-num js-line-number" data-line-number="306"></td>
        <td id="LC306" class="blob-code js-file-line">        &quot;        (&#39;knowledge&#39;, 0.02488297610248829), (&#39;alone&#39;, 0.02488297610248829),\n&quot;,</td>
      </tr>
      <tr>
        <td id="L307" class="blob-num js-line-number" data-line-number="307"></td>
        <td id="LC307" class="blob-code js-file-line">        &quot;        (&#39;recognized&#39;, 0.02488297610248829),\n&quot;,</td>
      </tr>
      <tr>
        <td id="L308" class="blob-num js-line-number" data-line-number="308"></td>
        <td id="LC308" class="blob-code js-file-line">        &quot;        (&#39;saint&#39;, 0.02488297610248829), (&#39;teaching&#39;, 0.02488297610248829),\n&quot;,</td>
      </tr>
      <tr>
        <td id="L309" class="blob-num js-line-number" data-line-number="309"></td>
        <td id="LC309" class="blob-code js-file-line">        &quot;        (&#39;teacher&#39;, 0.02488297610248829),\n&quot;,</td>
      </tr>
      <tr>
        <td id="L310" class="blob-num js-line-number" data-line-number="310"></td>
        <td id="LC310" class="blob-code js-file-line">        &quot;        (&#39;successor&#39;, 0.02488297610248829),\n&quot;,</td>
      </tr>
      <tr>
        <td id="L311" class="blob-num js-line-number" data-line-number="311"></td>
        <td id="LC311" class="blob-code js-file-line">        &quot;        (&#39;source&#39;, 0.02488297610248829), (&#39;stated&#39;, 0.02488297610248829),\n&quot;,</td>
      </tr>
      <tr>
        <td id="L312" class="blob-num js-line-number" data-line-number="312"></td>
        <td id="LC312" class="blob-code js-file-line">        &quot;        (&#39;revealed&#39;, 0.02488297610248829),\n&quot;,</td>
      </tr>
      <tr>
        <td id="L313" class="blob-num js-line-number" data-line-number="313"></td>
        <td id="LC313" class="blob-code js-file-line">        &quot;        (&#39;regarded&#39;, 0.02488297610248829),\n&quot;,</td>
      </tr>
      <tr>
        <td id="L314" class="blob-num js-line-number" data-line-number="314"></td>
        <td id="LC314" class="blob-code js-file-line">        &quot;        (&#39;algorithmically&#39;, 0.00024636610002463677),\n&quot;,</td>
      </tr>
      <tr>
        <td id="L315" class="blob-num js-line-number" data-line-number="315"></td>
        <td id="LC315" class="blob-code js-file-line">        &quot;        (&#39;calculus&#39;, 0.00024636610002463677),\n&quot;,</td>
      </tr>
      <tr>
        <td id="L316" class="blob-num js-line-number" data-line-number="316"></td>
        <td id="LC316" class="blob-code js-file-line">        &quot;        (&#39;simulate&#39;, 0.00024636610002463677),\n&quot;,</td>
      </tr>
      <tr>
        <td id="L317" class="blob-num js-line-number" data-line-number="317"></td>
        <td id="LC317" class="blob-code js-file-line">        &quot;        (&#39;states&#39;, 0.00024636610002463677),\n&quot;,</td>
      </tr>
      <tr>
        <td id="L318" class="blob-num js-line-number" data-line-number="318"></td>
        <td id="LC318" class="blob-code js-file-line">        &quot;        (&#39;introduced&#39;, 0.00024636610002463677),\n&quot;,</td>
      </tr>
      <tr>
        <td id="L319" class="blob-num js-line-number" data-line-number="319"></td>
        <td id="LC319" class="blob-code js-file-line">        &quot;        (&#39;function&#39;, 0.00024636610002463677),\n&quot;,</td>
      </tr>
      <tr>
        <td id="L320" class="blob-num js-line-number" data-line-number="320"></td>
        <td id="LC320" class="blob-code js-file-line">        &quot;        (&#39;thesis&#39;, 0.00024636610002463677),\n&quot;,</td>
      </tr>
      <tr>
        <td id="L321" class="blob-num js-line-number" data-line-number="321"></td>
        <td id="LC321" class="blob-code js-file-line">        &quot;        (&#39;connections&#39;, 0.00024636610002463656),\n&quot;,</td>
      </tr>
      <tr>
        <td id="L322" class="blob-num js-line-number" data-line-number="322"></td>
        <td id="LC322" class="blob-code js-file-line">        &quot;        (&#39;american&#39;, 0.00024636610002463656),\n&quot;,</td>
      </tr>
      <tr>
        <td id="L323" class="blob-num js-line-number" data-line-number="323"></td>
        <td id="LC323" class="blob-code js-file-line">        &quot;        (&#39;close&#39;, 0.00024636610002463656),\n&quot;,</td>
      </tr>
      <tr>
        <td id="L324" class="blob-num js-line-number" data-line-number="324"></td>
        <td id="LC324" class="blob-code js-file-line">        &quot;        (&#39;alonzo&#39;, 0.00024636610002463656),\n&quot;,</td>
      </tr>
      <tr>
        <td id="L325" class="blob-num js-line-number" data-line-number="325"></td>
        <td id="LC325" class="blob-code js-file-line">        &quot;        (&#39;algorithm&#39;, 0.00024636610002463656),\n&quot;,</td>
      </tr>
      <tr>
        <td id="L326" class="blob-num js-line-number" data-line-number="326"></td>
        <td id="LC326" class="blob-code js-file-line">        &quot;        (&#39;computer&#39;, 0.00024636610002463656),\n&quot;,</td>
      </tr>
      <tr>
        <td id="L327" class="blob-num js-line-number" data-line-number="327"></td>
        <td id="LC327" class="blob-code js-file-line">        &quot;        (&#39;logic&#39;, 0.00024636610002463656),\n&quot;,</td>
      </tr>
      <tr>
        <td id="L328" class="blob-num js-line-number" data-line-number="328"></td>
        <td id="LC328" class="blob-code js-file-line">        &quot;        (&#39;contributions&#39;, 0.00024636610002463656),\n&quot;,</td>
      </tr>
      <tr>
        <td id="L329" class="blob-num js-line-number" data-line-number="329"></td>
        <td id="LC329" class="blob-code js-file-line">        &quot;        (&#39;foundations&#39;, 0.00024636610002463656),\n&quot;,</td>
      </tr>
      <tr>
        <td id="L330" class="blob-num js-line-number" data-line-number="330"></td>
        <td id="LC330" class="blob-code js-file-line">        &quot;        (&#39;investigation&#39;, 0.00024636610002463656),\n&quot;,</td>
      </tr>
      <tr>
        <td id="L331" class="blob-num js-line-number" data-line-number="331"></td>
        <td id="LC331" class="blob-code js-file-line">        &quot;        (&#39;lambda&#39;, 0.00024636610002463656),\n&quot;,</td>
      </tr>
      <tr>
        <td id="L332" class="blob-num js-line-number" data-line-number="332"></td>
        <td id="LC332" class="blob-code js-file-line">        &quot;        (&#39;turing&#39;, 0.00024636610002463656),\n&quot;,</td>
      </tr>
      <tr>
        <td id="L333" class="blob-num js-line-number" data-line-number="333"></td>
        <td id="LC333" class="blob-code js-file-line">        &quot;        (&#39;logician&#39;, 0.00024636610002463656),\n&quot;,</td>
      </tr>
      <tr>
        <td id="L334" class="blob-num js-line-number" data-line-number="334"></td>
        <td id="LC334" class="blob-code js-file-line">        &quot;        (&#39;machine&#39;, 0.00024636610002463656),\n&quot;,</td>
      </tr>
      <tr>
        <td id="L335" class="blob-num js-line-number" data-line-number="335"></td>
        <td id="LC335" class="blob-code js-file-line">        &quot;        (&#39;made&#39;, 0.00024636610002463656),\n&quot;,</td>
      </tr>
      <tr>
        <td id="L336" class="blob-num js-line-number" data-line-number="336"></td>
        <td id="LC336" class="blob-code js-file-line">        &quot;        (&#39;major&#39;, 0.00024636610002463656),\n&quot;,</td>
      </tr>
      <tr>
        <td id="L337" class="blob-num js-line-number" data-line-number="337"></td>
        <td id="LC337" class="blob-code js-file-line">        &quot;        (&#39;mathematical&#39;, 0.00024636610002463656),\n&quot;,</td>
      </tr>
      <tr>
        <td id="L338" class="blob-num js-line-number" data-line-number="338"></td>
        <td id="LC338" class="blob-code js-file-line">        &quot;        (&#39;mathematician&#39;, 0.00024636610002463656),\n&quot;,</td>
      </tr>
      <tr>
        <td id="L339" class="blob-num js-line-number" data-line-number="339"></td>
        <td id="LC339" class="blob-code js-file-line">        &quot;        (&#39;mathematics&#39;, 0.00024636610002463656),\n&quot;,</td>
      </tr>
      <tr>
        <td id="L340" class="blob-num js-line-number" data-line-number="340"></td>
        <td id="LC340" class="blob-code js-file-line">        &quot;        (&#39;science&#39;, 0.00024636610002463656),\n&quot;,</td>
      </tr>
      <tr>
        <td id="L341" class="blob-num js-line-number" data-line-number="341"></td>
        <td id="LC341" class="blob-code js-file-line">        &quot;        (&#39;theoretical&#39;, 0.00024636610002463656),\n&quot;,</td>
      </tr>
      <tr>
        <td id="L342" class="blob-num js-line-number" data-line-number="342"></td>
        <td id="LC342" class="blob-code js-file-line">        &quot;        (&#39;adapted&#39;, 0.00024636610002463656),\n&quot;,</td>
      </tr>
      <tr>
        <td id="L343" class="blob-num js-line-number" data-line-number="343"></td>
        <td id="LC343" class="blob-code js-file-line">        &quot;        (&#39;computable&#39;, 0.0002463661000246313)]], \n&quot;,</td>
      </tr>
      <tr>
        <td id="L344" class="blob-num js-line-number" data-line-number="344"></td>
        <td id="LC344" class="blob-code js-file-line">        &quot;      dtype=[(&#39;word&#39;, &#39;|S15&#39;), (&#39;value&#39;, &#39;&lt;f8&#39;)])&quot;</td>
      </tr>
      <tr>
        <td id="L345" class="blob-num js-line-number" data-line-number="345"></td>
        <td id="LC345" class="blob-code js-file-line">       ]</td>
      </tr>
      <tr>
        <td id="L346" class="blob-num js-line-number" data-line-number="346"></td>
        <td id="LC346" class="blob-code js-file-line">      }</td>
      </tr>
      <tr>
        <td id="L347" class="blob-num js-line-number" data-line-number="347"></td>
        <td id="LC347" class="blob-code js-file-line">     ],</td>
      </tr>
      <tr>
        <td id="L348" class="blob-num js-line-number" data-line-number="348"></td>
        <td id="LC348" class="blob-code js-file-line">     &quot;prompt_number&quot;: 6</td>
      </tr>
      <tr>
        <td id="L349" class="blob-num js-line-number" data-line-number="349"></td>
        <td id="LC349" class="blob-code js-file-line">    },</td>
      </tr>
      <tr>
        <td id="L350" class="blob-num js-line-number" data-line-number="350"></td>
        <td id="LC350" class="blob-code js-file-line">    {</td>
      </tr>
      <tr>
        <td id="L351" class="blob-num js-line-number" data-line-number="351"></td>
        <td id="LC351" class="blob-code js-file-line">     &quot;cell_type&quot;: &quot;code&quot;,</td>
      </tr>
      <tr>
        <td id="L352" class="blob-num js-line-number" data-line-number="352"></td>
        <td id="LC352" class="blob-code js-file-line">     &quot;collapsed&quot;: false,</td>
      </tr>
      <tr>
        <td id="L353" class="blob-num js-line-number" data-line-number="353"></td>
        <td id="LC353" class="blob-code js-file-line">     &quot;input&quot;: [</td>
      </tr>
      <tr>
        <td id="L354" class="blob-num js-line-number" data-line-number="354"></td>
        <td id="LC354" class="blob-code js-file-line">      &quot;v.dist_doc_doc(dict(document_label=&#39;Ecclesiastical 3&#39;))&quot;</td>
      </tr>
      <tr>
        <td id="L355" class="blob-num js-line-number" data-line-number="355"></td>
        <td id="LC355" class="blob-code js-file-line">     ],</td>
      </tr>
      <tr>
        <td id="L356" class="blob-num js-line-number" data-line-number="356"></td>
        <td id="LC356" class="blob-code js-file-line">     &quot;language&quot;: &quot;python&quot;,</td>
      </tr>
      <tr>
        <td id="L357" class="blob-num js-line-number" data-line-number="357"></td>
        <td id="LC357" class="blob-code js-file-line">     &quot;metadata&quot;: {},</td>
      </tr>
      <tr>
        <td id="L358" class="blob-num js-line-number" data-line-number="358"></td>
        <td id="LC358" class="blob-code js-file-line">     &quot;outputs&quot;: [</td>
      </tr>
      <tr>
        <td id="L359" class="blob-num js-line-number" data-line-number="359"></td>
        <td id="LC359" class="blob-code js-file-line">      {</td>
      </tr>
      <tr>
        <td id="L360" class="blob-num js-line-number" data-line-number="360"></td>
        <td id="LC360" class="blob-code js-file-line">       &quot;html&quot;: [</td>
      </tr>
      <tr>
        <td id="L361" class="blob-num js-line-number" data-line-number="361"></td>
        <td id="LC361" class="blob-code js-file-line">        &quot;&lt;table style=\&quot;margin: 0\&quot;&gt;&lt;tr&gt;&lt;th style=\&quot;text-align: center; background: #CEE3F6\&quot; colspan                    =\&quot;2\&quot;&gt;Documents: &lt;/th&gt;&lt;/tr&gt;&lt;tr&gt;&lt;th style=\&quot;text-align: center; background: #EFF2FB; \&quot;&gt;Document                          &lt;/th&gt;&lt;th style=\&quot;text-align: center; background: #EFF2FB; \&quot;&gt;Distance                          &lt;/th&gt;&lt;/tr&gt;&lt;tr&gt;&lt;td&gt;Ecclesiastical 3     &lt;/td&gt;&lt;td&gt;0.00000   &lt;/td&gt;&lt;/tr&gt;&lt;tr&gt;&lt;td&gt;Ecclesiastical 5     &lt;/td&gt;&lt;td&gt;0.00000   &lt;/td&gt;&lt;/tr&gt;&lt;tr&gt;&lt;td&gt;Ecclesiastical 4     &lt;/td&gt;&lt;td&gt;0.00207   &lt;/td&gt;&lt;/tr&gt;&lt;tr&gt;&lt;td&gt;Ecclesiastical 2     &lt;/td&gt;&lt;td&gt;0.00256   &lt;/td&gt;&lt;/tr&gt;&lt;tr&gt;&lt;td&gt;Ecclesiastical 1     &lt;/td&gt;&lt;td&gt;0.00754   &lt;/td&gt;&lt;/tr&gt;&lt;tr&gt;&lt;td&gt;Logic 5              &lt;/td&gt;&lt;td&gt;0.99221   &lt;/td&gt;&lt;/tr&gt;&lt;tr&gt;&lt;td&gt;Logic 4              &lt;/td&gt;&lt;td&gt;0.99297   &lt;/td&gt;&lt;/tr&gt;&lt;tr&gt;&lt;td&gt;Logic 2              &lt;/td&gt;&lt;td&gt;0.99297   &lt;/td&gt;&lt;/tr&gt;&lt;tr&gt;&lt;td&gt;Logic 3              &lt;/td&gt;&lt;td&gt;0.99325   &lt;/td&gt;&lt;/tr&gt;&lt;tr&gt;&lt;td&gt;Logic 1              &lt;/td&gt;&lt;td&gt;0.99398   &lt;/td&gt;&lt;/tr&gt;&lt;/table&gt;&quot;</td>
      </tr>
      <tr>
        <td id="L362" class="blob-num js-line-number" data-line-number="362"></td>
        <td id="LC362" class="blob-code js-file-line">       ],</td>
      </tr>
      <tr>
        <td id="L363" class="blob-num js-line-number" data-line-number="363"></td>
        <td id="LC363" class="blob-code js-file-line">       &quot;metadata&quot;: {},</td>
      </tr>
      <tr>
        <td id="L364" class="blob-num js-line-number" data-line-number="364"></td>
        <td id="LC364" class="blob-code js-file-line">       &quot;output_type&quot;: &quot;pyout&quot;,</td>
      </tr>
      <tr>
        <td id="L365" class="blob-num js-line-number" data-line-number="365"></td>
        <td id="LC365" class="blob-code js-file-line">       &quot;prompt_number&quot;: 7,</td>
      </tr>
      <tr>
        <td id="L366" class="blob-num js-line-number" data-line-number="366"></td>
        <td id="LC366" class="blob-code js-file-line">       &quot;text&quot;: [</td>
      </tr>
      <tr>
        <td id="L367" class="blob-num js-line-number" data-line-number="367"></td>
        <td id="LC367" class="blob-code js-file-line">        &quot;LabeledColumn([(&#39;Ecclesiastical 3&#39;, 0.0), (&#39;Ecclesiastical 5&#39;, 0.0),\n&quot;,</td>
      </tr>
      <tr>
        <td id="L368" class="blob-num js-line-number" data-line-number="368"></td>
        <td id="LC368" class="blob-code js-file-line">        &quot;       (&#39;Ecclesiastical 4&#39;, 0.002065988297172851),\n&quot;,</td>
      </tr>
      <tr>
        <td id="L369" class="blob-num js-line-number" data-line-number="369"></td>
        <td id="LC369" class="blob-code js-file-line">        &quot;       (&#39;Ecclesiastical 2&#39;, 0.002561532434347629),\n&quot;,</td>
      </tr>
      <tr>
        <td id="L370" class="blob-num js-line-number" data-line-number="370"></td>
        <td id="LC370" class="blob-code js-file-line">        &quot;       (&#39;Ecclesiastical 1&#39;, 0.007539933660187026),\n&quot;,</td>
      </tr>
      <tr>
        <td id="L371" class="blob-num js-line-number" data-line-number="371"></td>
        <td id="LC371" class="blob-code js-file-line">        &quot;       (&#39;Logic 5&#39;, 0.992208252445885), (&#39;Logic 4&#39;, 0.992974054340914),\n&quot;,</td>
      </tr>
      <tr>
        <td id="L372" class="blob-num js-line-number" data-line-number="372"></td>
        <td id="LC372" class="blob-code js-file-line">        &quot;       (&#39;Logic 2&#39;, 0.9929740543409141), (&#39;Logic 3&#39;, 0.9932494872489327),\n&quot;,</td>
      </tr>
      <tr>
        <td id="L373" class="blob-num js-line-number" data-line-number="373"></td>
        <td id="LC373" class="blob-code js-file-line">        &quot;       (&#39;Logic 1&#39;, 0.9939798430010864)], \n&quot;,</td>
      </tr>
      <tr>
        <td id="L374" class="blob-num js-line-number" data-line-number="374"></td>
        <td id="LC374" class="blob-code js-file-line">        &quot;      dtype=[(&#39;doc&#39;, &#39;|S16&#39;), (&#39;value&#39;, &#39;&lt;f8&#39;)])&quot;</td>
      </tr>
      <tr>
        <td id="L375" class="blob-num js-line-number" data-line-number="375"></td>
        <td id="LC375" class="blob-code js-file-line">       ]</td>
      </tr>
      <tr>
        <td id="L376" class="blob-num js-line-number" data-line-number="376"></td>
        <td id="LC376" class="blob-code js-file-line">      }</td>
      </tr>
      <tr>
        <td id="L377" class="blob-num js-line-number" data-line-number="377"></td>
        <td id="LC377" class="blob-code js-file-line">     ],</td>
      </tr>
      <tr>
        <td id="L378" class="blob-num js-line-number" data-line-number="378"></td>
        <td id="LC378" class="blob-code js-file-line">     &quot;prompt_number&quot;: 7</td>
      </tr>
      <tr>
        <td id="L379" class="blob-num js-line-number" data-line-number="379"></td>
        <td id="LC379" class="blob-code js-file-line">    },</td>
      </tr>
      <tr>
        <td id="L380" class="blob-num js-line-number" data-line-number="380"></td>
        <td id="LC380" class="blob-code js-file-line">    {</td>
      </tr>
      <tr>
        <td id="L381" class="blob-num js-line-number" data-line-number="381"></td>
        <td id="LC381" class="blob-code js-file-line">     &quot;cell_type&quot;: &quot;code&quot;,</td>
      </tr>
      <tr>
        <td id="L382" class="blob-num js-line-number" data-line-number="382"></td>
        <td id="LC382" class="blob-code js-file-line">     &quot;collapsed&quot;: false,</td>
      </tr>
      <tr>
        <td id="L383" class="blob-num js-line-number" data-line-number="383"></td>
        <td id="LC383" class="blob-code js-file-line">     &quot;input&quot;: [</td>
      </tr>
      <tr>
        <td id="L384" class="blob-num js-line-number" data-line-number="384"></td>
        <td id="LC384" class="blob-code js-file-line">      &quot;v.dist_top_doc([0,1])&quot;</td>
      </tr>
      <tr>
        <td id="L385" class="blob-num js-line-number" data-line-number="385"></td>
        <td id="LC385" class="blob-code js-file-line">     ],</td>
      </tr>
      <tr>
        <td id="L386" class="blob-num js-line-number" data-line-number="386"></td>
        <td id="LC386" class="blob-code js-file-line">     &quot;language&quot;: &quot;python&quot;,</td>
      </tr>
      <tr>
        <td id="L387" class="blob-num js-line-number" data-line-number="387"></td>
        <td id="LC387" class="blob-code js-file-line">     &quot;metadata&quot;: {},</td>
      </tr>
      <tr>
        <td id="L388" class="blob-num js-line-number" data-line-number="388"></td>
        <td id="LC388" class="blob-code js-file-line">     &quot;outputs&quot;: [</td>
      </tr>
      <tr>
        <td id="L389" class="blob-num js-line-number" data-line-number="389"></td>
        <td id="LC389" class="blob-code js-file-line">      {</td>
      </tr>
      <tr>
        <td id="L390" class="blob-num js-line-number" data-line-number="390"></td>
        <td id="LC390" class="blob-code js-file-line">       &quot;html&quot;: [</td>
      </tr>
      <tr>
        <td id="L391" class="blob-num js-line-number" data-line-number="391"></td>
        <td id="LC391" class="blob-code js-file-line">        &quot;&lt;table style=\&quot;margin: 0\&quot;&gt;&lt;tr&gt;&lt;th style=\&quot;text-align: center; background: #CEE3F6\&quot; colspan                    =\&quot;2\&quot;&gt;Topics: 0, 1&lt;/th&gt;&lt;/tr&gt;&lt;tr&gt;&lt;th style=\&quot;text-align: center; background: #EFF2FB; \&quot;&gt;Document                          &lt;/th&gt;&lt;th style=\&quot;text-align: center; background: #EFF2FB; \&quot;&gt;Distance                          &lt;/th&gt;&lt;/tr&gt;&lt;tr&gt;&lt;td&gt;Ecclesiastical 2     &lt;/td&gt;&lt;td&gt;0.55111   &lt;/td&gt;&lt;/tr&gt;&lt;tr&gt;&lt;td&gt;Logic 5              &lt;/td&gt;&lt;td&gt;0.55195   &lt;/td&gt;&lt;/tr&gt;&lt;tr&gt;&lt;td&gt;Ecclesiastical 3     &lt;/td&gt;&lt;td&gt;0.55195   &lt;/td&gt;&lt;/tr&gt;&lt;tr&gt;&lt;td&gt;Ecclesiastical 5     &lt;/td&gt;&lt;td&gt;0.55195   &lt;/td&gt;&lt;/tr&gt;&lt;tr&gt;&lt;td&gt;Ecclesiastical 4     &lt;/td&gt;&lt;td&gt;0.55259   &lt;/td&gt;&lt;/tr&gt;&lt;tr&gt;&lt;td&gt;Logic 2              &lt;/td&gt;&lt;td&gt;0.55310   &lt;/td&gt;&lt;/tr&gt;&lt;tr&gt;&lt;td&gt;Logic 4              &lt;/td&gt;&lt;td&gt;0.55310   &lt;/td&gt;&lt;/tr&gt;&lt;tr&gt;&lt;td&gt;Logic 3              &lt;/td&gt;&lt;td&gt;0.55351   &lt;/td&gt;&lt;/tr&gt;&lt;tr&gt;&lt;td&gt;Ecclesiastical 1     &lt;/td&gt;&lt;td&gt;0.55415   &lt;/td&gt;&lt;/tr&gt;&lt;tr&gt;&lt;td&gt;Logic 1              &lt;/td&gt;&lt;td&gt;0.55462   &lt;/td&gt;&lt;/tr&gt;&lt;/table&gt;&quot;</td>
      </tr>
      <tr>
        <td id="L392" class="blob-num js-line-number" data-line-number="392"></td>
        <td id="LC392" class="blob-code js-file-line">       ],</td>
      </tr>
      <tr>
        <td id="L393" class="blob-num js-line-number" data-line-number="393"></td>
        <td id="LC393" class="blob-code js-file-line">       &quot;metadata&quot;: {},</td>
      </tr>
      <tr>
        <td id="L394" class="blob-num js-line-number" data-line-number="394"></td>
        <td id="LC394" class="blob-code js-file-line">       &quot;output_type&quot;: &quot;pyout&quot;,</td>
      </tr>
      <tr>
        <td id="L395" class="blob-num js-line-number" data-line-number="395"></td>
        <td id="LC395" class="blob-code js-file-line">       &quot;prompt_number&quot;: 8,</td>
      </tr>
      <tr>
        <td id="L396" class="blob-num js-line-number" data-line-number="396"></td>
        <td id="LC396" class="blob-code js-file-line">       &quot;text&quot;: [</td>
      </tr>
      <tr>
        <td id="L397" class="blob-num js-line-number" data-line-number="397"></td>
        <td id="LC397" class="blob-code js-file-line">        &quot;LabeledColumn([(&#39;Ecclesiastical 2&#39;, 0.5511129750477453),\n&quot;,</td>
      </tr>
      <tr>
        <td id="L398" class="blob-num js-line-number" data-line-number="398"></td>
        <td id="LC398" class="blob-code js-file-line">        &quot;       (&#39;Logic 5&#39;, 0.5519453530845314),\n&quot;,</td>
      </tr>
      <tr>
        <td id="L399" class="blob-num js-line-number" data-line-number="399"></td>
        <td id="LC399" class="blob-code js-file-line">        &quot;       (&#39;Ecclesiastical 3&#39;, 0.5519453530845315),\n&quot;,</td>
      </tr>
      <tr>
        <td id="L400" class="blob-num js-line-number" data-line-number="400"></td>
        <td id="LC400" class="blob-code js-file-line">        &quot;       (&#39;Ecclesiastical 5&#39;, 0.5519453530845315),\n&quot;,</td>
      </tr>
      <tr>
        <td id="L401" class="blob-num js-line-number" data-line-number="401"></td>
        <td id="LC401" class="blob-code js-file-line">        &quot;       (&#39;Ecclesiastical 4&#39;, 0.5525859764901941),\n&quot;,</td>
      </tr>
      <tr>
        <td id="L402" class="blob-num js-line-number" data-line-number="402"></td>
        <td id="LC402" class="blob-code js-file-line">        &quot;       (&#39;Logic 2&#39;, 0.5530953459056704), (&#39;Logic 4&#39;, 0.5530953459056704),\n&quot;,</td>
      </tr>
      <tr>
        <td id="L403" class="blob-num js-line-number" data-line-number="403"></td>
        <td id="LC403" class="blob-code js-file-line">        &quot;       (&#39;Logic 3&#39;, 0.5535107346714779),\n&quot;,</td>
      </tr>
      <tr>
        <td id="L404" class="blob-num js-line-number" data-line-number="404"></td>
        <td id="LC404" class="blob-code js-file-line">        &quot;       (&#39;Ecclesiastical 1&#39;, 0.5541488721986697),\n&quot;,</td>
      </tr>
      <tr>
        <td id="L405" class="blob-num js-line-number" data-line-number="405"></td>
        <td id="LC405" class="blob-code js-file-line">        &quot;       (&#39;Logic 1&#39;, 0.5546174996468003)], \n&quot;,</td>
      </tr>
      <tr>
        <td id="L406" class="blob-num js-line-number" data-line-number="406"></td>
        <td id="LC406" class="blob-code js-file-line">        &quot;      dtype=[(&#39;doc&#39;, &#39;|S16&#39;), (&#39;value&#39;, &#39;&lt;f8&#39;)])&quot;</td>
      </tr>
      <tr>
        <td id="L407" class="blob-num js-line-number" data-line-number="407"></td>
        <td id="LC407" class="blob-code js-file-line">       ]</td>
      </tr>
      <tr>
        <td id="L408" class="blob-num js-line-number" data-line-number="408"></td>
        <td id="LC408" class="blob-code js-file-line">      }</td>
      </tr>
      <tr>
        <td id="L409" class="blob-num js-line-number" data-line-number="409"></td>
        <td id="LC409" class="blob-code js-file-line">     ],</td>
      </tr>
      <tr>
        <td id="L410" class="blob-num js-line-number" data-line-number="410"></td>
        <td id="LC410" class="blob-code js-file-line">     &quot;prompt_number&quot;: 8</td>
      </tr>
      <tr>
        <td id="L411" class="blob-num js-line-number" data-line-number="411"></td>
        <td id="LC411" class="blob-code js-file-line">    },</td>
      </tr>
      <tr>
        <td id="L412" class="blob-num js-line-number" data-line-number="412"></td>
        <td id="LC412" class="blob-code js-file-line">    {</td>
      </tr>
      <tr>
        <td id="L413" class="blob-num js-line-number" data-line-number="413"></td>
        <td id="LC413" class="blob-code js-file-line">     &quot;cell_type&quot;: &quot;code&quot;,</td>
      </tr>
      <tr>
        <td id="L414" class="blob-num js-line-number" data-line-number="414"></td>
        <td id="LC414" class="blob-code js-file-line">     &quot;collapsed&quot;: false,</td>
      </tr>
      <tr>
        <td id="L415" class="blob-num js-line-number" data-line-number="415"></td>
        <td id="LC415" class="blob-code js-file-line">     &quot;input&quot;: [</td>
      </tr>
      <tr>
        <td id="L416" class="blob-num js-line-number" data-line-number="416"></td>
        <td id="LC416" class="blob-code js-file-line">      &quot;v.dist_word_top(&#39;church&#39;)&quot;</td>
      </tr>
      <tr>
        <td id="L417" class="blob-num js-line-number" data-line-number="417"></td>
        <td id="LC417" class="blob-code js-file-line">     ],</td>
      </tr>
      <tr>
        <td id="L418" class="blob-num js-line-number" data-line-number="418"></td>
        <td id="LC418" class="blob-code js-file-line">     &quot;language&quot;: &quot;python&quot;,</td>
      </tr>
      <tr>
        <td id="L419" class="blob-num js-line-number" data-line-number="419"></td>
        <td id="LC419" class="blob-code js-file-line">     &quot;metadata&quot;: {},</td>
      </tr>
      <tr>
        <td id="L420" class="blob-num js-line-number" data-line-number="420"></td>
        <td id="LC420" class="blob-code js-file-line">     &quot;outputs&quot;: [</td>
      </tr>
      <tr>
        <td id="L421" class="blob-num js-line-number" data-line-number="421"></td>
        <td id="LC421" class="blob-code js-file-line">      {</td>
      </tr>
      <tr>
        <td id="L422" class="blob-num js-line-number" data-line-number="422"></td>
        <td id="LC422" class="blob-code js-file-line">       &quot;html&quot;: [</td>
      </tr>
      <tr>
        <td id="L423" class="blob-num js-line-number" data-line-number="423"></td>
        <td id="LC423" class="blob-code js-file-line">        &quot;&lt;table style=\&quot;margin: 0\&quot;&gt;&lt;tr&gt;&lt;th style=\&quot;text-align: center; background: #CEE3F6\&quot; colspan            =\&quot;11\&quot;&gt;Sorted by Topic Distance&lt;/th&gt;&lt;/tr&gt;&lt;tr&gt;&lt;th style=\&quot;text-align: center; background: #EFF2FB;\&quot;                     &gt;Topic&lt;/th&gt;&lt;th style=\&quot;text-align: center; background: #EFF2FB;\&quot;                     &gt;Words&lt;/th&gt;&lt;/tr&gt;&lt;tr&gt;&lt;td style=\&quot;padding-left:0.75em;\&quot;&gt;1&lt;/td&gt;&lt;td&gt; catholic, church, pope, theology, augustine, roman, model, man, bible, boniface         &lt;/td&gt;&lt;/tr&gt;&lt;tr&gt;&lt;td style=\&quot;padding-left:0.75em;\&quot;&gt;0&lt;/td&gt;&lt;td&gt; logic, turing, foundations, church, computer, computable, mathematical, mathematician, mathematics, science          &lt;/td&gt;&lt;/tr&gt;&lt;/table&gt;&quot;</td>
      </tr>
      <tr>
        <td id="L424" class="blob-num js-line-number" data-line-number="424"></td>
        <td id="LC424" class="blob-code js-file-line">       ],</td>
      </tr>
      <tr>
        <td id="L425" class="blob-num js-line-number" data-line-number="425"></td>
        <td id="LC425" class="blob-code js-file-line">       &quot;metadata&quot;: {},</td>
      </tr>
      <tr>
        <td id="L426" class="blob-num js-line-number" data-line-number="426"></td>
        <td id="LC426" class="blob-code js-file-line">       &quot;output_type&quot;: &quot;pyout&quot;,</td>
      </tr>
      <tr>
        <td id="L427" class="blob-num js-line-number" data-line-number="427"></td>
        <td id="LC427" class="blob-code js-file-line">       &quot;prompt_number&quot;: 9,</td>
      </tr>
      <tr>
        <td id="L428" class="blob-num js-line-number" data-line-number="428"></td>
        <td id="LC428" class="blob-code js-file-line">       &quot;text&quot;: [</td>
      </tr>
      <tr>
        <td id="L429" class="blob-num js-line-number" data-line-number="429"></td>
        <td id="LC429" class="blob-code js-file-line">        &quot;CompactTable([[(&#39;catholic&#39;, 0.09879280610987926), (&#39;church&#39;, 0.09879280610987926),\n&quot;,</td>
      </tr>
      <tr>
        <td id="L430" class="blob-num js-line-number" data-line-number="430"></td>
        <td id="LC430" class="blob-code js-file-line">        &quot;        (&#39;pope&#39;, 0.0741561961074156), (&#39;theology&#39;, 0.04951958610495194),\n&quot;,</td>
      </tr>
      <tr>
        <td id="L431" class="blob-num js-line-number" data-line-number="431"></td>
        <td id="LC431" class="blob-code js-file-line">        &quot;        (&#39;augustine&#39;, 0.04951958610495194), (&#39;roman&#39;, 0.04951958610495194),\n&quot;,</td>
      </tr>
      <tr>
        <td id="L432" class="blob-num js-line-number" data-line-number="432"></td>
        <td id="LC432" class="blob-code js-file-line">        &quot;        (&#39;model&#39;, 0.02488297610248829), (&#39;man&#39;, 0.02488297610248829),\n&quot;,</td>
      </tr>
      <tr>
        <td id="L433" class="blob-num js-line-number" data-line-number="433"></td>
        <td id="LC433" class="blob-code js-file-line">        &quot;        (&#39;bible&#39;, 0.02488297610248829), (&#39;boniface&#39;, 0.02488297610248829),\n&quot;,</td>
      </tr>
      <tr>
        <td id="L434" class="blob-num js-line-number" data-line-number="434"></td>
        <td id="LC434" class="blob-code js-file-line">        &quot;        (&#39;viii&#39;, 0.02488297610248829), (&#39;challenged&#39;, 0.02488297610248829),\n&quot;,</td>
      </tr>
      <tr>
        <td id="L435" class="blob-num js-line-number" data-line-number="435"></td>
        <td id="LC435" class="blob-code js-file-line">        &quot;        (&#39;peter&#39;, 0.02488297610248829), (&#39;justify&#39;, 0.02488297610248829),\n&quot;,</td>
      </tr>
      <tr>
        <td id="L436" class="blob-num js-line-number" data-line-number="436"></td>
        <td id="LC436" class="blob-code js-file-line">        &quot;        (&#39;held&#39;, 0.02488297610248829), (&#39;faith&#39;, 0.02488297610248829),\n&quot;,</td>
      </tr>
      <tr>
        <td id="L437" class="blob-num js-line-number" data-line-number="437"></td>
        <td id="LC437" class="blob-code js-file-line">        &quot;        (&#39;doctor&#39;, 0.02488297610248829), (&#39;divinely&#39;, 0.02488297610248829),\n&quot;,</td>
      </tr>
      <tr>
        <td id="L438" class="blob-num js-line-number" data-line-number="438"></td>
        <td id="LC438" class="blob-code js-file-line">        &quot;        (&#39;knowledge&#39;, 0.02488297610248829), (&#39;alone&#39;, 0.02488297610248829),\n&quot;,</td>
      </tr>
      <tr>
        <td id="L439" class="blob-num js-line-number" data-line-number="439"></td>
        <td id="LC439" class="blob-code js-file-line">        &quot;        (&#39;recognized&#39;, 0.02488297610248829),\n&quot;,</td>
      </tr>
      <tr>
        <td id="L440" class="blob-num js-line-number" data-line-number="440"></td>
        <td id="LC440" class="blob-code js-file-line">        &quot;        (&#39;saint&#39;, 0.02488297610248829), (&#39;teaching&#39;, 0.02488297610248829),\n&quot;,</td>
      </tr>
      <tr>
        <td id="L441" class="blob-num js-line-number" data-line-number="441"></td>
        <td id="LC441" class="blob-code js-file-line">        &quot;        (&#39;teacher&#39;, 0.02488297610248829),\n&quot;,</td>
      </tr>
      <tr>
        <td id="L442" class="blob-num js-line-number" data-line-number="442"></td>
        <td id="LC442" class="blob-code js-file-line">        &quot;        (&#39;successor&#39;, 0.02488297610248829),\n&quot;,</td>
      </tr>
      <tr>
        <td id="L443" class="blob-num js-line-number" data-line-number="443"></td>
        <td id="LC443" class="blob-code js-file-line">        &quot;        (&#39;source&#39;, 0.02488297610248829), (&#39;stated&#39;, 0.02488297610248829),\n&quot;,</td>
      </tr>
      <tr>
        <td id="L444" class="blob-num js-line-number" data-line-number="444"></td>
        <td id="LC444" class="blob-code js-file-line">        &quot;        (&#39;revealed&#39;, 0.02488297610248829),\n&quot;,</td>
      </tr>
      <tr>
        <td id="L445" class="blob-num js-line-number" data-line-number="445"></td>
        <td id="LC445" class="blob-code js-file-line">        &quot;        (&#39;regarded&#39;, 0.02488297610248829),\n&quot;,</td>
      </tr>
      <tr>
        <td id="L446" class="blob-num js-line-number" data-line-number="446"></td>
        <td id="LC446" class="blob-code js-file-line">        &quot;        (&#39;algorithmically&#39;, 0.00024636610002463677),\n&quot;,</td>
      </tr>
      <tr>
        <td id="L447" class="blob-num js-line-number" data-line-number="447"></td>
        <td id="LC447" class="blob-code js-file-line">        &quot;        (&#39;calculus&#39;, 0.00024636610002463677),\n&quot;,</td>
      </tr>
      <tr>
        <td id="L448" class="blob-num js-line-number" data-line-number="448"></td>
        <td id="LC448" class="blob-code js-file-line">        &quot;        (&#39;simulate&#39;, 0.00024636610002463677),\n&quot;,</td>
      </tr>
      <tr>
        <td id="L449" class="blob-num js-line-number" data-line-number="449"></td>
        <td id="LC449" class="blob-code js-file-line">        &quot;        (&#39;states&#39;, 0.00024636610002463677),\n&quot;,</td>
      </tr>
      <tr>
        <td id="L450" class="blob-num js-line-number" data-line-number="450"></td>
        <td id="LC450" class="blob-code js-file-line">        &quot;        (&#39;introduced&#39;, 0.00024636610002463677),\n&quot;,</td>
      </tr>
      <tr>
        <td id="L451" class="blob-num js-line-number" data-line-number="451"></td>
        <td id="LC451" class="blob-code js-file-line">        &quot;        (&#39;function&#39;, 0.00024636610002463677),\n&quot;,</td>
      </tr>
      <tr>
        <td id="L452" class="blob-num js-line-number" data-line-number="452"></td>
        <td id="LC452" class="blob-code js-file-line">        &quot;        (&#39;thesis&#39;, 0.00024636610002463677),\n&quot;,</td>
      </tr>
      <tr>
        <td id="L453" class="blob-num js-line-number" data-line-number="453"></td>
        <td id="LC453" class="blob-code js-file-line">        &quot;        (&#39;connections&#39;, 0.00024636610002463656),\n&quot;,</td>
      </tr>
      <tr>
        <td id="L454" class="blob-num js-line-number" data-line-number="454"></td>
        <td id="LC454" class="blob-code js-file-line">        &quot;        (&#39;american&#39;, 0.00024636610002463656),\n&quot;,</td>
      </tr>
      <tr>
        <td id="L455" class="blob-num js-line-number" data-line-number="455"></td>
        <td id="LC455" class="blob-code js-file-line">        &quot;        (&#39;close&#39;, 0.00024636610002463656),\n&quot;,</td>
      </tr>
      <tr>
        <td id="L456" class="blob-num js-line-number" data-line-number="456"></td>
        <td id="LC456" class="blob-code js-file-line">        &quot;        (&#39;alonzo&#39;, 0.00024636610002463656),\n&quot;,</td>
      </tr>
      <tr>
        <td id="L457" class="blob-num js-line-number" data-line-number="457"></td>
        <td id="LC457" class="blob-code js-file-line">        &quot;        (&#39;algorithm&#39;, 0.00024636610002463656),\n&quot;,</td>
      </tr>
      <tr>
        <td id="L458" class="blob-num js-line-number" data-line-number="458"></td>
        <td id="LC458" class="blob-code js-file-line">        &quot;        (&#39;computer&#39;, 0.00024636610002463656),\n&quot;,</td>
      </tr>
      <tr>
        <td id="L459" class="blob-num js-line-number" data-line-number="459"></td>
        <td id="LC459" class="blob-code js-file-line">        &quot;        (&#39;logic&#39;, 0.00024636610002463656),\n&quot;,</td>
      </tr>
      <tr>
        <td id="L460" class="blob-num js-line-number" data-line-number="460"></td>
        <td id="LC460" class="blob-code js-file-line">        &quot;        (&#39;contributions&#39;, 0.00024636610002463656),\n&quot;,</td>
      </tr>
      <tr>
        <td id="L461" class="blob-num js-line-number" data-line-number="461"></td>
        <td id="LC461" class="blob-code js-file-line">        &quot;        (&#39;foundations&#39;, 0.00024636610002463656),\n&quot;,</td>
      </tr>
      <tr>
        <td id="L462" class="blob-num js-line-number" data-line-number="462"></td>
        <td id="LC462" class="blob-code js-file-line">        &quot;        (&#39;investigation&#39;, 0.00024636610002463656),\n&quot;,</td>
      </tr>
      <tr>
        <td id="L463" class="blob-num js-line-number" data-line-number="463"></td>
        <td id="LC463" class="blob-code js-file-line">        &quot;        (&#39;lambda&#39;, 0.00024636610002463656),\n&quot;,</td>
      </tr>
      <tr>
        <td id="L464" class="blob-num js-line-number" data-line-number="464"></td>
        <td id="LC464" class="blob-code js-file-line">        &quot;        (&#39;turing&#39;, 0.00024636610002463656),\n&quot;,</td>
      </tr>
      <tr>
        <td id="L465" class="blob-num js-line-number" data-line-number="465"></td>
        <td id="LC465" class="blob-code js-file-line">        &quot;        (&#39;logician&#39;, 0.00024636610002463656),\n&quot;,</td>
      </tr>
      <tr>
        <td id="L466" class="blob-num js-line-number" data-line-number="466"></td>
        <td id="LC466" class="blob-code js-file-line">        &quot;        (&#39;machine&#39;, 0.00024636610002463656),\n&quot;,</td>
      </tr>
      <tr>
        <td id="L467" class="blob-num js-line-number" data-line-number="467"></td>
        <td id="LC467" class="blob-code js-file-line">        &quot;        (&#39;made&#39;, 0.00024636610002463656),\n&quot;,</td>
      </tr>
      <tr>
        <td id="L468" class="blob-num js-line-number" data-line-number="468"></td>
        <td id="LC468" class="blob-code js-file-line">        &quot;        (&#39;major&#39;, 0.00024636610002463656),\n&quot;,</td>
      </tr>
      <tr>
        <td id="L469" class="blob-num js-line-number" data-line-number="469"></td>
        <td id="LC469" class="blob-code js-file-line">        &quot;        (&#39;mathematical&#39;, 0.00024636610002463656),\n&quot;,</td>
      </tr>
      <tr>
        <td id="L470" class="blob-num js-line-number" data-line-number="470"></td>
        <td id="LC470" class="blob-code js-file-line">        &quot;        (&#39;mathematician&#39;, 0.00024636610002463656),\n&quot;,</td>
      </tr>
      <tr>
        <td id="L471" class="blob-num js-line-number" data-line-number="471"></td>
        <td id="LC471" class="blob-code js-file-line">        &quot;        (&#39;mathematics&#39;, 0.00024636610002463656),\n&quot;,</td>
      </tr>
      <tr>
        <td id="L472" class="blob-num js-line-number" data-line-number="472"></td>
        <td id="LC472" class="blob-code js-file-line">        &quot;        (&#39;science&#39;, 0.00024636610002463656),\n&quot;,</td>
      </tr>
      <tr>
        <td id="L473" class="blob-num js-line-number" data-line-number="473"></td>
        <td id="LC473" class="blob-code js-file-line">        &quot;        (&#39;theoretical&#39;, 0.00024636610002463656),\n&quot;,</td>
      </tr>
      <tr>
        <td id="L474" class="blob-num js-line-number" data-line-number="474"></td>
        <td id="LC474" class="blob-code js-file-line">        &quot;        (&#39;adapted&#39;, 0.00024636610002463656),\n&quot;,</td>
      </tr>
      <tr>
        <td id="L475" class="blob-num js-line-number" data-line-number="475"></td>
        <td id="LC475" class="blob-code js-file-line">        &quot;        (&#39;computable&#39;, 0.0002463661000246313)],\n&quot;,</td>
      </tr>
      <tr>
        <td id="L476" class="blob-num js-line-number" data-line-number="476"></td>
        <td id="LC476" class="blob-code js-file-line">        &quot;       [(&#39;logic&#39;, 0.06069772131478124), (&#39;turing&#39;, 0.06069772131478124),\n&quot;,</td>
      </tr>
      <tr>
        <td id="L477" class="blob-num js-line-number" data-line-number="477"></td>
        <td id="LC477" class="blob-code js-file-line">        &quot;        (&#39;foundations&#39;, 0.06069772131478124),\n&quot;,</td>
      </tr>
      <tr>
        <td id="L478" class="blob-num js-line-number" data-line-number="478"></td>
        <td id="LC478" class="blob-code js-file-line">        &quot;        (&#39;church&#39;, 0.06069772131478124), (&#39;computer&#39;, 0.06069772131478124),\n&quot;,</td>
      </tr>
      <tr>
        <td id="L479" class="blob-num js-line-number" data-line-number="479"></td>
        <td id="LC479" class="blob-code js-file-line">        &quot;        (&#39;computable&#39;, 0.04053236539624926),\n&quot;,</td>
      </tr>
      <tr>
        <td id="L480" class="blob-num js-line-number" data-line-number="480"></td>
        <td id="LC480" class="blob-code js-file-line">        &quot;        (&#39;mathematical&#39;, 0.04053236539624926),\n&quot;,</td>
      </tr>
      <tr>
        <td id="L481" class="blob-num js-line-number" data-line-number="481"></td>
        <td id="LC481" class="blob-code js-file-line">        &quot;        (&#39;mathematician&#39;, 0.04053236539624926),\n&quot;,</td>
      </tr>
      <tr>
        <td id="L482" class="blob-num js-line-number" data-line-number="482"></td>
        <td id="LC482" class="blob-code js-file-line">        &quot;        (&#39;mathematics&#39;, 0.04053236539624926),\n&quot;,</td>
      </tr>
      <tr>
        <td id="L483" class="blob-num js-line-number" data-line-number="483"></td>
        <td id="LC483" class="blob-code js-file-line">        &quot;        (&#39;science&#39;, 0.04053236539624926), (&#39;machine&#39;, 0.04053236539624926),\n&quot;,</td>
      </tr>
      <tr>
        <td id="L484" class="blob-num js-line-number" data-line-number="484"></td>
        <td id="LC484" class="blob-code js-file-line">        &quot;        (&#39;alonzo&#39;, 0.04053236539624926),\n&quot;,</td>
      </tr>
      <tr>
        <td id="L485" class="blob-num js-line-number" data-line-number="485"></td>
        <td id="LC485" class="blob-code js-file-line">        &quot;        (&#39;theoretical&#39;, 0.04053236539624926),\n&quot;,</td>
      </tr>
      <tr>
        <td id="L486" class="blob-num js-line-number" data-line-number="486"></td>
        <td id="LC486" class="blob-code js-file-line">        &quot;        (&#39;close&#39;, 0.020367009477717295),\n&quot;,</td>
      </tr>
      <tr>
        <td id="L487" class="blob-num js-line-number" data-line-number="487"></td>
        <td id="LC487" class="blob-code js-file-line">        &quot;        (&#39;calculus&#39;, 0.020367009477717295), (&#39;made&#39;, 0.020367009477717295),\n&quot;,</td>
      </tr>
      <tr>
        <td id="L488" class="blob-num js-line-number" data-line-number="488"></td>
        <td id="LC488" class="blob-code js-file-line">        &quot;        (&#39;contributions&#39;, 0.020367009477717295),\n&quot;,</td>
      </tr>
      <tr>
        <td id="L489" class="blob-num js-line-number" data-line-number="489"></td>
        <td id="LC489" class="blob-code js-file-line">        &quot;        (&#39;american&#39;, 0.020367009477717295),\n&quot;,</td>
      </tr>
      <tr>
        <td id="L490" class="blob-num js-line-number" data-line-number="490"></td>
        <td id="LC490" class="blob-code js-file-line">        &quot;        (&#39;function&#39;, 0.020367009477717295),\n&quot;,</td>
      </tr>
      <tr>
        <td id="L491" class="blob-num js-line-number" data-line-number="491"></td>
        <td id="LC491" class="blob-code js-file-line">        &quot;        (&#39;introduced&#39;, 0.020367009477717295),\n&quot;,</td>
      </tr>
      <tr>
        <td id="L492" class="blob-num js-line-number" data-line-number="492"></td>
        <td id="LC492" class="blob-code js-file-line">        &quot;        (&#39;investigation&#39;, 0.020367009477717295),\n&quot;,</td>
      </tr>
      <tr>
        <td id="L493" class="blob-num js-line-number" data-line-number="493"></td>
        <td id="LC493" class="blob-code js-file-line">        &quot;        (&#39;lambda&#39;, 0.020367009477717295),\n&quot;,</td>
      </tr>
      <tr>
        <td id="L494" class="blob-num js-line-number" data-line-number="494"></td>
        <td id="LC494" class="blob-code js-file-line">        &quot;        (&#39;algorithmically&#39;, 0.020367009477717295),\n&quot;,</td>
      </tr>
      <tr>
        <td id="L495" class="blob-num js-line-number" data-line-number="495"></td>
        <td id="LC495" class="blob-code js-file-line">        &quot;        (&#39;algorithm&#39;, 0.020367009477717295),\n&quot;,</td>
      </tr>
      <tr>
        <td id="L496" class="blob-num js-line-number" data-line-number="496"></td>
        <td id="LC496" class="blob-code js-file-line">        &quot;        (&#39;logician&#39;, 0.020367009477717295),\n&quot;,</td>
      </tr>
      <tr>
        <td id="L497" class="blob-num js-line-number" data-line-number="497"></td>
        <td id="LC497" class="blob-code js-file-line">        &quot;        (&#39;connections&#39;, 0.020367009477717295),\n&quot;,</td>
      </tr>
      <tr>
        <td id="L498" class="blob-num js-line-number" data-line-number="498"></td>
        <td id="LC498" class="blob-code js-file-line">        &quot;        (&#39;adapted&#39;, 0.020367009477717295), (&#39;major&#39;, 0.020367009477717295),\n&quot;,</td>
      </tr>
      <tr>
        <td id="L499" class="blob-num js-line-number" data-line-number="499"></td>
        <td id="LC499" class="blob-code js-file-line">        &quot;        (&#39;states&#39;, 0.020367009477717295), (&#39;thesis&#39;, 0.020367009477717295),\n&quot;,</td>
      </tr>
      <tr>
        <td id="L500" class="blob-num js-line-number" data-line-number="500"></td>
        <td id="LC500" class="blob-code js-file-line">        &quot;        (&#39;simulate&#39;, 0.020367009477717295),\n&quot;,</td>
      </tr>
      <tr>
        <td id="L501" class="blob-num js-line-number" data-line-number="501"></td>
        <td id="LC501" class="blob-code js-file-line">        &quot;        (&#39;viii&#39;, 0.00020165355918531992),\n&quot;,</td>
      </tr>
      <tr>
        <td id="L502" class="blob-num js-line-number" data-line-number="502"></td>
        <td id="LC502" class="blob-code js-file-line">        &quot;        (&#39;catholic&#39;, 0.00020165355918531992),\n&quot;,</td>
      </tr>
      <tr>
        <td id="L503" class="blob-num js-line-number" data-line-number="503"></td>
        <td id="LC503" class="blob-code js-file-line">        &quot;        (&#39;successor&#39;, 0.00020165355918531992),\n&quot;,</td>
      </tr>
      <tr>
        <td id="L504" class="blob-num js-line-number" data-line-number="504"></td>
        <td id="LC504" class="blob-code js-file-line">        &quot;        (&#39;boniface&#39;, 0.00020165355918531992),\n&quot;,</td>
      </tr>
      <tr>
        <td id="L505" class="blob-num js-line-number" data-line-number="505"></td>
        <td id="LC505" class="blob-code js-file-line">        &quot;        (&#39;teacher&#39;, 0.00020165355918531992),\n&quot;,</td>
      </tr>
      <tr>
        <td id="L506" class="blob-num js-line-number" data-line-number="506"></td>
        <td id="LC506" class="blob-code js-file-line">        &quot;        (&#39;saint&#39;, 0.00020165355918531992),\n&quot;,</td>
      </tr>
      <tr>
        <td id="L507" class="blob-num js-line-number" data-line-number="507"></td>
        <td id="LC507" class="blob-code js-file-line">        &quot;        (&#39;doctor&#39;, 0.00020165355918531992),\n&quot;,</td>
      </tr>
      <tr>
        <td id="L508" class="blob-num js-line-number" data-line-number="508"></td>
        <td id="LC508" class="blob-code js-file-line">        &quot;        (&#39;model&#39;, 0.00020165355918531992),\n&quot;,</td>
      </tr>
      <tr>
        <td id="L509" class="blob-num js-line-number" data-line-number="509"></td>
        <td id="LC509" class="blob-code js-file-line">        &quot;        (&#39;regarded&#39;, 0.00020165355918531992),\n&quot;,</td>
      </tr>
      <tr>
        <td id="L510" class="blob-num js-line-number" data-line-number="510"></td>
        <td id="LC510" class="blob-code js-file-line">        &quot;        (&#39;held&#39;, 0.00020165355918531992),\n&quot;,</td>
      </tr>
      <tr>
        <td id="L511" class="blob-num js-line-number" data-line-number="511"></td>
        <td id="LC511" class="blob-code js-file-line">        &quot;        (&#39;recognized&#39;, 0.00020165355918531992),\n&quot;,</td>
      </tr>
      <tr>
        <td id="L512" class="blob-num js-line-number" data-line-number="512"></td>
        <td id="LC512" class="blob-code js-file-line">        &quot;        (&#39;pope&#39;, 0.00020165355918531992),\n&quot;,</td>
      </tr>
      <tr>
        <td id="L513" class="blob-num js-line-number" data-line-number="513"></td>
        <td id="LC513" class="blob-code js-file-line">        &quot;        (&#39;challenged&#39;, 0.00020165355918531992),\n&quot;,</td>
      </tr>
      <tr>
        <td id="L514" class="blob-num js-line-number" data-line-number="514"></td>
        <td id="LC514" class="blob-code js-file-line">        &quot;        (&#39;theology&#39;, 0.00020165355918531975),\n&quot;,</td>
      </tr>
      <tr>
        <td id="L515" class="blob-num js-line-number" data-line-number="515"></td>
        <td id="LC515" class="blob-code js-file-line">        &quot;        (&#39;alone&#39;, 0.00020165355918531975),\n&quot;,</td>
      </tr>
      <tr>
        <td id="L516" class="blob-num js-line-number" data-line-number="516"></td>
        <td id="LC516" class="blob-code js-file-line">        &quot;        (&#39;teaching&#39;, 0.00020165355918531975),\n&quot;,</td>
      </tr>
      <tr>
        <td id="L517" class="blob-num js-line-number" data-line-number="517"></td>
        <td id="LC517" class="blob-code js-file-line">        &quot;        (&#39;bible&#39;, 0.00020165355918531975),\n&quot;,</td>
      </tr>
      <tr>
        <td id="L518" class="blob-num js-line-number" data-line-number="518"></td>
        <td id="LC518" class="blob-code js-file-line">        &quot;        (&#39;knowledge&#39;, 0.00020165355918531975),\n&quot;,</td>
      </tr>
      <tr>
        <td id="L519" class="blob-num js-line-number" data-line-number="519"></td>
        <td id="LC519" class="blob-code js-file-line">        &quot;        (&#39;peter&#39;, 0.00020165355918531975),\n&quot;,</td>
      </tr>
      <tr>
        <td id="L520" class="blob-num js-line-number" data-line-number="520"></td>
        <td id="LC520" class="blob-code js-file-line">        &quot;        (&#39;justify&#39;, 0.00020165355918531975),\n&quot;,</td>
      </tr>
      <tr>
        <td id="L521" class="blob-num js-line-number" data-line-number="521"></td>
        <td id="LC521" class="blob-code js-file-line">        &quot;        (&#39;source&#39;, 0.00020165355918531975),\n&quot;,</td>
      </tr>
      <tr>
        <td id="L522" class="blob-num js-line-number" data-line-number="522"></td>
        <td id="LC522" class="blob-code js-file-line">        &quot;        (&#39;man&#39;, 0.00020165355918531975), (&#39;roman&#39;, 0.00020165355918531975),\n&quot;,</td>
      </tr>
      <tr>
        <td id="L523" class="blob-num js-line-number" data-line-number="523"></td>
        <td id="LC523" class="blob-code js-file-line">        &quot;        (&#39;divinely&#39;, 0.00020165355918531975),\n&quot;,</td>
      </tr>
      <tr>
        <td id="L524" class="blob-num js-line-number" data-line-number="524"></td>
        <td id="LC524" class="blob-code js-file-line">        &quot;        (&#39;faith&#39;, 0.00020165355918531975),\n&quot;,</td>
      </tr>
      <tr>
        <td id="L525" class="blob-num js-line-number" data-line-number="525"></td>
        <td id="LC525" class="blob-code js-file-line">        &quot;        (&#39;revealed&#39;, 0.00020165355918531975),\n&quot;,</td>
      </tr>
      <tr>
        <td id="L526" class="blob-num js-line-number" data-line-number="526"></td>
        <td id="LC526" class="blob-code js-file-line">        &quot;        (&#39;stated&#39;, 0.00020165355918531975),\n&quot;,</td>
      </tr>
      <tr>
        <td id="L527" class="blob-num js-line-number" data-line-number="527"></td>
        <td id="LC527" class="blob-code js-file-line">        &quot;        (&#39;augustine&#39;, 0.00020165355918531544)]], \n&quot;,</td>
      </tr>
      <tr>
        <td id="L528" class="blob-num js-line-number" data-line-number="528"></td>
        <td id="LC528" class="blob-code js-file-line">        &quot;      dtype=[(&#39;word&#39;, &#39;|S15&#39;), (&#39;value&#39;, &#39;&lt;f8&#39;)])&quot;</td>
      </tr>
      <tr>
        <td id="L529" class="blob-num js-line-number" data-line-number="529"></td>
        <td id="LC529" class="blob-code js-file-line">       ]</td>
      </tr>
      <tr>
        <td id="L530" class="blob-num js-line-number" data-line-number="530"></td>
        <td id="LC530" class="blob-code js-file-line">      }</td>
      </tr>
      <tr>
        <td id="L531" class="blob-num js-line-number" data-line-number="531"></td>
        <td id="LC531" class="blob-code js-file-line">     ],</td>
      </tr>
      <tr>
        <td id="L532" class="blob-num js-line-number" data-line-number="532"></td>
        <td id="LC532" class="blob-code js-file-line">     &quot;prompt_number&quot;: 9</td>
      </tr>
      <tr>
        <td id="L533" class="blob-num js-line-number" data-line-number="533"></td>
        <td id="LC533" class="blob-code js-file-line">    },</td>
      </tr>
      <tr>
        <td id="L534" class="blob-num js-line-number" data-line-number="534"></td>
        <td id="LC534" class="blob-code js-file-line">    {</td>
      </tr>
      <tr>
        <td id="L535" class="blob-num js-line-number" data-line-number="535"></td>
        <td id="LC535" class="blob-code js-file-line">     &quot;cell_type&quot;: &quot;code&quot;,</td>
      </tr>
      <tr>
        <td id="L536" class="blob-num js-line-number" data-line-number="536"></td>
        <td id="LC536" class="blob-code js-file-line">     &quot;collapsed&quot;: false,</td>
      </tr>
      <tr>
        <td id="L537" class="blob-num js-line-number" data-line-number="537"></td>
        <td id="LC537" class="blob-code js-file-line">     &quot;input&quot;: [</td>
      </tr>
      <tr>
        <td id="L538" class="blob-num js-line-number" data-line-number="538"></td>
        <td id="LC538" class="blob-code js-file-line">      &quot;v.dist_word_top(&#39;logic&#39;)&quot;</td>
      </tr>
      <tr>
        <td id="L539" class="blob-num js-line-number" data-line-number="539"></td>
        <td id="LC539" class="blob-code js-file-line">     ],</td>
      </tr>
      <tr>
        <td id="L540" class="blob-num js-line-number" data-line-number="540"></td>
        <td id="LC540" class="blob-code js-file-line">     &quot;language&quot;: &quot;python&quot;,</td>
      </tr>
      <tr>
        <td id="L541" class="blob-num js-line-number" data-line-number="541"></td>
        <td id="LC541" class="blob-code js-file-line">     &quot;metadata&quot;: {},</td>
      </tr>
      <tr>
        <td id="L542" class="blob-num js-line-number" data-line-number="542"></td>
        <td id="LC542" class="blob-code js-file-line">     &quot;outputs&quot;: [</td>
      </tr>
      <tr>
        <td id="L543" class="blob-num js-line-number" data-line-number="543"></td>
        <td id="LC543" class="blob-code js-file-line">      {</td>
      </tr>
      <tr>
        <td id="L544" class="blob-num js-line-number" data-line-number="544"></td>
        <td id="LC544" class="blob-code js-file-line">       &quot;html&quot;: [</td>
      </tr>
      <tr>
        <td id="L545" class="blob-num js-line-number" data-line-number="545"></td>
        <td id="LC545" class="blob-code js-file-line">        &quot;&lt;table style=\&quot;margin: 0\&quot;&gt;&lt;tr&gt;&lt;th style=\&quot;text-align: center; background: #CEE3F6\&quot; colspan            =\&quot;11\&quot;&gt;Sorted by Topic Distance&lt;/th&gt;&lt;/tr&gt;&lt;tr&gt;&lt;th style=\&quot;text-align: center; background: #EFF2FB;\&quot;                     &gt;Topic&lt;/th&gt;&lt;th style=\&quot;text-align: center; background: #EFF2FB;\&quot;                     &gt;Words&lt;/th&gt;&lt;/tr&gt;&lt;tr&gt;&lt;td style=\&quot;padding-left:0.75em;\&quot;&gt;0&lt;/td&gt;&lt;td&gt; logic, turing, foundations, church, computer, computable, mathematical, mathematician, mathematics, science          &lt;/td&gt;&lt;/tr&gt;&lt;/table&gt;&quot;</td>
      </tr>
      <tr>
        <td id="L546" class="blob-num js-line-number" data-line-number="546"></td>
        <td id="LC546" class="blob-code js-file-line">       ],</td>
      </tr>
      <tr>
        <td id="L547" class="blob-num js-line-number" data-line-number="547"></td>
        <td id="LC547" class="blob-code js-file-line">       &quot;metadata&quot;: {},</td>
      </tr>
      <tr>
        <td id="L548" class="blob-num js-line-number" data-line-number="548"></td>
        <td id="LC548" class="blob-code js-file-line">       &quot;output_type&quot;: &quot;pyout&quot;,</td>
      </tr>
      <tr>
        <td id="L549" class="blob-num js-line-number" data-line-number="549"></td>
        <td id="LC549" class="blob-code js-file-line">       &quot;prompt_number&quot;: 10,</td>
      </tr>
      <tr>
        <td id="L550" class="blob-num js-line-number" data-line-number="550"></td>
        <td id="LC550" class="blob-code js-file-line">       &quot;text&quot;: [</td>
      </tr>
      <tr>
        <td id="L551" class="blob-num js-line-number" data-line-number="551"></td>
        <td id="LC551" class="blob-code js-file-line">        &quot;CompactTable([[(&#39;logic&#39;, 0.06069772131478124), (&#39;turing&#39;, 0.06069772131478124),\n&quot;,</td>
      </tr>
      <tr>
        <td id="L552" class="blob-num js-line-number" data-line-number="552"></td>
        <td id="LC552" class="blob-code js-file-line">        &quot;        (&#39;foundations&#39;, 0.06069772131478124),\n&quot;,</td>
      </tr>
      <tr>
        <td id="L553" class="blob-num js-line-number" data-line-number="553"></td>
        <td id="LC553" class="blob-code js-file-line">        &quot;        (&#39;church&#39;, 0.06069772131478124), (&#39;computer&#39;, 0.06069772131478124),\n&quot;,</td>
      </tr>
      <tr>
        <td id="L554" class="blob-num js-line-number" data-line-number="554"></td>
        <td id="LC554" class="blob-code js-file-line">        &quot;        (&#39;computable&#39;, 0.04053236539624926),\n&quot;,</td>
      </tr>
      <tr>
        <td id="L555" class="blob-num js-line-number" data-line-number="555"></td>
        <td id="LC555" class="blob-code js-file-line">        &quot;        (&#39;mathematical&#39;, 0.04053236539624926),\n&quot;,</td>
      </tr>
      <tr>
        <td id="L556" class="blob-num js-line-number" data-line-number="556"></td>
        <td id="LC556" class="blob-code js-file-line">        &quot;        (&#39;mathematician&#39;, 0.04053236539624926),\n&quot;,</td>
      </tr>
      <tr>
        <td id="L557" class="blob-num js-line-number" data-line-number="557"></td>
        <td id="LC557" class="blob-code js-file-line">        &quot;        (&#39;mathematics&#39;, 0.04053236539624926),\n&quot;,</td>
      </tr>
      <tr>
        <td id="L558" class="blob-num js-line-number" data-line-number="558"></td>
        <td id="LC558" class="blob-code js-file-line">        &quot;        (&#39;science&#39;, 0.04053236539624926), (&#39;machine&#39;, 0.04053236539624926),\n&quot;,</td>
      </tr>
      <tr>
        <td id="L559" class="blob-num js-line-number" data-line-number="559"></td>
        <td id="LC559" class="blob-code js-file-line">        &quot;        (&#39;alonzo&#39;, 0.04053236539624926),\n&quot;,</td>
      </tr>
      <tr>
        <td id="L560" class="blob-num js-line-number" data-line-number="560"></td>
        <td id="LC560" class="blob-code js-file-line">        &quot;        (&#39;theoretical&#39;, 0.04053236539624926),\n&quot;,</td>
      </tr>
      <tr>
        <td id="L561" class="blob-num js-line-number" data-line-number="561"></td>
        <td id="LC561" class="blob-code js-file-line">        &quot;        (&#39;close&#39;, 0.020367009477717295),\n&quot;,</td>
      </tr>
      <tr>
        <td id="L562" class="blob-num js-line-number" data-line-number="562"></td>
        <td id="LC562" class="blob-code js-file-line">        &quot;        (&#39;calculus&#39;, 0.020367009477717295), (&#39;made&#39;, 0.020367009477717295),\n&quot;,</td>
      </tr>
      <tr>
        <td id="L563" class="blob-num js-line-number" data-line-number="563"></td>
        <td id="LC563" class="blob-code js-file-line">        &quot;        (&#39;contributions&#39;, 0.020367009477717295),\n&quot;,</td>
      </tr>
      <tr>
        <td id="L564" class="blob-num js-line-number" data-line-number="564"></td>
        <td id="LC564" class="blob-code js-file-line">        &quot;        (&#39;american&#39;, 0.020367009477717295),\n&quot;,</td>
      </tr>
      <tr>
        <td id="L565" class="blob-num js-line-number" data-line-number="565"></td>
        <td id="LC565" class="blob-code js-file-line">        &quot;        (&#39;function&#39;, 0.020367009477717295),\n&quot;,</td>
      </tr>
      <tr>
        <td id="L566" class="blob-num js-line-number" data-line-number="566"></td>
        <td id="LC566" class="blob-code js-file-line">        &quot;        (&#39;introduced&#39;, 0.020367009477717295),\n&quot;,</td>
      </tr>
      <tr>
        <td id="L567" class="blob-num js-line-number" data-line-number="567"></td>
        <td id="LC567" class="blob-code js-file-line">        &quot;        (&#39;investigation&#39;, 0.020367009477717295),\n&quot;,</td>
      </tr>
      <tr>
        <td id="L568" class="blob-num js-line-number" data-line-number="568"></td>
        <td id="LC568" class="blob-code js-file-line">        &quot;        (&#39;lambda&#39;, 0.020367009477717295),\n&quot;,</td>
      </tr>
      <tr>
        <td id="L569" class="blob-num js-line-number" data-line-number="569"></td>
        <td id="LC569" class="blob-code js-file-line">        &quot;        (&#39;algorithmically&#39;, 0.020367009477717295),\n&quot;,</td>
      </tr>
      <tr>
        <td id="L570" class="blob-num js-line-number" data-line-number="570"></td>
        <td id="LC570" class="blob-code js-file-line">        &quot;        (&#39;algorithm&#39;, 0.020367009477717295),\n&quot;,</td>
      </tr>
      <tr>
        <td id="L571" class="blob-num js-line-number" data-line-number="571"></td>
        <td id="LC571" class="blob-code js-file-line">        &quot;        (&#39;logician&#39;, 0.020367009477717295),\n&quot;,</td>
      </tr>
      <tr>
        <td id="L572" class="blob-num js-line-number" data-line-number="572"></td>
        <td id="LC572" class="blob-code js-file-line">        &quot;        (&#39;connections&#39;, 0.020367009477717295),\n&quot;,</td>
      </tr>
      <tr>
        <td id="L573" class="blob-num js-line-number" data-line-number="573"></td>
        <td id="LC573" class="blob-code js-file-line">        &quot;        (&#39;adapted&#39;, 0.020367009477717295), (&#39;major&#39;, 0.020367009477717295),\n&quot;,</td>
      </tr>
      <tr>
        <td id="L574" class="blob-num js-line-number" data-line-number="574"></td>
        <td id="LC574" class="blob-code js-file-line">        &quot;        (&#39;states&#39;, 0.020367009477717295), (&#39;thesis&#39;, 0.020367009477717295),\n&quot;,</td>
      </tr>
      <tr>
        <td id="L575" class="blob-num js-line-number" data-line-number="575"></td>
        <td id="LC575" class="blob-code js-file-line">        &quot;        (&#39;simulate&#39;, 0.020367009477717295),\n&quot;,</td>
      </tr>
      <tr>
        <td id="L576" class="blob-num js-line-number" data-line-number="576"></td>
        <td id="LC576" class="blob-code js-file-line">        &quot;        (&#39;viii&#39;, 0.00020165355918531992),\n&quot;,</td>
      </tr>
      <tr>
        <td id="L577" class="blob-num js-line-number" data-line-number="577"></td>
        <td id="LC577" class="blob-code js-file-line">        &quot;        (&#39;catholic&#39;, 0.00020165355918531992),\n&quot;,</td>
      </tr>
      <tr>
        <td id="L578" class="blob-num js-line-number" data-line-number="578"></td>
        <td id="LC578" class="blob-code js-file-line">        &quot;        (&#39;successor&#39;, 0.00020165355918531992),\n&quot;,</td>
      </tr>
      <tr>
        <td id="L579" class="blob-num js-line-number" data-line-number="579"></td>
        <td id="LC579" class="blob-code js-file-line">        &quot;        (&#39;boniface&#39;, 0.00020165355918531992),\n&quot;,</td>
      </tr>
      <tr>
        <td id="L580" class="blob-num js-line-number" data-line-number="580"></td>
        <td id="LC580" class="blob-code js-file-line">        &quot;        (&#39;teacher&#39;, 0.00020165355918531992),\n&quot;,</td>
      </tr>
      <tr>
        <td id="L581" class="blob-num js-line-number" data-line-number="581"></td>
        <td id="LC581" class="blob-code js-file-line">        &quot;        (&#39;saint&#39;, 0.00020165355918531992),\n&quot;,</td>
      </tr>
      <tr>
        <td id="L582" class="blob-num js-line-number" data-line-number="582"></td>
        <td id="LC582" class="blob-code js-file-line">        &quot;        (&#39;doctor&#39;, 0.00020165355918531992),\n&quot;,</td>
      </tr>
      <tr>
        <td id="L583" class="blob-num js-line-number" data-line-number="583"></td>
        <td id="LC583" class="blob-code js-file-line">        &quot;        (&#39;model&#39;, 0.00020165355918531992),\n&quot;,</td>
      </tr>
      <tr>
        <td id="L584" class="blob-num js-line-number" data-line-number="584"></td>
        <td id="LC584" class="blob-code js-file-line">        &quot;        (&#39;regarded&#39;, 0.00020165355918531992),\n&quot;,</td>
      </tr>
      <tr>
        <td id="L585" class="blob-num js-line-number" data-line-number="585"></td>
        <td id="LC585" class="blob-code js-file-line">        &quot;        (&#39;held&#39;, 0.00020165355918531992),\n&quot;,</td>
      </tr>
      <tr>
        <td id="L586" class="blob-num js-line-number" data-line-number="586"></td>
        <td id="LC586" class="blob-code js-file-line">        &quot;        (&#39;recognized&#39;, 0.00020165355918531992),\n&quot;,</td>
      </tr>
      <tr>
        <td id="L587" class="blob-num js-line-number" data-line-number="587"></td>
        <td id="LC587" class="blob-code js-file-line">        &quot;        (&#39;pope&#39;, 0.00020165355918531992),\n&quot;,</td>
      </tr>
      <tr>
        <td id="L588" class="blob-num js-line-number" data-line-number="588"></td>
        <td id="LC588" class="blob-code js-file-line">        &quot;        (&#39;challenged&#39;, 0.00020165355918531992),\n&quot;,</td>
      </tr>
      <tr>
        <td id="L589" class="blob-num js-line-number" data-line-number="589"></td>
        <td id="LC589" class="blob-code js-file-line">        &quot;        (&#39;theology&#39;, 0.00020165355918531975),\n&quot;,</td>
      </tr>
      <tr>
        <td id="L590" class="blob-num js-line-number" data-line-number="590"></td>
        <td id="LC590" class="blob-code js-file-line">        &quot;        (&#39;alone&#39;, 0.00020165355918531975),\n&quot;,</td>
      </tr>
      <tr>
        <td id="L591" class="blob-num js-line-number" data-line-number="591"></td>
        <td id="LC591" class="blob-code js-file-line">        &quot;        (&#39;teaching&#39;, 0.00020165355918531975),\n&quot;,</td>
      </tr>
      <tr>
        <td id="L592" class="blob-num js-line-number" data-line-number="592"></td>
        <td id="LC592" class="blob-code js-file-line">        &quot;        (&#39;bible&#39;, 0.00020165355918531975),\n&quot;,</td>
      </tr>
      <tr>
        <td id="L593" class="blob-num js-line-number" data-line-number="593"></td>
        <td id="LC593" class="blob-code js-file-line">        &quot;        (&#39;knowledge&#39;, 0.00020165355918531975),\n&quot;,</td>
      </tr>
      <tr>
        <td id="L594" class="blob-num js-line-number" data-line-number="594"></td>
        <td id="LC594" class="blob-code js-file-line">        &quot;        (&#39;peter&#39;, 0.00020165355918531975),\n&quot;,</td>
      </tr>
      <tr>
        <td id="L595" class="blob-num js-line-number" data-line-number="595"></td>
        <td id="LC595" class="blob-code js-file-line">        &quot;        (&#39;justify&#39;, 0.00020165355918531975),\n&quot;,</td>
      </tr>
      <tr>
        <td id="L596" class="blob-num js-line-number" data-line-number="596"></td>
        <td id="LC596" class="blob-code js-file-line">        &quot;        (&#39;source&#39;, 0.00020165355918531975),\n&quot;,</td>
      </tr>
      <tr>
        <td id="L597" class="blob-num js-line-number" data-line-number="597"></td>
        <td id="LC597" class="blob-code js-file-line">        &quot;        (&#39;man&#39;, 0.00020165355918531975), (&#39;roman&#39;, 0.00020165355918531975),\n&quot;,</td>
      </tr>
      <tr>
        <td id="L598" class="blob-num js-line-number" data-line-number="598"></td>
        <td id="LC598" class="blob-code js-file-line">        &quot;        (&#39;divinely&#39;, 0.00020165355918531975),\n&quot;,</td>
      </tr>
      <tr>
        <td id="L599" class="blob-num js-line-number" data-line-number="599"></td>
        <td id="LC599" class="blob-code js-file-line">        &quot;        (&#39;faith&#39;, 0.00020165355918531975),\n&quot;,</td>
      </tr>
      <tr>
        <td id="L600" class="blob-num js-line-number" data-line-number="600"></td>
        <td id="LC600" class="blob-code js-file-line">        &quot;        (&#39;revealed&#39;, 0.00020165355918531975),\n&quot;,</td>
      </tr>
      <tr>
        <td id="L601" class="blob-num js-line-number" data-line-number="601"></td>
        <td id="LC601" class="blob-code js-file-line">        &quot;        (&#39;stated&#39;, 0.00020165355918531975),\n&quot;,</td>
      </tr>
      <tr>
        <td id="L602" class="blob-num js-line-number" data-line-number="602"></td>
        <td id="LC602" class="blob-code js-file-line">        &quot;        (&#39;augustine&#39;, 0.00020165355918531544)]], \n&quot;,</td>
      </tr>
      <tr>
        <td id="L603" class="blob-num js-line-number" data-line-number="603"></td>
        <td id="LC603" class="blob-code js-file-line">        &quot;      dtype=[(&#39;word&#39;, &#39;|S15&#39;), (&#39;value&#39;, &#39;&lt;f8&#39;)])&quot;</td>
      </tr>
      <tr>
        <td id="L604" class="blob-num js-line-number" data-line-number="604"></td>
        <td id="LC604" class="blob-code js-file-line">       ]</td>
      </tr>
      <tr>
        <td id="L605" class="blob-num js-line-number" data-line-number="605"></td>
        <td id="LC605" class="blob-code js-file-line">      }</td>
      </tr>
      <tr>
        <td id="L606" class="blob-num js-line-number" data-line-number="606"></td>
        <td id="LC606" class="blob-code js-file-line">     ],</td>
      </tr>
      <tr>
        <td id="L607" class="blob-num js-line-number" data-line-number="607"></td>
        <td id="LC607" class="blob-code js-file-line">     &quot;prompt_number&quot;: 10</td>
      </tr>
      <tr>
        <td id="L608" class="blob-num js-line-number" data-line-number="608"></td>
        <td id="LC608" class="blob-code js-file-line">    },</td>
      </tr>
      <tr>
        <td id="L609" class="blob-num js-line-number" data-line-number="609"></td>
        <td id="LC609" class="blob-code js-file-line">    {</td>
      </tr>
      <tr>
        <td id="L610" class="blob-num js-line-number" data-line-number="610"></td>
        <td id="LC610" class="blob-code js-file-line">     &quot;cell_type&quot;: &quot;code&quot;,</td>
      </tr>
      <tr>
        <td id="L611" class="blob-num js-line-number" data-line-number="611"></td>
        <td id="LC611" class="blob-code js-file-line">     &quot;collapsed&quot;: false,</td>
      </tr>
      <tr>
        <td id="L612" class="blob-num js-line-number" data-line-number="612"></td>
        <td id="LC612" class="blob-code js-file-line">     &quot;input&quot;: [</td>
      </tr>
      <tr>
        <td id="L613" class="blob-num js-line-number" data-line-number="613"></td>
        <td id="LC613" class="blob-code js-file-line">      &quot;v.dismat_top()&quot;</td>
      </tr>
      <tr>
        <td id="L614" class="blob-num js-line-number" data-line-number="614"></td>
        <td id="LC614" class="blob-code js-file-line">     ],</td>
      </tr>
      <tr>
        <td id="L615" class="blob-num js-line-number" data-line-number="615"></td>
        <td id="LC615" class="blob-code js-file-line">     &quot;language&quot;: &quot;python&quot;,</td>
      </tr>
      <tr>
        <td id="L616" class="blob-num js-line-number" data-line-number="616"></td>
        <td id="LC616" class="blob-code js-file-line">     &quot;metadata&quot;: {},</td>
      </tr>
      <tr>
        <td id="L617" class="blob-num js-line-number" data-line-number="617"></td>
        <td id="LC617" class="blob-code js-file-line">     &quot;outputs&quot;: [</td>
      </tr>
      <tr>
        <td id="L618" class="blob-num js-line-number" data-line-number="618"></td>
        <td id="LC618" class="blob-code js-file-line">      {</td>
      </tr>
      <tr>
        <td id="L619" class="blob-num js-line-number" data-line-number="619"></td>
        <td id="LC619" class="blob-code js-file-line">       &quot;metadata&quot;: {},</td>
      </tr>
      <tr>
        <td id="L620" class="blob-num js-line-number" data-line-number="620"></td>
        <td id="LC620" class="blob-code js-file-line">       &quot;output_type&quot;: &quot;pyout&quot;,</td>
      </tr>
      <tr>
        <td id="L621" class="blob-num js-line-number" data-line-number="621"></td>
        <td id="LC621" class="blob-code js-file-line">       &quot;prompt_number&quot;: 11,</td>
      </tr>
      <tr>
        <td id="L622" class="blob-num js-line-number" data-line-number="622"></td>
        <td id="LC622" class="blob-code js-file-line">       &quot;text&quot;: [</td>
      </tr>
      <tr>
        <td id="L623" class="blob-num js-line-number" data-line-number="623"></td>
        <td id="LC623" class="blob-code js-file-line">        &quot;IndexedSymmArray([[ 0.        ,  0.93196539],\n&quot;,</td>
      </tr>
      <tr>
        <td id="L624" class="blob-num js-line-number" data-line-number="624"></td>
        <td id="LC624" class="blob-code js-file-line">        &quot;       [ 0.93196539,  0.        ]])&quot;</td>
      </tr>
      <tr>
        <td id="L625" class="blob-num js-line-number" data-line-number="625"></td>
        <td id="LC625" class="blob-code js-file-line">       ]</td>
      </tr>
      <tr>
        <td id="L626" class="blob-num js-line-number" data-line-number="626"></td>
        <td id="LC626" class="blob-code js-file-line">      }</td>
      </tr>
      <tr>
        <td id="L627" class="blob-num js-line-number" data-line-number="627"></td>
        <td id="LC627" class="blob-code js-file-line">     ],</td>
      </tr>
      <tr>
        <td id="L628" class="blob-num js-line-number" data-line-number="628"></td>
        <td id="LC628" class="blob-code js-file-line">     &quot;prompt_number&quot;: 11</td>
      </tr>
      <tr>
        <td id="L629" class="blob-num js-line-number" data-line-number="629"></td>
        <td id="LC629" class="blob-code js-file-line">    },</td>
      </tr>
      <tr>
        <td id="L630" class="blob-num js-line-number" data-line-number="630"></td>
        <td id="LC630" class="blob-code js-file-line">    {</td>
      </tr>
      <tr>
        <td id="L631" class="blob-num js-line-number" data-line-number="631"></td>
        <td id="LC631" class="blob-code js-file-line">     &quot;cell_type&quot;: &quot;code&quot;,</td>
      </tr>
      <tr>
        <td id="L632" class="blob-num js-line-number" data-line-number="632"></td>
        <td id="LC632" class="blob-code js-file-line">     &quot;collapsed&quot;: false,</td>
      </tr>
      <tr>
        <td id="L633" class="blob-num js-line-number" data-line-number="633"></td>
        <td id="LC633" class="blob-code js-file-line">     &quot;input&quot;: [</td>
      </tr>
      <tr>
        <td id="L634" class="blob-num js-line-number" data-line-number="634"></td>
        <td id="LC634" class="blob-code js-file-line">      &quot;v.dismat_top().labels&quot;</td>
      </tr>
      <tr>
        <td id="L635" class="blob-num js-line-number" data-line-number="635"></td>
        <td id="LC635" class="blob-code js-file-line">     ],</td>
      </tr>
      <tr>
        <td id="L636" class="blob-num js-line-number" data-line-number="636"></td>
        <td id="LC636" class="blob-code js-file-line">     &quot;language&quot;: &quot;python&quot;,</td>
      </tr>
      <tr>
        <td id="L637" class="blob-num js-line-number" data-line-number="637"></td>
        <td id="LC637" class="blob-code js-file-line">     &quot;metadata&quot;: {},</td>
      </tr>
      <tr>
        <td id="L638" class="blob-num js-line-number" data-line-number="638"></td>
        <td id="LC638" class="blob-code js-file-line">     &quot;outputs&quot;: [</td>
      </tr>
      <tr>
        <td id="L639" class="blob-num js-line-number" data-line-number="639"></td>
        <td id="LC639" class="blob-code js-file-line">      {</td>
      </tr>
      <tr>
        <td id="L640" class="blob-num js-line-number" data-line-number="640"></td>
        <td id="LC640" class="blob-code js-file-line">       &quot;metadata&quot;: {},</td>
      </tr>
      <tr>
        <td id="L641" class="blob-num js-line-number" data-line-number="641"></td>
        <td id="LC641" class="blob-code js-file-line">       &quot;output_type&quot;: &quot;pyout&quot;,</td>
      </tr>
      <tr>
        <td id="L642" class="blob-num js-line-number" data-line-number="642"></td>
        <td id="LC642" class="blob-code js-file-line">       &quot;prompt_number&quot;: 12,</td>
      </tr>
      <tr>
        <td id="L643" class="blob-num js-line-number" data-line-number="643"></td>
        <td id="LC643" class="blob-code js-file-line">       &quot;text&quot;: [</td>
      </tr>
      <tr>
        <td id="L644" class="blob-num js-line-number" data-line-number="644"></td>
        <td id="LC644" class="blob-code js-file-line">        &quot;[&#39;0&#39;, &#39;1&#39;]&quot;</td>
      </tr>
      <tr>
        <td id="L645" class="blob-num js-line-number" data-line-number="645"></td>
        <td id="LC645" class="blob-code js-file-line">       ]</td>
      </tr>
      <tr>
        <td id="L646" class="blob-num js-line-number" data-line-number="646"></td>
        <td id="LC646" class="blob-code js-file-line">      }</td>
      </tr>
      <tr>
        <td id="L647" class="blob-num js-line-number" data-line-number="647"></td>
        <td id="LC647" class="blob-code js-file-line">     ],</td>
      </tr>
      <tr>
        <td id="L648" class="blob-num js-line-number" data-line-number="648"></td>
        <td id="LC648" class="blob-code js-file-line">     &quot;prompt_number&quot;: 12</td>
      </tr>
      <tr>
        <td id="L649" class="blob-num js-line-number" data-line-number="649"></td>
        <td id="LC649" class="blob-code js-file-line">    },</td>
      </tr>
      <tr>
        <td id="L650" class="blob-num js-line-number" data-line-number="650"></td>
        <td id="LC650" class="blob-code js-file-line">    {</td>
      </tr>
      <tr>
        <td id="L651" class="blob-num js-line-number" data-line-number="651"></td>
        <td id="LC651" class="blob-code js-file-line">     &quot;cell_type&quot;: &quot;code&quot;,</td>
      </tr>
      <tr>
        <td id="L652" class="blob-num js-line-number" data-line-number="652"></td>
        <td id="LC652" class="blob-code js-file-line">     &quot;collapsed&quot;: false,</td>
      </tr>
      <tr>
        <td id="L653" class="blob-num js-line-number" data-line-number="653"></td>
        <td id="LC653" class="blob-code js-file-line">     &quot;input&quot;: [</td>
      </tr>
      <tr>
        <td id="L654" class="blob-num js-line-number" data-line-number="654"></td>
        <td id="LC654" class="blob-code js-file-line">      &quot;np.around(v.dismat_doc(), decimals=1)&quot;</td>
      </tr>
      <tr>
        <td id="L655" class="blob-num js-line-number" data-line-number="655"></td>
        <td id="LC655" class="blob-code js-file-line">     ],</td>
      </tr>
      <tr>
        <td id="L656" class="blob-num js-line-number" data-line-number="656"></td>
        <td id="LC656" class="blob-code js-file-line">     &quot;language&quot;: &quot;python&quot;,</td>
      </tr>
      <tr>
        <td id="L657" class="blob-num js-line-number" data-line-number="657"></td>
        <td id="LC657" class="blob-code js-file-line">     &quot;metadata&quot;: {},</td>
      </tr>
      <tr>
        <td id="L658" class="blob-num js-line-number" data-line-number="658"></td>
        <td id="LC658" class="blob-code js-file-line">     &quot;outputs&quot;: [</td>
      </tr>
      <tr>
        <td id="L659" class="blob-num js-line-number" data-line-number="659"></td>
        <td id="LC659" class="blob-code js-file-line">      {</td>
      </tr>
      <tr>
        <td id="L660" class="blob-num js-line-number" data-line-number="660"></td>
        <td id="LC660" class="blob-code js-file-line">       &quot;metadata&quot;: {},</td>
      </tr>
      <tr>
        <td id="L661" class="blob-num js-line-number" data-line-number="661"></td>
        <td id="LC661" class="blob-code js-file-line">       &quot;output_type&quot;: &quot;pyout&quot;,</td>
      </tr>
      <tr>
        <td id="L662" class="blob-num js-line-number" data-line-number="662"></td>
        <td id="LC662" class="blob-code js-file-line">       &quot;prompt_number&quot;: 13,</td>
      </tr>
      <tr>
        <td id="L663" class="blob-num js-line-number" data-line-number="663"></td>
        <td id="LC663" class="blob-code js-file-line">       &quot;text&quot;: [</td>
      </tr>
      <tr>
        <td id="L664" class="blob-num js-line-number" data-line-number="664"></td>
        <td id="LC664" class="blob-code js-file-line">        &quot;array([[ 0.,  0.,  0.,  0.,  0.,  1.,  1.,  1.,  1.,  1.],\n&quot;,</td>
      </tr>
      <tr>
        <td id="L665" class="blob-num js-line-number" data-line-number="665"></td>
        <td id="LC665" class="blob-code js-file-line">        &quot;       [ 0.,  0.,  0.,  0.,  0.,  1.,  1.,  1.,  1.,  1.],\n&quot;,</td>
      </tr>
      <tr>
        <td id="L666" class="blob-num js-line-number" data-line-number="666"></td>
        <td id="LC666" class="blob-code js-file-line">        &quot;       [ 0.,  0.,  0.,  0.,  0.,  1.,  1.,  1.,  1.,  1.],\n&quot;,</td>
      </tr>
      <tr>
        <td id="L667" class="blob-num js-line-number" data-line-number="667"></td>
        <td id="LC667" class="blob-code js-file-line">        &quot;       [ 0.,  0.,  0.,  0.,  0.,  1.,  1.,  1.,  1.,  1.],\n&quot;,</td>
      </tr>
      <tr>
        <td id="L668" class="blob-num js-line-number" data-line-number="668"></td>
        <td id="LC668" class="blob-code js-file-line">        &quot;       [ 0.,  0.,  0.,  0.,  0.,  1.,  1.,  1.,  1.,  1.],\n&quot;,</td>
      </tr>
      <tr>
        <td id="L669" class="blob-num js-line-number" data-line-number="669"></td>
        <td id="LC669" class="blob-code js-file-line">        &quot;       [ 1.,  1.,  1.,  1.,  1.,  0.,  0.,  0.,  0.,  0.],\n&quot;,</td>
      </tr>
      <tr>
        <td id="L670" class="blob-num js-line-number" data-line-number="670"></td>
        <td id="LC670" class="blob-code js-file-line">        &quot;       [ 1.,  1.,  1.,  1.,  1.,  0.,  0.,  0.,  0.,  0.],\n&quot;,</td>
      </tr>
      <tr>
        <td id="L671" class="blob-num js-line-number" data-line-number="671"></td>
        <td id="LC671" class="blob-code js-file-line">        &quot;       [ 1.,  1.,  1.,  1.,  1.,  0.,  0.,  0.,  0.,  0.],\n&quot;,</td>
      </tr>
      <tr>
        <td id="L672" class="blob-num js-line-number" data-line-number="672"></td>
        <td id="LC672" class="blob-code js-file-line">        &quot;       [ 1.,  1.,  1.,  1.,  1.,  0.,  0.,  0.,  0.,  0.],\n&quot;,</td>
      </tr>
      <tr>
        <td id="L673" class="blob-num js-line-number" data-line-number="673"></td>
        <td id="LC673" class="blob-code js-file-line">        &quot;       [ 1.,  1.,  1.,  1.,  1.,  0.,  0.,  0.,  0.,  0.]])&quot;</td>
      </tr>
      <tr>
        <td id="L674" class="blob-num js-line-number" data-line-number="674"></td>
        <td id="LC674" class="blob-code js-file-line">       ]</td>
      </tr>
      <tr>
        <td id="L675" class="blob-num js-line-number" data-line-number="675"></td>
        <td id="LC675" class="blob-code js-file-line">      }</td>
      </tr>
      <tr>
        <td id="L676" class="blob-num js-line-number" data-line-number="676"></td>
        <td id="LC676" class="blob-code js-file-line">     ],</td>
      </tr>
      <tr>
        <td id="L677" class="blob-num js-line-number" data-line-number="677"></td>
        <td id="LC677" class="blob-code js-file-line">     &quot;prompt_number&quot;: 13</td>
      </tr>
      <tr>
        <td id="L678" class="blob-num js-line-number" data-line-number="678"></td>
        <td id="LC678" class="blob-code js-file-line">    },</td>
      </tr>
      <tr>
        <td id="L679" class="blob-num js-line-number" data-line-number="679"></td>
        <td id="LC679" class="blob-code js-file-line">    {</td>
      </tr>
      <tr>
        <td id="L680" class="blob-num js-line-number" data-line-number="680"></td>
        <td id="LC680" class="blob-code js-file-line">     &quot;cell_type&quot;: &quot;code&quot;,</td>
      </tr>
      <tr>
        <td id="L681" class="blob-num js-line-number" data-line-number="681"></td>
        <td id="LC681" class="blob-code js-file-line">     &quot;collapsed&quot;: false,</td>
      </tr>
      <tr>
        <td id="L682" class="blob-num js-line-number" data-line-number="682"></td>
        <td id="LC682" class="blob-code js-file-line">     &quot;input&quot;: [</td>
      </tr>
      <tr>
        <td id="L683" class="blob-num js-line-number" data-line-number="683"></td>
        <td id="LC683" class="blob-code js-file-line">      &quot;v.dismat_doc().labels&quot;</td>
      </tr>
      <tr>
        <td id="L684" class="blob-num js-line-number" data-line-number="684"></td>
        <td id="LC684" class="blob-code js-file-line">     ],</td>
      </tr>
      <tr>
        <td id="L685" class="blob-num js-line-number" data-line-number="685"></td>
        <td id="LC685" class="blob-code js-file-line">     &quot;language&quot;: &quot;python&quot;,</td>
      </tr>
      <tr>
        <td id="L686" class="blob-num js-line-number" data-line-number="686"></td>
        <td id="LC686" class="blob-code js-file-line">     &quot;metadata&quot;: {},</td>
      </tr>
      <tr>
        <td id="L687" class="blob-num js-line-number" data-line-number="687"></td>
        <td id="LC687" class="blob-code js-file-line">     &quot;outputs&quot;: [</td>
      </tr>
      <tr>
        <td id="L688" class="blob-num js-line-number" data-line-number="688"></td>
        <td id="LC688" class="blob-code js-file-line">      {</td>
      </tr>
      <tr>
        <td id="L689" class="blob-num js-line-number" data-line-number="689"></td>
        <td id="LC689" class="blob-code js-file-line">       &quot;metadata&quot;: {},</td>
      </tr>
      <tr>
        <td id="L690" class="blob-num js-line-number" data-line-number="690"></td>
        <td id="LC690" class="blob-code js-file-line">       &quot;output_type&quot;: &quot;pyout&quot;,</td>
      </tr>
      <tr>
        <td id="L691" class="blob-num js-line-number" data-line-number="691"></td>
        <td id="LC691" class="blob-code js-file-line">       &quot;prompt_number&quot;: 14,</td>
      </tr>
      <tr>
        <td id="L692" class="blob-num js-line-number" data-line-number="692"></td>
        <td id="LC692" class="blob-code js-file-line">       &quot;text&quot;: [</td>
      </tr>
      <tr>
        <td id="L693" class="blob-num js-line-number" data-line-number="693"></td>
        <td id="LC693" class="blob-code js-file-line">        &quot;array([&#39;0&#39;, &#39;1&#39;, &#39;2&#39;, &#39;3&#39;, &#39;4&#39;, &#39;5&#39;, &#39;6&#39;, &#39;7&#39;, &#39;8&#39;, &#39;9&#39;], \n&quot;,</td>
      </tr>
      <tr>
        <td id="L694" class="blob-num js-line-number" data-line-number="694"></td>
        <td id="LC694" class="blob-code js-file-line">        &quot;      dtype=&#39;|S1&#39;)&quot;</td>
      </tr>
      <tr>
        <td id="L695" class="blob-num js-line-number" data-line-number="695"></td>
        <td id="LC695" class="blob-code js-file-line">       ]</td>
      </tr>
      <tr>
        <td id="L696" class="blob-num js-line-number" data-line-number="696"></td>
        <td id="LC696" class="blob-code js-file-line">      }</td>
      </tr>
      <tr>
        <td id="L697" class="blob-num js-line-number" data-line-number="697"></td>
        <td id="LC697" class="blob-code js-file-line">     ],</td>
      </tr>
      <tr>
        <td id="L698" class="blob-num js-line-number" data-line-number="698"></td>
        <td id="LC698" class="blob-code js-file-line">     &quot;prompt_number&quot;: 14</td>
      </tr>
      <tr>
        <td id="L699" class="blob-num js-line-number" data-line-number="699"></td>
        <td id="LC699" class="blob-code js-file-line">    },</td>
      </tr>
      <tr>
        <td id="L700" class="blob-num js-line-number" data-line-number="700"></td>
        <td id="LC700" class="blob-code js-file-line">    {</td>
      </tr>
      <tr>
        <td id="L701" class="blob-num js-line-number" data-line-number="701"></td>
        <td id="LC701" class="blob-code js-file-line">     &quot;cell_type&quot;: &quot;code&quot;,</td>
      </tr>
      <tr>
        <td id="L702" class="blob-num js-line-number" data-line-number="702"></td>
        <td id="LC702" class="blob-code js-file-line">     &quot;collapsed&quot;: false,</td>
      </tr>
      <tr>
        <td id="L703" class="blob-num js-line-number" data-line-number="703"></td>
        <td id="LC703" class="blob-code js-file-line">     &quot;input&quot;: [</td>
      </tr>
      <tr>
        <td id="L704" class="blob-num js-line-number" data-line-number="704"></td>
        <td id="LC704" class="blob-code js-file-line">      &quot;%matplotlib inline&quot;</td>
      </tr>
      <tr>
        <td id="L705" class="blob-num js-line-number" data-line-number="705"></td>
        <td id="LC705" class="blob-code js-file-line">     ],</td>
      </tr>
      <tr>
        <td id="L706" class="blob-num js-line-number" data-line-number="706"></td>
        <td id="LC706" class="blob-code js-file-line">     &quot;language&quot;: &quot;python&quot;,</td>
      </tr>
      <tr>
        <td id="L707" class="blob-num js-line-number" data-line-number="707"></td>
        <td id="LC707" class="blob-code js-file-line">     &quot;metadata&quot;: {},</td>
      </tr>
      <tr>
        <td id="L708" class="blob-num js-line-number" data-line-number="708"></td>
        <td id="LC708" class="blob-code js-file-line">     &quot;outputs&quot;: [],</td>
      </tr>
      <tr>
        <td id="L709" class="blob-num js-line-number" data-line-number="709"></td>
        <td id="LC709" class="blob-code js-file-line">     &quot;prompt_number&quot;: 15</td>
      </tr>
      <tr>
        <td id="L710" class="blob-num js-line-number" data-line-number="710"></td>
        <td id="LC710" class="blob-code js-file-line">    },</td>
      </tr>
      <tr>
        <td id="L711" class="blob-num js-line-number" data-line-number="711"></td>
        <td id="LC711" class="blob-code js-file-line">    {</td>
      </tr>
      <tr>
        <td id="L712" class="blob-num js-line-number" data-line-number="712"></td>
        <td id="LC712" class="blob-code js-file-line">     &quot;cell_type&quot;: &quot;code&quot;,</td>
      </tr>
      <tr>
        <td id="L713" class="blob-num js-line-number" data-line-number="713"></td>
        <td id="LC713" class="blob-code js-file-line">     &quot;collapsed&quot;: false,</td>
      </tr>
      <tr>
        <td id="L714" class="blob-num js-line-number" data-line-number="714"></td>
        <td id="LC714" class="blob-code js-file-line">     &quot;input&quot;: [</td>
      </tr>
      <tr>
        <td id="L715" class="blob-num js-line-number" data-line-number="715"></td>
        <td id="LC715" class="blob-code js-file-line">      &quot;p1 = v.logp_plot()&quot;</td>
      </tr>
      <tr>
        <td id="L716" class="blob-num js-line-number" data-line-number="716"></td>
        <td id="LC716" class="blob-code js-file-line">     ],</td>
      </tr>
      <tr>
        <td id="L717" class="blob-num js-line-number" data-line-number="717"></td>
        <td id="LC717" class="blob-code js-file-line">     &quot;language&quot;: &quot;python&quot;,</td>
      </tr>
      <tr>
        <td id="L718" class="blob-num js-line-number" data-line-number="718"></td>
        <td id="LC718" class="blob-code js-file-line">     &quot;metadata&quot;: {},</td>
      </tr>
      <tr>
        <td id="L719" class="blob-num js-line-number" data-line-number="719"></td>
        <td id="LC719" class="blob-code js-file-line">     &quot;outputs&quot;: [</td>
      </tr>
      <tr>
        <td id="L720" class="blob-num js-line-number" data-line-number="720"></td>
        <td id="LC720" class="blob-code js-file-line">      {</td>
      </tr>
      <tr>
        <td id="L721" class="blob-num js-line-number" data-line-number="721"></td>
        <td id="LC721" class="blob-code js-file-line">       &quot;metadata&quot;: {},</td>
      </tr>
      <tr>
        <td id="L722" class="blob-num js-line-number" data-line-number="722"></td>
        <td id="LC722" class="blob-code js-file-line">       &quot;output_type&quot;: &quot;display_data&quot;,</td>
      </tr>
      <tr>
        <td id="L723" class="blob-num js-line-number" data-line-number="723"></td>
        <td id="LC723" class="blob-code js-file-line">       &quot;png&quot;: &quot;iVBORw0KGgoAAAANSUhEUgAAAXoAAAEICAYAAABRSj9aAAAABHNCSVQICAgIfAhkiAAAAAlwSFlz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\nAOjhUOgBAHq4/w/0a9gvt9N+QQAAAABJRU5ErkJggg==\n&quot;,</td>
      </tr>
      <tr>
        <td id="L724" class="blob-num js-line-number" data-line-number="724"></td>
        <td id="LC724" class="blob-code js-file-line">       &quot;text&quot;: [</td>
      </tr>
      <tr>
        <td id="L725" class="blob-num js-line-number" data-line-number="725"></td>
        <td id="LC725" class="blob-code js-file-line">        &quot;&lt;matplotlib.figure.Figure at 0x244cf50&gt;&quot;</td>
      </tr>
      <tr>
        <td id="L726" class="blob-num js-line-number" data-line-number="726"></td>
        <td id="LC726" class="blob-code js-file-line">       ]</td>
      </tr>
      <tr>
        <td id="L727" class="blob-num js-line-number" data-line-number="727"></td>
        <td id="LC727" class="blob-code js-file-line">      }</td>
      </tr>
      <tr>
        <td id="L728" class="blob-num js-line-number" data-line-number="728"></td>
        <td id="LC728" class="blob-code js-file-line">     ],</td>
      </tr>
      <tr>
        <td id="L729" class="blob-num js-line-number" data-line-number="729"></td>
        <td id="LC729" class="blob-code js-file-line">     &quot;prompt_number&quot;: 16</td>
      </tr>
      <tr>
        <td id="L730" class="blob-num js-line-number" data-line-number="730"></td>
        <td id="LC730" class="blob-code js-file-line">    },</td>
      </tr>
      <tr>
        <td id="L731" class="blob-num js-line-number" data-line-number="731"></td>
        <td id="LC731" class="blob-code js-file-line">    {</td>
      </tr>
      <tr>
        <td id="L732" class="blob-num js-line-number" data-line-number="732"></td>
        <td id="LC732" class="blob-code js-file-line">     &quot;cell_type&quot;: &quot;code&quot;,</td>
      </tr>
      <tr>
        <td id="L733" class="blob-num js-line-number" data-line-number="733"></td>
        <td id="LC733" class="blob-code js-file-line">     &quot;collapsed&quot;: false,</td>
      </tr>
      <tr>
        <td id="L734" class="blob-num js-line-number" data-line-number="734"></td>
        <td id="LC734" class="blob-code js-file-line">     &quot;input&quot;: [</td>
      </tr>
      <tr>
        <td id="L735" class="blob-num js-line-number" data-line-number="735"></td>
        <td id="LC735" class="blob-code js-file-line">      &quot;p2 = v.topic_hist()&quot;</td>
      </tr>
      <tr>
        <td id="L736" class="blob-num js-line-number" data-line-number="736"></td>
        <td id="LC736" class="blob-code js-file-line">     ],</td>
      </tr>
      <tr>
        <td id="L737" class="blob-num js-line-number" data-line-number="737"></td>
        <td id="LC737" class="blob-code js-file-line">     &quot;language&quot;: &quot;python&quot;,</td>
      </tr>
      <tr>
        <td id="L738" class="blob-num js-line-number" data-line-number="738"></td>
        <td id="LC738" class="blob-code js-file-line">     &quot;metadata&quot;: {},</td>
      </tr>
      <tr>
        <td id="L739" class="blob-num js-line-number" data-line-number="739"></td>
        <td id="LC739" class="blob-code js-file-line">     &quot;outputs&quot;: [</td>
      </tr>
      <tr>
        <td id="L740" class="blob-num js-line-number" data-line-number="740"></td>
        <td id="LC740" class="blob-code js-file-line">      {</td>
      </tr>
      <tr>
        <td id="L741" class="blob-num js-line-number" data-line-number="741"></td>
        <td id="LC741" class="blob-code js-file-line">       &quot;metadata&quot;: {},</td>
      </tr>
      <tr>
        <td id="L742" class="blob-num js-line-number" data-line-number="742"></td>
        <td id="LC742" class="blob-code js-file-line">       &quot;output_type&quot;: &quot;display_data&quot;,</td>
      </tr>
      <tr>
        <td id="L743" class="blob-num js-line-number" data-line-number="743"></td>
        <td id="LC743" class="blob-code js-file-line">       &quot;png&quot;: &quot;iVBORw0KGgoAAAANSUhEUgAAAkcAAAJmCAYAAABWsyRkAAAABHNCSVQICAgIfAhkiAAAAAlwSFlz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\ngEAcAQAE4ggAIBBHAACBOAIACP4fUbSKWSu/xi8AAAAASUVORK5CYII=\n&quot;,</td>
      </tr>
      <tr>
        <td id="L744" class="blob-num js-line-number" data-line-number="744"></td>
        <td id="LC744" class="blob-code js-file-line">       &quot;text&quot;: [</td>
      </tr>
      <tr>
        <td id="L745" class="blob-num js-line-number" data-line-number="745"></td>
        <td id="LC745" class="blob-code js-file-line">        &quot;&lt;matplotlib.figure.Figure at 0x244c710&gt;&quot;</td>
      </tr>
      <tr>
        <td id="L746" class="blob-num js-line-number" data-line-number="746"></td>
        <td id="LC746" class="blob-code js-file-line">       ]</td>
      </tr>
      <tr>
        <td id="L747" class="blob-num js-line-number" data-line-number="747"></td>
        <td id="LC747" class="blob-code js-file-line">      }</td>
      </tr>
      <tr>
        <td id="L748" class="blob-num js-line-number" data-line-number="748"></td>
        <td id="LC748" class="blob-code js-file-line">     ],</td>
      </tr>
      <tr>
        <td id="L749" class="blob-num js-line-number" data-line-number="749"></td>
        <td id="LC749" class="blob-code js-file-line">     &quot;prompt_number&quot;: 17</td>
      </tr>
      <tr>
        <td id="L750" class="blob-num js-line-number" data-line-number="750"></td>
        <td id="LC750" class="blob-code js-file-line">    }</td>
      </tr>
      <tr>
        <td id="L751" class="blob-num js-line-number" data-line-number="751"></td>
        <td id="LC751" class="blob-code js-file-line">   ],</td>
      </tr>
      <tr>
        <td id="L752" class="blob-num js-line-number" data-line-number="752"></td>
        <td id="LC752" class="blob-code js-file-line">   &quot;metadata&quot;: {}</td>
      </tr>
      <tr>
        <td id="L753" class="blob-num js-line-number" data-line-number="753"></td>
        <td id="LC753" class="blob-code js-file-line">  }</td>
      </tr>
      <tr>
        <td id="L754" class="blob-num js-line-number" data-line-number="754"></td>
        <td id="LC754" class="blob-code js-file-line"> ]</td>
      </tr>
      <tr>
        <td id="L755" class="blob-num js-line-number" data-line-number="755"></td>
        <td id="LC755" class="blob-code js-file-line">}</td>
      </tr>
</table>

  </div>

  </div>
</div>

<a href="#jump-to-line" rel="facebox[.linejump]" data-hotkey="l" style="display:none">Jump to Line</a>
<div id="jump-to-line" style="display:none">
  <form accept-charset="UTF-8" class="js-jump-to-line-form">
    <input class="linejump-input js-jump-to-line-field" type="text" placeholder="Jump to line&hellip;" autofocus>
    <button type="submit" class="button">Go</button>
  </form>
</div>

        </div>

      </div><!-- /.repo-container -->
      <div class="modal-backdrop"></div>
    </div><!-- /.container -->
  </div><!-- /.site -->


    </div><!-- /.wrapper -->

      <div class="container">
  <div class="site-footer" role="contentinfo">
    <ul class="site-footer-links right">
      <li><a href="https://status.github.com/">Status</a></li>
      <li><a href="https://developer.github.com">API</a></li>
      <li><a href="http://training.github.com">Training</a></li>
      <li><a href="http://shop.github.com">Shop</a></li>
      <li><a href="/blog">Blog</a></li>
      <li><a href="/about">About</a></li>

    </ul>

    <a href="/" aria-label="Homepage">
      <span class="mega-octicon octicon-mark-github" title="GitHub"></span>
    </a>

    <ul class="site-footer-links">
      <li>&copy; 2014 <span title="0.09173s from github-fe116-cp1-prd.iad.github.net">GitHub</span>, Inc.</li>
        <li><a href="/site/terms">Terms</a></li>
        <li><a href="/site/privacy">Privacy</a></li>
        <li><a href="/security">Security</a></li>
        <li><a href="/contact">Contact</a></li>
    </ul>
  </div><!-- /.site-footer -->
</div><!-- /.container -->


    <div class="fullscreen-overlay js-fullscreen-overlay" id="fullscreen_overlay">
  <div class="fullscreen-container js-suggester-container">
    <div class="textarea-wrap">
      <textarea name="fullscreen-contents" id="fullscreen-contents" class="fullscreen-contents js-fullscreen-contents js-suggester-field" placeholder=""></textarea>
    </div>
  </div>
  <div class="fullscreen-sidebar">
    <a href="#" class="exit-fullscreen js-exit-fullscreen tooltipped tooltipped-w" aria-label="Exit Zen Mode">
      <span class="mega-octicon octicon-screen-normal"></span>
    </a>
    <a href="#" class="theme-switcher js-theme-switcher tooltipped tooltipped-w"
      aria-label="Switch themes">
      <span class="octicon octicon-color-mode"></span>
    </a>
  </div>
</div>



    <div id="ajax-error-message" class="flash flash-error">
      <span class="octicon octicon-alert"></span>
      <a href="#" class="octicon octicon-x flash-close js-ajax-error-dismiss" aria-label="Dismiss error"></a>
      Something went wrong with that request. Please try again.
    </div>


      <script crossorigin="anonymous" src="https://assets-cdn.github.com/assets/frameworks-dabc650f8a51dffd1d4376a3522cbda5536e4807e01d2a86ff7e60d8d6ee3029.js" type="text/javascript"></script>
      <script async="async" crossorigin="anonymous" src="https://assets-cdn.github.com/assets/github-d01013daa80c5a341ba3ddb684f2f26679eb369d67459151d5175a634a9e98a5.js" type="text/javascript"></script>
      
      
  </body>
</html>

